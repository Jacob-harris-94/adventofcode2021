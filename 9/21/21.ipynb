{
 "cells": [
  {
   "cell_type": "code",
   "execution_count": 12,
   "id": "7cd3dda8",
   "metadata": {},
   "outputs": [],
   "source": [
    "from itertools import product\n",
    "from collections import Counter, defaultdict"
   ]
  },
  {
   "cell_type": "code",
   "execution_count": 3,
   "id": "7cafba01",
   "metadata": {},
   "outputs": [],
   "source": [
    "# p1_start = 4\n",
    "# p2_start = 8\n",
    "\n",
    "p1_start = 4\n",
    "p2_start = 10"
   ]
  },
  {
   "cell_type": "code",
   "execution_count": 4,
   "id": "cb726a28",
   "metadata": {},
   "outputs": [],
   "source": [
    "def die_with_n_sides(n_sides):\n",
    "    while True:\n",
    "        for ii in range(n_sides):\n",
    "            yield ii + 1"
   ]
  },
  {
   "cell_type": "code",
   "execution_count": 5,
   "id": "b27cf41a",
   "metadata": {},
   "outputs": [],
   "source": [
    "def get_3(gen):\n",
    "    while True:\n",
    "        yield [next(gen), next(gen), next(gen)]"
   ]
  },
  {
   "cell_type": "code",
   "execution_count": 6,
   "id": "e3ff4531",
   "metadata": {},
   "outputs": [
    {
     "name": "stdout",
     "output_type": "stream",
     "text": [
      "[926, 1005] 855624\n",
      "Wall time: 0 ns\n"
     ]
    }
   ],
   "source": [
    "%%time\n",
    "\n",
    "scores = [0, 0]\n",
    "spaces = [p1_start, p2_start]\n",
    "for ii, rolls in enumerate(get_3(die_with_n_sides(100))):\n",
    "#     if ii == 8:\n",
    "#         break\n",
    "    player = ii % 2\n",
    "    \n",
    "    moves = sum(rolls)\n",
    "    spaces[player] = ((spaces[player] + moves -1) % 10 ) + 1\n",
    "    scores[player] += spaces[player]\n",
    "#     print(f\"{player=}\\t {rolls=}\\t {spaces[player]=}\")\n",
    "\n",
    "    if max(scores) >= 1000:\n",
    "        break\n",
    "        \n",
    "print(scores, min(scores) * (ii + 1) * 3)\n",
    "    "
   ]
  },
  {
   "cell_type": "markdown",
   "id": "80a7babf",
   "metadata": {},
   "source": [
    "# part 2"
   ]
  },
  {
   "cell_type": "markdown",
   "id": "b5a915c5",
   "metadata": {},
   "source": [
    "\n",
    "* keep track of the number of universes in which each possible score difference is achieved\n",
    "* at each turn, in each universe, 9 universes are generated, where the given player rolls `[1, 1, 1], [1, 1, 2], ... [3, 3, 3]`\n",
    "* for each player, keep track of the number of universes in which they are on a given space\n",
    "* for each player, keep track of the number of universes in which they have each score\n",
    "\n",
    "###  NOPE. each game ends when ANY player's score is geq 21. therefore, keep track of all PAIRS of scores `(p1_score, p2_score)`\n",
    "\n",
    "### need to keep track of number of universes at specific spaces?\n",
    "### need to keep track of number of universes with specific score pairs?\n",
    "\n",
    "\n",
    "### thoughts\n",
    "* new score delta depends only on what space a player lands on\n",
    "* a 'turn' can be considered to happen simultaneously across all universes\n",
    "* a 'turn' maps a count of universes with scores to a new count of universes with scores\n",
    "* ~ 100 possible space pairs\n",
    "* ~ 400 possible score pairs\n",
    "* therefore, ~40k possible (space, score) tuples\n",
    "* is there a way to reduce this? do these have to be kept track of together?\n",
    "    * space pair counts are sufficient to generate next iteration of space pair counts\n",
    "        * each pair `{(p1 space, p2 space): count}` --> turn p1 --> `{(p1 space + move_1, p2 space): += count * mult_2, (p1 space + move_2, p2 space): += count * mult_2}, (p1 space + move_3, p2 space): += count * mult_3}`\n",
    "    * \n",
    "\n",
    "\n",
    "### algorithm\n",
    "\n",
    "* keep track of the count of universes with each score pair\n",
    "* for each turn:\n",
    "    * for each score count:\n",
    "        * increase the number of universes "
   ]
  },
  {
   "cell_type": "code",
   "execution_count": 14,
   "id": "3fef5fe2",
   "metadata": {},
   "outputs": [
    {
     "data": {
      "text/plain": [
       "{1: {4: 1, 5: 3, 6: 6, 7: 7, 8: 6, 9: 3, 10: 1},\n",
       " 2: {5: 1, 6: 3, 7: 6, 8: 7, 9: 6, 10: 3, 1: 1},\n",
       " 3: {6: 1, 7: 3, 8: 6, 9: 7, 10: 6, 1: 3, 2: 1},\n",
       " 4: {7: 1, 8: 3, 9: 6, 10: 7, 1: 6, 2: 3, 3: 1},\n",
       " 5: {8: 1, 9: 3, 10: 6, 1: 7, 2: 6, 3: 3, 4: 1},\n",
       " 6: {9: 1, 10: 3, 1: 6, 2: 7, 3: 6, 4: 3, 5: 1},\n",
       " 7: {10: 1, 1: 3, 2: 6, 3: 7, 4: 6, 5: 3, 6: 1},\n",
       " 8: {1: 1, 2: 3, 3: 6, 4: 7, 5: 6, 6: 3, 7: 1},\n",
       " 9: {2: 1, 3: 3, 4: 6, 5: 7, 6: 6, 7: 3, 8: 1},\n",
       " 10: {3: 1, 4: 3, 5: 6, 6: 7, 7: 6, 8: 3, 9: 1}}"
      ]
     },
     "execution_count": 14,
     "metadata": {},
     "output_type": "execute_result"
    }
   ],
   "source": [
    "moves_count = Counter(sum(items) for items in product(*[[1, 2, 3]]*3))\n",
    "curr_space = 9\n",
    "\n",
    "lookup_mults = dict()\n",
    "for curr_space in range(1, 10 + 1):\n",
    "    spaces_count = {((curr_space + move - 1) % 10 + 1): count for move, count in moves_count.items()}\n",
    "    lookup_mults[curr_space] = spaces_count\n",
    "# moves_count, spaces_count\n",
    "lookup_mults"
   ]
  },
  {
   "cell_type": "code",
   "execution_count": 23,
   "id": "896f450a",
   "metadata": {},
   "outputs": [
    {
     "name": "stdout",
     "output_type": "stream",
     "text": [
      "defaultdict(<class 'int'>, {(4, 2, 20, 0): 1, (5, 2, 21, 0): 3, (6, 2, 22, 0): 6, (7, 2, 23, 0): 7, (8, 2, 24, 0): 6, (9, 2, 25, 0): 3, (10, 2, 26, 0): 1})\n"
     ]
    },
    {
     "data": {
      "text/plain": [
       "(defaultdict(int,\n",
       "             {(7, 2, 27, 0): 1,\n",
       "              (8, 2, 28, 0): 3,\n",
       "              (9, 2, 29, 0): 6,\n",
       "              (10, 2, 30, 0): 7,\n",
       "              (1, 2, 21, 0): 6,\n",
       "              (2, 2, 22, 0): 3,\n",
       "              (3, 2, 23, 0): 1}),\n",
       " 26,\n",
       " 0)"
      ]
     },
     "execution_count": 23,
     "metadata": {},
     "output_type": "execute_result"
    }
   ],
   "source": [
    "def update(universe_counts, whose_turn):\n",
    "    \"\"\" \n",
    "    * given a universe of counts, generate a new universe with updated counts\n",
    "    * 'end' games with max score >= 21\n",
    "    \n",
    "    universe_counts is a dict of {(p1 space, p2 space, p1 score, p2 score): count} \n",
    "    \"\"\"\n",
    "    updated = defaultdict(int)\n",
    "    p1_wins = 0\n",
    "    p2_wins = 0\n",
    "    for (p1_space, p2_space, p1_score, p2_score), count in universe_counts.items():\n",
    "        # TODO: skip the won games\n",
    "#         print((p1_space, p2_space, p1_score, p2_score), count)\n",
    "        if p1_score >= 21:\n",
    "            p1_wins += count\n",
    "            continue\n",
    "        elif p2_score >= 21:\n",
    "            p2_wins += count\n",
    "            continue\n",
    "        else:\n",
    "            if whose_turn == 0:\n",
    "                for space, mult in lookup_mults[p1_space].items():\n",
    "                    updated[(space, p2_space, p1_score + space, p2_score)] += mult * count\n",
    "            else:\n",
    "                for space, mult in lookup_mults[p2_space].items():\n",
    "                    updated[(p1_space, space, p1_score, p2_score + space)] += mult * count\n",
    "    return updated, p1_wins, p2_wins\n",
    "\n",
    "uni = {(1, 2, 16, 0): 1}\n",
    "u1, _, _ = update(uni, 0)\n",
    "print(u1)\n",
    "update(u1, 0)"
   ]
  },
  {
   "cell_type": "code",
   "execution_count": 31,
   "id": "79aec694",
   "metadata": {},
   "outputs": [
    {
     "name": "stdout",
     "output_type": "stream",
     "text": [
      "no changes at turn 20\n",
      "Wall time: 187 ms\n"
     ]
    },
    {
     "data": {
      "text/plain": [
       "(187451244607486, 183752194019471, 187451244607486)"
      ]
     },
     "execution_count": 31,
     "metadata": {},
     "output_type": "execute_result"
    }
   ],
   "source": [
    "%%time\n",
    "\n",
    "# uni_prev = {(4, 8, 0, 0): 1}\n",
    "uni_prev = {(4, 10, 0, 0): 1}\n",
    "\n",
    "wins_p1, wins_p2 = 0, 0\n",
    "for ii in range(24):\n",
    "    uni, wp1, wp2 = update(uni_prev, ii % 2)\n",
    "    wins_p1 += wp1\n",
    "    wins_p2 += wp2\n",
    "    if uni == uni_prev:\n",
    "        print(f\"no changes at turn {ii}\")\n",
    "        break\n",
    "    uni_prev = uni\n",
    "    \n",
    "wins_p1, wins_p2, max(wins_p1, wins_p2)"
   ]
  },
  {
   "cell_type": "code",
   "execution_count": null,
   "id": "faa45f4b",
   "metadata": {},
   "outputs": [],
   "source": []
  }
 ],
 "metadata": {
  "kernelspec": {
   "display_name": "Python 3 (ipykernel)",
   "language": "python",
   "name": "python3"
  },
  "language_info": {
   "codemirror_mode": {
    "name": "ipython",
    "version": 3
   },
   "file_extension": ".py",
   "mimetype": "text/x-python",
   "name": "python",
   "nbconvert_exporter": "python",
   "pygments_lexer": "ipython3",
   "version": "3.9.7"
  }
 },
 "nbformat": 4,
 "nbformat_minor": 5
}
