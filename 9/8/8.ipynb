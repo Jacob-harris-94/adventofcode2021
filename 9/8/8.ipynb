{
 "cells": [
  {
   "cell_type": "code",
   "execution_count": 1,
   "id": "714f53aa",
   "metadata": {},
   "outputs": [],
   "source": [
    "import numpy as np\n",
    "from collections import Counter"
   ]
  },
  {
   "cell_type": "code",
   "execution_count": 362,
   "id": "69e39419",
   "metadata": {},
   "outputs": [],
   "source": [
    "# SET THIS TO LOAD EXAMPLE DATA INSTEAD\n",
    "\n",
    "# example = True\n",
    "example_small = True\n",
    "# example = False\n",
    "\n",
    "if example_small:\n",
    "    fname = 'example_small.txt'\n",
    "elif example:\n",
    "    fname = 'example.txt'\n",
    "else:\n",
    "    fname = 'input.txt'\n",
    "\n",
    "with open(fname) as f:\n",
    "    lines = f.readlines()\n",
    "\n",
    "data = []\n",
    "for line in lines:\n",
    "#     print(line)\n",
    "#     print(line.split(' | '))\n",
    "#     a, b = line.split(' | ')\n",
    "    first, second = line.split(' | ')\n",
    "#     print(first, second)\n",
    "#     print([bunch.strip() for bunch in first.split(' ')])\n",
    "    data.append( ([bunch.strip() for bunch in first.split(' ')], [bunch.strip() for bunch in second.split(' ')]) )\n"
   ]
  },
  {
   "cell_type": "code",
   "execution_count": 363,
   "id": "4b6715a8",
   "metadata": {},
   "outputs": [
    {
     "data": {
      "text/plain": [
       "[(['acedgfb',\n",
       "   'cdfbe',\n",
       "   'gcdfa',\n",
       "   'fbcad',\n",
       "   'dab',\n",
       "   'cefabd',\n",
       "   'cdfgeb',\n",
       "   'eafb',\n",
       "   'cagedb',\n",
       "   'ab'],\n",
       "  ['cdfeb', 'fcadb', 'cdfeb', 'cdbaf'])]"
      ]
     },
     "execution_count": 363,
     "metadata": {},
     "output_type": "execute_result"
    }
   ],
   "source": [
    "\n",
    "data"
   ]
  },
  {
   "cell_type": "code",
   "execution_count": 226,
   "id": "1a2cf6b2",
   "metadata": {},
   "outputs": [
    {
     "name": "stdout",
     "output_type": "stream",
     "text": [
      "['fdgacbe', 'cefdb', 'cefbgd', 'gcbe']\n"
     ]
    }
   ],
   "source": [
    "for _, outputs in data[0:1]:\n",
    "    print(outputs)"
   ]
  },
  {
   "cell_type": "code",
   "execution_count": 227,
   "id": "5b07bb1f",
   "metadata": {},
   "outputs": [
    {
     "data": {
      "text/plain": [
       "26"
      ]
     },
     "execution_count": 227,
     "metadata": {},
     "output_type": "execute_result"
    }
   ],
   "source": [
    "sum([(len(signals) == 2 or len(signals) == 3 or len(signals) == 4 or len(signals) == 7) for _, outputs in data for signals in outputs ])"
   ]
  },
  {
   "cell_type": "code",
   "execution_count": 69,
   "id": "bc33a940",
   "metadata": {},
   "outputs": [
    {
     "name": "stdout",
     "output_type": "stream",
     "text": [
      "[[0 1 2 ... 4 5 6]\n",
      " [0 1 2 ... 4 6 5]\n",
      " [0 1 2 ... 5 4 6]\n",
      " ...\n",
      " [6 5 4 ... 1 2 0]\n",
      " [6 5 4 ... 2 0 1]\n",
      " [6 5 4 ... 2 1 0]]\n"
     ]
    }
   ],
   "source": [
    "# credit https://stackoverflow.com/a/40891978/16928241\n",
    "import numpy as np\n",
    "import itertools as it\n",
    "import math\n",
    "def myPerms(k):\n",
    "    f_k=math.factorial(k)\n",
    "#   A=np.empty((k,f_k))\n",
    "    A=np.empty((f_k,k))\n",
    "    for i,perm in enumerate(it.permutations(range(k))):\n",
    "        A[i,:] = perm\n",
    "#     A+=1\n",
    "    return A.astype(int)\n",
    "\n",
    "all_perms = myPerms(7)\n",
    "print(all_perms)"
   ]
  },
  {
   "cell_type": "code",
   "execution_count": 67,
   "id": "10da4a83",
   "metadata": {},
   "outputs": [
    {
     "data": {
      "text/plain": [
       "5040"
      ]
     },
     "execution_count": 67,
     "metadata": {},
     "output_type": "execute_result"
    }
   ],
   "source": [
    "len(all_perms)"
   ]
  },
  {
   "cell_type": "code",
   "execution_count": null,
   "id": "62bff50a",
   "metadata": {},
   "outputs": [],
   "source": [
    "# method 2..."
   ]
  },
  {
   "cell_type": "code",
   "execution_count": null,
   "id": "08c5e575",
   "metadata": {},
   "outputs": [],
   "source": [
    "# all_perms is 'orders' of signals to the same segments...\n",
    "# some_array[order] = segments\n"
   ]
  },
  {
   "cell_type": "code",
   "execution_count": 269,
   "id": "e8af7611",
   "metadata": {},
   "outputs": [
    {
     "data": {
      "text/plain": [
       "[[0, 1, 2, 4, 5, 6],\n",
       " [2, 5],\n",
       " [0, 2, 3, 4, 6],\n",
       " [0, 2, 3, 5, 6],\n",
       " [1, 2, 3, 5],\n",
       " [0, 1, 3, 5, 6],\n",
       " [0, 1, 3, 4, 5, 6],\n",
       " [0, 2, 5],\n",
       " [0, 1, 2, 3, 4, 5, 6],\n",
       " [0, 1, 2, 3, 5, 6]]"
      ]
     },
     "execution_count": 269,
     "metadata": {},
     "output_type": "execute_result"
    }
   ],
   "source": [
    "num_patterns = [\n",
    "    'abcefg', # 0\n",
    "    'cf', # 1\n",
    "    'acdeg', # 2\n",
    "    'acdfg', # 3\n",
    "    'bcdf', # 4\n",
    "    'abdfg', # 5\n",
    "    'abdefg', # 6\n",
    "    'acf', # 7\n",
    "    'abcdefg', # 8\n",
    "    'abcdfg', # 9\n",
    "]\n",
    "\n",
    "num_patterns_2 = [[[ord(char)-97 for char in pattern] for pattern in num_patterns] for perm in all_perms[0:2]]\n",
    "num_patterns_2 = [[ord(char)-97 for char in pattern] for pattern in num_patterns]\n",
    "\n",
    "# 7 should go from acf to acg in perms[1]\n",
    "\n",
    "num_patterns_2"
   ]
  },
  {
   "cell_type": "code",
   "execution_count": 283,
   "id": "8bc15b2a",
   "metadata": {},
   "outputs": [
    {
     "data": {
      "text/plain": [
       "array([[1, 0, 1, 1, 0, 1, 1, 1, 1, 1],\n",
       "       [1, 0, 0, 0, 1, 1, 1, 0, 1, 1],\n",
       "       [1, 1, 1, 1, 1, 0, 0, 1, 1, 1],\n",
       "       [0, 0, 1, 1, 1, 1, 1, 0, 1, 1],\n",
       "       [1, 0, 1, 0, 0, 0, 1, 0, 1, 0],\n",
       "       [1, 1, 0, 1, 1, 1, 1, 1, 1, 1],\n",
       "       [1, 0, 1, 1, 0, 1, 1, 0, 1, 1]])"
      ]
     },
     "execution_count": 283,
     "metadata": {},
     "output_type": "execute_result"
    }
   ],
   "source": [
    "# signals x digit array\n",
    "signals_digit = np.full((7, 10), 0)\n",
    "\n",
    "for digit, segments in enumerate(num_patterns_2):\n",
    "    signals_digit[segments, digit] = 1\n",
    "\n",
    "\n",
    "signals_digit = np.array(signals_digit)\n",
    "signals_digit"
   ]
  },
  {
   "cell_type": "code",
   "execution_count": 286,
   "id": "e0d154f9",
   "metadata": {},
   "outputs": [
    {
     "data": {
      "text/plain": [
       "array([[1, 0, 1, 1, 0, 1, 1, 1, 1, 1],\n",
       "       [1, 0, 0, 0, 1, 1, 1, 0, 1, 1],\n",
       "       [1, 1, 1, 1, 1, 0, 0, 1, 1, 1],\n",
       "       [0, 0, 1, 1, 1, 1, 1, 0, 1, 1],\n",
       "       [1, 0, 1, 0, 0, 0, 1, 0, 1, 0],\n",
       "       [1, 1, 0, 1, 1, 1, 1, 1, 1, 1],\n",
       "       [1, 0, 1, 1, 0, 1, 1, 0, 1, 1]])"
      ]
     },
     "execution_count": 286,
     "metadata": {},
     "output_type": "execute_result"
    }
   ],
   "source": [
    "np.eye(7).astype(int).dot(signals_digit)"
   ]
  },
  {
   "cell_type": "code",
   "execution_count": 338,
   "id": "a2c58b64",
   "metadata": {},
   "outputs": [
    {
     "name": "stdout",
     "output_type": "stream",
     "text": [
      "(7, 5040, 10)\n"
     ]
    },
    {
     "data": {
      "text/plain": [
       "(7, 10)"
      ]
     },
     "execution_count": 338,
     "metadata": {},
     "output_type": "execute_result"
    }
   ],
   "source": [
    "temp_all_signals_digts = np.eye(7).astype(int)[:,all_perms].dot(signals_digit)\n",
    "print(temp_all_signals_digts.shape)\n",
    "temp_all_signals_digts.transpose([1, 0, 2])[0].shape"
   ]
  },
  {
   "cell_type": "code",
   "execution_count": 339,
   "id": "3231d3dd",
   "metadata": {},
   "outputs": [
    {
     "name": "stdout",
     "output_type": "stream",
     "text": [
      "['abcefg', 'cf', 'acdeg', 'acdfg', 'bcdf', 'abdfg', 'abdefg', 'acf', 'abcdefg', 'abcdfg']\n"
     ]
    }
   ],
   "source": [
    "temp_signals_digits = np.eye(7).astype(int).dot(signals_digit)\n",
    "\n",
    "print([\"\".join([letter for letter, include in zip('abcdefg', row) if include]) for row in temp_signals_digts.T])\n"
   ]
  },
  {
   "cell_type": "code",
   "execution_count": 342,
   "id": "1ce917cb",
   "metadata": {},
   "outputs": [
    {
     "data": {
      "text/plain": [
       "[['abcefg',\n",
       "  'cf',\n",
       "  'acdeg',\n",
       "  'acdfg',\n",
       "  'bcdf',\n",
       "  'abdfg',\n",
       "  'abdefg',\n",
       "  'acf',\n",
       "  'abcdefg',\n",
       "  'abcdfg'],\n",
       " ['abcefg',\n",
       "  'cg',\n",
       "  'acdef',\n",
       "  'acdfg',\n",
       "  'bcdg',\n",
       "  'abdfg',\n",
       "  'abdefg',\n",
       "  'acg',\n",
       "  'abcdefg',\n",
       "  'abcdfg']]"
      ]
     },
     "execution_count": 342,
     "metadata": {},
     "output_type": "execute_result"
    }
   ],
   "source": [
    "all_signals_digits = np.eye(7).astype(int)[:,all_perms].dot(signals_digit).transpose([1, 0, 2])\n",
    "\n",
    "# print(all_signals_digts[:,0,:])\n",
    "\n",
    "all_perm_maps = [[\"\".join([letter for letter, include in zip('abcdefg', row) if include]) for row in perm.T] for perm in all_signals_digits]\n",
    "all_perm_maps[0:2]"
   ]
  },
  {
   "cell_type": "code",
   "execution_count": null,
   "id": "bb324a3b",
   "metadata": {},
   "outputs": [],
   "source": [
    "np.eye(7).astype(int)[:,all_perms[1]].dot(signals_digit)"
   ]
  },
  {
   "cell_type": "code",
   "execution_count": null,
   "id": "5318198d",
   "metadata": {},
   "outputs": [],
   "source": []
  },
  {
   "cell_type": "markdown",
   "id": "ed8559e0",
   "metadata": {},
   "source": [
    "# all garbage below"
   ]
  },
  {
   "cell_type": "code",
   "execution_count": 155,
   "id": "e6771f58",
   "metadata": {
    "scrolled": true
   },
   "outputs": [
    {
     "data": {
      "text/plain": [
       "(array([['a', 'b', 'c', 'e', 'f', 'g', ' '],\n",
       "        ['c', 'f', ' ', ' ', ' ', ' ', ' '],\n",
       "        ['a', 'c', 'd', 'e', 'g', ' ', ' '],\n",
       "        ['a', 'c', 'd', 'f', 'g', ' ', ' '],\n",
       "        ['b', 'c', 'd', 'f', ' ', ' ', ' '],\n",
       "        ['a', 'b', 'd', 'f', 'g', ' ', ' '],\n",
       "        ['a', 'b', 'd', 'e', 'f', 'g', ' '],\n",
       "        ['a', 'c', 'f', ' ', ' ', ' ', ' '],\n",
       "        ['a', 'b', 'c', 'd', 'e', 'f', 'g'],\n",
       "        ['a', 'b', 'c', 'd', 'f', 'g', ' ']], dtype='<U1'),\n",
       " (10, 7))"
      ]
     },
     "execution_count": 155,
     "metadata": {},
     "output_type": "execute_result"
    }
   ],
   "source": [
    "num_patterns = [\n",
    "    'abcefg', # 0\n",
    "    'cf', # 1\n",
    "    'acdeg', # 2\n",
    "    'acdfg', # 3\n",
    "    'bcdf', # 4\n",
    "    'abdfg', # 5\n",
    "    'abdefg', # 6\n",
    "    'acf', # 7\n",
    "    'abcdefg', # 8\n",
    "    'abcdfg', # 9\n",
    "]\n",
    "\n",
    "num_patterns = np.array([list(pat+\" \"*(7-len(pat))) for pat in num_patterns])\n",
    "num_patterns, num_patterns.shape"
   ]
  },
  {
   "cell_type": "code",
   "execution_count": 157,
   "id": "9ba790ae",
   "metadata": {},
   "outputs": [
    {
     "data": {
      "text/plain": [
       "array([['a', 'b', 'c', ..., 'e', 'f', 'g'],\n",
       "       ['a', 'b', 'c', ..., 'e', 'g', 'f'],\n",
       "       ['a', 'b', 'c', ..., 'f', 'e', 'g'],\n",
       "       ...,\n",
       "       ['g', 'f', 'e', ..., 'b', 'c', 'a'],\n",
       "       ['g', 'f', 'e', ..., 'c', 'a', 'b'],\n",
       "       ['g', 'f', 'e', ..., 'c', 'b', 'a']], dtype='<U1')"
      ]
     },
     "execution_count": 157,
     "metadata": {},
     "output_type": "execute_result"
    }
   ],
   "source": [
    "test = np.array(['a', 'b', 'c', 'd', 'e', 'f', 'g'])\n",
    "test[all_perms]"
   ]
  },
  {
   "cell_type": "code",
   "execution_count": 161,
   "id": "bf934eaa",
   "metadata": {},
   "outputs": [
    {
     "data": {
      "text/plain": [
       "array([[['a', 'b', 'c', ..., 'f', 'g', ' '],\n",
       "        ['a', 'b', 'c', ..., 'f', ' ', 'g'],\n",
       "        ['a', 'b', 'c', ..., 'g', 'f', ' '],\n",
       "        ...,\n",
       "        [' ', 'g', 'f', ..., 'b', 'c', 'a'],\n",
       "        [' ', 'g', 'f', ..., 'c', 'a', 'b'],\n",
       "        [' ', 'g', 'f', ..., 'c', 'b', 'a']],\n",
       "\n",
       "       [['c', 'f', ' ', ..., ' ', ' ', ' '],\n",
       "        ['c', 'f', ' ', ..., ' ', ' ', ' '],\n",
       "        ['c', 'f', ' ', ..., ' ', ' ', ' '],\n",
       "        ...,\n",
       "        [' ', ' ', ' ', ..., 'f', ' ', 'c'],\n",
       "        [' ', ' ', ' ', ..., ' ', 'c', 'f'],\n",
       "        [' ', ' ', ' ', ..., ' ', 'f', 'c']],\n",
       "\n",
       "       [['a', 'c', 'd', ..., 'g', ' ', ' '],\n",
       "        ['a', 'c', 'd', ..., 'g', ' ', ' '],\n",
       "        ['a', 'c', 'd', ..., ' ', 'g', ' '],\n",
       "        ...,\n",
       "        [' ', ' ', 'g', ..., 'c', 'd', 'a'],\n",
       "        [' ', ' ', 'g', ..., 'd', 'a', 'c'],\n",
       "        [' ', ' ', 'g', ..., 'd', 'c', 'a']],\n",
       "\n",
       "       ...,\n",
       "\n",
       "       [['a', 'c', 'f', ..., ' ', ' ', ' '],\n",
       "        ['a', 'c', 'f', ..., ' ', ' ', ' '],\n",
       "        ['a', 'c', 'f', ..., ' ', ' ', ' '],\n",
       "        ...,\n",
       "        [' ', ' ', ' ', ..., 'c', 'f', 'a'],\n",
       "        [' ', ' ', ' ', ..., 'f', 'a', 'c'],\n",
       "        [' ', ' ', ' ', ..., 'f', 'c', 'a']],\n",
       "\n",
       "       [['a', 'b', 'c', ..., 'e', 'f', 'g'],\n",
       "        ['a', 'b', 'c', ..., 'e', 'g', 'f'],\n",
       "        ['a', 'b', 'c', ..., 'f', 'e', 'g'],\n",
       "        ...,\n",
       "        ['g', 'f', 'e', ..., 'b', 'c', 'a'],\n",
       "        ['g', 'f', 'e', ..., 'c', 'a', 'b'],\n",
       "        ['g', 'f', 'e', ..., 'c', 'b', 'a']],\n",
       "\n",
       "       [['a', 'b', 'c', ..., 'f', 'g', ' '],\n",
       "        ['a', 'b', 'c', ..., 'f', ' ', 'g'],\n",
       "        ['a', 'b', 'c', ..., 'g', 'f', ' '],\n",
       "        ...,\n",
       "        [' ', 'g', 'f', ..., 'b', 'c', 'a'],\n",
       "        [' ', 'g', 'f', ..., 'c', 'a', 'b'],\n",
       "        [' ', 'g', 'f', ..., 'c', 'b', 'a']]], dtype='<U1')"
      ]
     },
     "execution_count": 161,
     "metadata": {},
     "output_type": "execute_result"
    }
   ],
   "source": [
    "num_patterns[:,all_perms]"
   ]
  },
  {
   "cell_type": "code",
   "execution_count": 166,
   "id": "c6278620",
   "metadata": {},
   "outputs": [
    {
     "data": {
      "text/plain": [
       "(10, 5040, 7)"
      ]
     },
     "execution_count": 166,
     "metadata": {},
     "output_type": "execute_result"
    }
   ],
   "source": [
    "num_patterns[:,all_perms].shape"
   ]
  },
  {
   "cell_type": "code",
   "execution_count": 364,
   "id": "530ae9ca",
   "metadata": {},
   "outputs": [
    {
     "data": {
      "text/plain": [
       "['abcdefg',\n",
       " 'bcdef',\n",
       " 'acdfg',\n",
       " 'abcdf',\n",
       " 'abd',\n",
       " 'abcdef',\n",
       " 'bcdefg',\n",
       " 'abef',\n",
       " 'abcdeg',\n",
       " 'ab']"
      ]
     },
     "execution_count": 364,
     "metadata": {},
     "output_type": "execute_result"
    }
   ],
   "source": [
    "# for _, outputs in data[0:1]:\n",
    "#     print(outputs)\n",
    "\n",
    "test = [\"\".join(sorted(outs)) for outs in data[0][0]]\n",
    "test"
   ]
  },
  {
   "cell_type": "code",
   "execution_count": 365,
   "id": "a260a6ed",
   "metadata": {},
   "outputs": [
    {
     "name": "stdout",
     "output_type": "stream",
     "text": [
      "success! ['abcdeg', 'ab', 'acdfg', 'abcdf', 'abef', 'bcdef', 'bcdefg', 'abd', 'abcdefg', 'abcdef'] 2536 10\n"
     ]
    }
   ],
   "source": [
    "# [sum(ta in pattern for ta in test) for pattern in all_patterns]\n",
    "max_matches = 0\n",
    "for perm_idx, pattern in enumerate(all_perm_maps):\n",
    "    matches = sum(ta in pattern for ta in test)\n",
    "    if matches > max_matches:\n",
    "#         print(matches)\n",
    "        max_matches = matches\n",
    "#         print(pattern)\n",
    "    if matches == len(test):\n",
    "        print(\"success!\", pattern, perm_idx, matches)\n",
    "            "
   ]
  },
  {
   "cell_type": "code",
   "execution_count": null,
   "id": "aa931c8e",
   "metadata": {},
   "outputs": [],
   "source": []
  },
  {
   "cell_type": "code",
   "execution_count": null,
   "id": "2a48c4a6",
   "metadata": {},
   "outputs": [],
   "source": [
    "def get_map(inputs):\n",
    "    "
   ]
  },
  {
   "cell_type": "code",
   "execution_count": 83,
   "id": "f17ae29e",
   "metadata": {},
   "outputs": [
    {
     "ename": "NameError",
     "evalue": "name 'get_map' is not defined",
     "output_type": "error",
     "traceback": [
      "\u001b[1;31m---------------------------------------------------------------------------\u001b[0m",
      "\u001b[1;31mNameError\u001b[0m                                 Traceback (most recent call last)",
      "\u001b[1;32m~\\AppData\\Local\\Temp/ipykernel_14584/3647507608.py\u001b[0m in \u001b[0;36m<module>\u001b[1;34m\u001b[0m\n\u001b[0;32m      1\u001b[0m \u001b[0mresult\u001b[0m \u001b[1;33m=\u001b[0m \u001b[1;36m0\u001b[0m\u001b[1;33m\u001b[0m\u001b[1;33m\u001b[0m\u001b[0m\n\u001b[0;32m      2\u001b[0m \u001b[1;32mfor\u001b[0m \u001b[0minputs\u001b[0m\u001b[1;33m,\u001b[0m \u001b[0moutputs\u001b[0m \u001b[1;32min\u001b[0m \u001b[0mdata\u001b[0m\u001b[1;33m:\u001b[0m\u001b[1;33m\u001b[0m\u001b[1;33m\u001b[0m\u001b[0m\n\u001b[1;32m----> 3\u001b[1;33m     \u001b[0msignal_map\u001b[0m \u001b[1;33m=\u001b[0m \u001b[0mget_map\u001b[0m\u001b[1;33m(\u001b[0m\u001b[0minputs\u001b[0m\u001b[1;33m)\u001b[0m\u001b[1;33m\u001b[0m\u001b[1;33m\u001b[0m\u001b[0m\n\u001b[0m\u001b[0;32m      4\u001b[0m     \u001b[0mresult\u001b[0m \u001b[1;33m+=\u001b[0m \u001b[0msum\u001b[0m\u001b[1;33m(\u001b[0m\u001b[0mmap\u001b[0m\u001b[1;33m(\u001b[0m\u001b[0msignal_map\u001b[0m\u001b[1;33m,\u001b[0m \u001b[0moutputs\u001b[0m\u001b[1;33m)\u001b[0m\u001b[1;33m)\u001b[0m\u001b[1;33m\u001b[0m\u001b[1;33m\u001b[0m\u001b[0m\n\u001b[0;32m      5\u001b[0m \u001b[0mresult\u001b[0m\u001b[1;33m\u001b[0m\u001b[1;33m\u001b[0m\u001b[0m\n",
      "\u001b[1;31mNameError\u001b[0m: name 'get_map' is not defined"
     ]
    }
   ],
   "source": [
    "result = 0\n",
    "for inputs, outputs in data:\n",
    "    signal_map = get_map(inputs)\n",
    "    result += sum(map(signal_map, outputs))\n",
    "result"
   ]
  }
 ],
 "metadata": {
  "kernelspec": {
   "display_name": "Python 3 (ipykernel)",
   "language": "python",
   "name": "python3"
  },
  "language_info": {
   "codemirror_mode": {
    "name": "ipython",
    "version": 3
   },
   "file_extension": ".py",
   "mimetype": "text/x-python",
   "name": "python",
   "nbconvert_exporter": "python",
   "pygments_lexer": "ipython3",
   "version": "3.9.7"
  }
 },
 "nbformat": 4,
 "nbformat_minor": 5
}
