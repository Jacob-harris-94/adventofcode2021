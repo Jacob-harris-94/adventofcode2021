{
 "cells": [
  {
   "cell_type": "code",
   "execution_count": 157,
   "id": "d132fb12",
   "metadata": {},
   "outputs": [],
   "source": [
    "import json\n",
    "import math"
   ]
  },
  {
   "cell_type": "code",
   "execution_count": 134,
   "id": "6003251f",
   "metadata": {},
   "outputs": [],
   "source": [
    "fname = 'example.txt'\n",
    "with open(fname) as f:\n",
    "    lines = f.readlines()\n",
    "data = lines[0].strip()"
   ]
  },
  {
   "cell_type": "code",
   "execution_count": 183,
   "id": "3d0b28a3",
   "metadata": {
    "scrolled": true
   },
   "outputs": [],
   "source": [
    "def parse_packet(packet_string, start_idx=0):\n",
    "    \n",
    "    bits_consumed = 0\n",
    "    \n",
    "    version = int(packet_string[start_idx:start_idx+3], 2)\n",
    "    type_ID = int(packet_string[start_idx+3:start_idx+6], 2)\n",
    "    bits_consumed += 6\n",
    "    \n",
    "    # literal \n",
    "    if type_ID == 4:\n",
    "        bits = \"\"\n",
    "        while True:\n",
    "            begin_idx, end_idx = start_idx + bits_consumed, start_idx + bits_consumed + 5\n",
    "            encoded_bits = packet_string[begin_idx:end_idx]\n",
    "            group = encoded_bits[0]\n",
    "            bits += encoded_bits[1:]\n",
    "            bits_consumed += 5\n",
    "            if group == '0':\n",
    "                break\n",
    "\n",
    "        literal = int(bits, 2)\n",
    "        return {\"type\": \"literal\", \"type_ID\": type_ID, \"version\": version, \"literal\": literal}, bits_consumed\n",
    "\n",
    "    # operator packet\n",
    "    else:\n",
    "        length_type_ID = int(packet_string[start_idx+6], 2)\n",
    "        bits_consumed += 1\n",
    "        if length_type_ID == 0:\n",
    "            # length in bits of sub packets\n",
    "            # get next 15\n",
    "            sub_packets_length_in_bits = int(packet_string[start_idx+7:start_idx+7+15], 2)\n",
    "            bits_consumed += 15\n",
    "    \n",
    "            sub_packet_bits_consumed = 0\n",
    "            sub_packets = []\n",
    "            while sub_packet_bits_consumed < sub_packets_length_in_bits:\n",
    "                sub_packet_start_idx = start_idx + bits_consumed + sub_packet_bits_consumed\n",
    "                packet_content, num_bits = parse_packet(packet_string, start_idx=sub_packet_start_idx)\n",
    "                sub_packet_bits_consumed += num_bits\n",
    "                sub_packets.append(packet_content)\n",
    "                                                        \n",
    "            return {\"type\": \"operator\", \"type_ID\": type_ID, \"version\": version, \"sub_packets\": sub_packets}, bits_consumed + sub_packet_bits_consumed\n",
    "            \n",
    "        else:\n",
    "            # number of subpackets, get next 11\n",
    "            num_sub_packets = int(packet_string[start_idx+7:start_idx+7+11], 2)\n",
    "            bits_consumed += 11\n",
    "            \n",
    "            sub_packet_bits_consumed = 0\n",
    "            sub_packets = []\n",
    "            while len(sub_packets) < num_sub_packets:\n",
    "                sub_packet_start_idx = start_idx + bits_consumed + sub_packet_bits_consumed\n",
    "                packet_content, num_bits = parse_packet(packet_string, start_idx=sub_packet_start_idx)\n",
    "                sub_packet_bits_consumed += num_bits\n",
    "                sub_packets.append(packet_content)\n",
    "                                                 \n",
    "            return {\"type\": \"operator\", \"type_ID\": type_ID, \"version\": version, \"sub_packets\": sub_packets}, bits_consumed + sub_packet_bits_consumed\n",
    "\n",
    "def sum_versions(parsed):\n",
    "    packet = parsed\n",
    "    if 'sub_packets' in packet:\n",
    "        return packet['version'] + sum([sum_versions(sp) for sp in packet['sub_packets']]) \n",
    "    else:\n",
    "        return packet['version']\n",
    "\n",
    "def hex_to_bin(hex_string):\n",
    "    char_lookup = {'0': \"0000\", '1': \"0001\", '2': \"0010\", '3': \"0011\", '4': \"0100\", '5': \"0101\", '6': \"0110\", '7': \"0111\", '8': \"1000\", '9': \"1001\", 'A': \"1010\", 'B': \"1011\", 'C': \"1100\", 'D': \"1101\", 'E': \"1110\", 'F': \"1111\"}\n",
    "    bin_string = \"\"\n",
    "    for char in hex_string:\n",
    "        bin_string += char_lookup[char]\n",
    "    return bin_string\n",
    "\n",
    "def eval_exprs(packet):\n",
    "    \n",
    "    operator_lookup = {\n",
    "        0: sum,\n",
    "        1: math.prod,\n",
    "        2: min,\n",
    "        3: max,\n",
    "        5: lambda arr: int(arr[0] > arr[1]),\n",
    "        6: lambda arr: int(arr[0] < arr[1]),\n",
    "        7: lambda arr: int(arr[0] == arr[1])\n",
    "    }\n",
    "    \n",
    "    if packet[\"type\"] == \"operator\":\n",
    "        values = [eval_exprs(sp) for sp in packet['sub_packets']]\n",
    "        return operator_lookup[packet[\"type_ID\"]](values)\n",
    "    else:\n",
    "        return packet['literal']"
   ]
  },
  {
   "cell_type": "code",
   "execution_count": 184,
   "id": "84a6f71c",
   "metadata": {},
   "outputs": [
    {
     "name": "stdout",
     "output_type": "stream",
     "text": [
      "part 1: 957\n",
      "part 2: 744953223228\n"
     ]
    }
   ],
   "source": [
    "packet_string = hex_to_bin(data)\n",
    "parsed, _ = parse_packet(packet_string)\n",
    "# print(json.dumps(parsed, indent=2))\n",
    "print(f\"part 1: {sum_versions(parsed)}\")\n",
    "print(f\"part 2: {eval_exprs(parsed)}\")"
   ]
  },
  {
   "cell_type": "code",
   "execution_count": null,
   "id": "fad8eabd",
   "metadata": {},
   "outputs": [],
   "source": []
  }
 ],
 "metadata": {
  "kernelspec": {
   "display_name": "Python 3 (ipykernel)",
   "language": "python",
   "name": "python3"
  },
  "language_info": {
   "codemirror_mode": {
    "name": "ipython",
    "version": 3
   },
   "file_extension": ".py",
   "mimetype": "text/x-python",
   "name": "python",
   "nbconvert_exporter": "python",
   "pygments_lexer": "ipython3",
   "version": "3.9.7"
  }
 },
 "nbformat": 4,
 "nbformat_minor": 5
}
