{
 "cells": [
  {
   "cell_type": "code",
   "execution_count": null,
   "id": "8faeffda",
   "metadata": {},
   "outputs": [],
   "source": []
  },
  {
   "cell_type": "code",
   "execution_count": 1,
   "id": "976ee51d",
   "metadata": {},
   "outputs": [],
   "source": [
    "data = \"target area: x=282..314, y=-80..-45\"\n",
    "example = \"target area: x=20..30, y=-10..-5\""
   ]
  },
  {
   "cell_type": "code",
   "execution_count": 74,
   "id": "b4266bfc",
   "metadata": {},
   "outputs": [
    {
     "data": {
      "text/plain": [
       "([282, 314], [-80, -45])"
      ]
     },
     "execution_count": 74,
     "metadata": {},
     "output_type": "execute_result"
    }
   ],
   "source": [
    "vals = data\n",
    "# vals = example\n",
    "x_range, y_range = [[int(num.split(',')[0]) for num in numpair] for numpair in [nums.split(\"..\") for nums in vals.split('=')[-2:]]]\n",
    "x_range, y_range"
   ]
  },
  {
   "cell_type": "code",
   "execution_count": 77,
   "id": "02ae96c0",
   "metadata": {},
   "outputs": [
    {
     "name": "stdout",
     "output_type": "stream",
     "text": [
      "3160\n",
      "1928\n",
      "Wall time: 1.91 s\n"
     ]
    }
   ],
   "source": [
    "%%time\n",
    "\n",
    "good_vel = set() \n",
    "for yy in range(-80, 314):\n",
    "    for xx in range(315):\n",
    "        x_vel = xx\n",
    "        y_vel = yy\n",
    "        x_pos = 0\n",
    "        y_pos = 0\n",
    "        \n",
    "        while x_pos <= x_range[1] and y_pos >= y_range[0]:\n",
    "            x_pos += x_vel\n",
    "            y_pos += y_vel\n",
    "            if x_vel > 0:\n",
    "                x_vel += -1\n",
    "            y_vel += -1\n",
    "            \n",
    "            if x_range[0] <= x_pos <= x_range[1] and y_range[0] <= y_pos <= y_range[1]:\n",
    "                good_vel.add((xx, yy))\n",
    "\n",
    "highest_y = 0\n",
    "for xx, yy in good_vel:\n",
    "    x_vel = xx\n",
    "    y_vel = yy\n",
    "    x_pos = 0\n",
    "    y_pos = 0\n",
    "    \n",
    "    while x_pos <= x_range[1] and y_pos >= y_range[0]:\n",
    "        x_pos += x_vel\n",
    "        y_pos += y_vel\n",
    "        if x_vel > 0:\n",
    "            x_vel += -1\n",
    "        y_vel += -1\n",
    "\n",
    "        if y_pos > highest_y:\n",
    "            highest_y = y_pos\n",
    "        \n",
    "        if x_range[0] <= x_pos <= x_range[1] and y_range[0] <= y_pos <= y_range[1]:\n",
    "            break\n",
    "\n",
    "print(highest_y)\n",
    "print(len(good_vel))"
   ]
  },
  {
   "cell_type": "code",
   "execution_count": null,
   "id": "892ad17d",
   "metadata": {},
   "outputs": [],
   "source": []
  }
 ],
 "metadata": {
  "kernelspec": {
   "display_name": "Python 3 (ipykernel)",
   "language": "python",
   "name": "python3"
  },
  "language_info": {
   "codemirror_mode": {
    "name": "ipython",
    "version": 3
   },
   "file_extension": ".py",
   "mimetype": "text/x-python",
   "name": "python",
   "nbconvert_exporter": "python",
   "pygments_lexer": "ipython3",
   "version": "3.9.7"
  }
 },
 "nbformat": 4,
 "nbformat_minor": 5
}
