{
 "cells": [
  {
   "cell_type": "code",
   "execution_count": 36,
   "id": "714f53aa",
   "metadata": {},
   "outputs": [],
   "source": [
    "import numpy as np"
   ]
  },
  {
   "cell_type": "code",
   "execution_count": 173,
   "id": "69e39419",
   "metadata": {},
   "outputs": [],
   "source": [
    "# SET THIS TO LOAD EXAMPLE DATA INSTEAD\n",
    "# example = True\n",
    "example = False\n",
    "\n",
    "if example:\n",
    "    fname = 'example.txt'\n",
    "else:\n",
    "    fname = 'input.txt'\n",
    "\n",
    "with open(fname) as f:\n",
    "    lines = f.readlines()\n",
    "\n",
    "# \n",
    "def load_line(line): \n",
    "    return [int(char) for char in line.strip()]\n",
    "    \n",
    "inputs = [load_line(line) for line in lines]"
   ]
  },
  {
   "cell_type": "code",
   "execution_count": 174,
   "id": "0995cc0a",
   "metadata": {},
   "outputs": [
    {
     "data": {
      "text/plain": [
       "array([[0, 1, 0, ..., 0, 0, 0],\n",
       "       [0, 1, 0, ..., 1, 1, 0],\n",
       "       [0, 1, 0, ..., 0, 1, 1],\n",
       "       ...,\n",
       "       [0, 1, 0, ..., 1, 1, 0],\n",
       "       [0, 1, 1, ..., 1, 1, 0],\n",
       "       [0, 1, 1, ..., 0, 1, 0]])"
      ]
     },
     "execution_count": 174,
     "metadata": {},
     "output_type": "execute_result"
    }
   ],
   "source": [
    "inputs = np.array(inputs)\n",
    "inputs"
   ]
  },
  {
   "cell_type": "code",
   "execution_count": 175,
   "id": "c4e59930",
   "metadata": {},
   "outputs": [
    {
     "data": {
      "text/plain": [
       "array([0.498, 0.483, 0.484, 0.509, 0.508, 0.495, 0.491, 0.497, 0.507,\n",
       "       0.495, 0.505, 0.498])"
      ]
     },
     "execution_count": 175,
     "metadata": {},
     "output_type": "execute_result"
    }
   ],
   "source": [
    "inputs.mean(axis=0)"
   ]
  },
  {
   "cell_type": "code",
   "execution_count": 164,
   "id": "da6afe30",
   "metadata": {},
   "outputs": [
    {
     "data": {
      "text/plain": [
       "(array([False, False, False,  True,  True, False, False, False,  True,\n",
       "        False,  True, False]),\n",
       " array([ True,  True,  True, False, False,  True,  True,  True, False,\n",
       "         True, False,  True]))"
      ]
     },
     "execution_count": 164,
     "metadata": {},
     "output_type": "execute_result"
    }
   ],
   "source": [
    "\n",
    "a = inputs.mean(axis=0) >= 0.5\n",
    "# b = ~a.copy()\n",
    "b = inputs.mean(axis=0) <= 0.5\n",
    "\n",
    "a, b"
   ]
  },
  {
   "cell_type": "code",
   "execution_count": 165,
   "id": "49b92651",
   "metadata": {},
   "outputs": [],
   "source": [
    "a_dec = int(\"\".join(['1' if char else '0' for char in a]), 2)\n",
    "b_dec = int(\"\".join(['1' if char else '0' for char in b]), 2)\n",
    "prod = a_dec * b_dec"
   ]
  },
  {
   "cell_type": "code",
   "execution_count": 166,
   "id": "850698f3",
   "metadata": {},
   "outputs": [
    {
     "data": {
      "text/plain": [
       "1458194"
      ]
     },
     "execution_count": 166,
     "metadata": {},
     "output_type": "execute_result"
    }
   ],
   "source": [
    "prod"
   ]
  },
  {
   "cell_type": "code",
   "execution_count": 167,
   "id": "2343e8c0",
   "metadata": {},
   "outputs": [
    {
     "data": {
      "text/plain": [
       "array([False, False, False,  True,  True, False, False, False,  True,\n",
       "       False,  True, False])"
      ]
     },
     "execution_count": 167,
     "metadata": {},
     "output_type": "execute_result"
    }
   ],
   "source": [
    "a"
   ]
  },
  {
   "cell_type": "code",
   "execution_count": 168,
   "id": "c5bd7cb9",
   "metadata": {},
   "outputs": [
    {
     "data": {
      "text/plain": [
       "array([False, False, False, False, False, False, False,  True, False,\n",
       "        True,  True, False, False,  True,  True,  True, False,  True,\n",
       "       False, False, False,  True, False, False, False, False, False,\n",
       "       False,  True, False, False, False, False,  True, False,  True,\n",
       "        True,  True, False, False, False, False, False, False, False,\n",
       "        True, False, False, False, False,  True, False, False, False,\n",
       "       False, False, False, False,  True, False, False, False,  True,\n",
       "        True, False, False, False,  True, False, False,  True, False,\n",
       "       False, False, False, False,  True,  True, False, False, False,\n",
       "       False, False, False, False,  True,  True, False, False,  True,\n",
       "       False,  True, False, False,  True, False,  True, False, False,\n",
       "       False, False,  True, False, False, False, False,  True,  True,\n",
       "       False,  True, False, False,  True,  True, False,  True, False,\n",
       "       False, False,  True, False, False, False, False, False,  True,\n",
       "        True,  True, False, False, False, False, False, False, False,\n",
       "       False,  True, False, False, False, False, False, False, False,\n",
       "       False, False, False, False, False, False, False, False, False,\n",
       "       False, False, False, False, False,  True, False, False, False,\n",
       "        True,  True,  True, False, False, False, False, False, False,\n",
       "       False, False,  True, False, False,  True, False,  True,  True,\n",
       "       False, False, False, False, False,  True, False,  True, False,\n",
       "       False, False, False, False,  True, False, False, False,  True,\n",
       "       False, False, False, False, False, False, False, False, False,\n",
       "       False,  True,  True, False,  True, False, False, False, False,\n",
       "       False,  True,  True, False,  True,  True, False,  True, False,\n",
       "        True, False,  True, False, False, False, False,  True,  True,\n",
       "       False,  True,  True,  True, False, False,  True, False,  True,\n",
       "       False, False, False,  True,  True, False, False, False, False,\n",
       "       False, False, False,  True, False, False, False, False, False,\n",
       "       False, False, False,  True, False, False, False,  True, False,\n",
       "        True, False, False, False, False, False, False, False, False,\n",
       "        True, False, False, False, False, False, False, False, False,\n",
       "        True, False, False, False, False, False, False, False, False,\n",
       "       False, False, False,  True,  True, False, False, False, False,\n",
       "       False, False, False,  True, False,  True,  True,  True, False,\n",
       "        True,  True, False, False, False,  True, False, False, False,\n",
       "       False,  True, False, False, False, False, False,  True,  True,\n",
       "       False, False,  True, False, False, False, False, False, False,\n",
       "       False, False, False, False, False,  True, False, False,  True,\n",
       "       False,  True, False, False, False, False,  True,  True,  True,\n",
       "       False, False,  True, False, False, False,  True, False, False,\n",
       "       False,  True, False, False, False,  True, False, False,  True,\n",
       "        True,  True, False, False, False, False, False,  True, False,\n",
       "       False,  True, False, False,  True, False, False, False, False,\n",
       "       False,  True, False,  True, False, False,  True,  True, False,\n",
       "       False, False, False, False, False, False, False, False, False,\n",
       "       False, False,  True, False, False, False, False,  True,  True,\n",
       "       False, False, False, False, False,  True,  True,  True, False,\n",
       "       False, False, False, False,  True, False, False, False, False,\n",
       "       False, False, False, False, False, False, False, False, False,\n",
       "       False, False,  True, False,  True, False, False, False, False,\n",
       "       False, False, False, False, False, False,  True,  True,  True,\n",
       "        True, False, False, False, False, False, False,  True, False,\n",
       "       False, False, False,  True, False, False, False, False, False,\n",
       "        True,  True, False,  True, False, False, False, False, False,\n",
       "        True, False, False, False,  True, False, False, False, False,\n",
       "       False, False, False, False, False, False,  True, False, False,\n",
       "       False, False, False, False, False, False, False,  True, False,\n",
       "        True, False, False,  True, False,  True, False, False, False,\n",
       "       False, False, False, False, False, False, False, False, False,\n",
       "       False, False, False, False, False, False, False, False,  True,\n",
       "       False,  True, False, False,  True,  True, False, False,  True,\n",
       "        True,  True, False, False, False, False, False, False, False,\n",
       "       False, False,  True,  True, False, False, False,  True, False,\n",
       "       False, False, False, False,  True, False, False, False, False,\n",
       "       False, False, False, False,  True,  True, False,  True,  True,\n",
       "       False,  True, False,  True, False, False, False, False, False,\n",
       "       False,  True, False, False, False, False,  True,  True, False,\n",
       "       False, False, False,  True, False, False, False, False, False,\n",
       "       False, False,  True, False, False, False, False, False, False,\n",
       "        True, False, False, False, False, False, False, False, False,\n",
       "       False,  True, False, False, False, False,  True,  True, False,\n",
       "       False, False, False, False, False,  True, False, False, False,\n",
       "       False, False, False, False,  True,  True, False, False,  True,\n",
       "        True, False, False, False, False, False, False, False, False,\n",
       "       False, False, False, False, False, False, False, False, False,\n",
       "       False,  True, False, False,  True, False, False, False,  True,\n",
       "       False, False, False,  True, False,  True, False, False, False,\n",
       "        True, False, False, False,  True, False, False, False, False,\n",
       "       False, False, False, False,  True, False, False, False, False,\n",
       "       False,  True, False, False,  True,  True,  True, False, False,\n",
       "       False, False,  True, False, False,  True, False,  True, False,\n",
       "        True, False, False, False, False, False,  True, False, False,\n",
       "        True, False, False, False, False, False, False, False, False,\n",
       "       False, False, False,  True,  True, False,  True, False,  True,\n",
       "       False, False, False,  True, False, False,  True, False, False,\n",
       "       False, False, False,  True,  True, False, False, False, False,\n",
       "       False, False, False,  True,  True, False, False, False, False,\n",
       "        True, False,  True, False, False, False,  True, False,  True,\n",
       "       False, False,  True, False, False, False,  True, False, False,\n",
       "       False,  True,  True, False, False, False, False, False, False,\n",
       "       False, False,  True, False, False, False, False,  True, False,\n",
       "       False, False, False, False,  True, False, False, False, False,\n",
       "       False, False,  True, False,  True, False, False, False,  True,\n",
       "       False, False,  True, False, False, False, False, False, False,\n",
       "        True, False, False, False,  True, False,  True, False, False,\n",
       "       False,  True, False, False, False, False, False, False, False,\n",
       "       False, False, False, False, False, False, False, False, False,\n",
       "       False, False, False, False, False, False,  True,  True, False,\n",
       "       False,  True,  True, False, False, False, False,  True, False,\n",
       "        True, False, False,  True, False, False, False,  True, False,\n",
       "       False, False,  True, False, False, False, False,  True, False,\n",
       "       False,  True,  True, False, False, False,  True,  True,  True,\n",
       "        True, False, False,  True, False, False, False, False, False,\n",
       "       False, False, False, False, False, False, False, False,  True,\n",
       "        True, False, False, False,  True,  True, False, False, False,\n",
       "       False,  True, False, False, False, False, False,  True, False,\n",
       "        True, False,  True,  True,  True, False, False,  True, False,\n",
       "       False, False,  True, False, False,  True,  True, False,  True,\n",
       "       False, False,  True,  True, False,  True, False, False,  True,\n",
       "       False,  True, False,  True, False,  True, False, False, False,\n",
       "       False])"
      ]
     },
     "execution_count": 168,
     "metadata": {},
     "output_type": "execute_result"
    }
   ],
   "source": [
    "(inputs[:,0] == 1) & (inputs[:,1] == 0)"
   ]
  },
  {
   "cell_type": "code",
   "execution_count": null,
   "id": "0b606ec2",
   "metadata": {},
   "outputs": [],
   "source": []
  },
  {
   "cell_type": "code",
   "execution_count": 169,
   "id": "36017129",
   "metadata": {},
   "outputs": [
    {
     "name": "stdout",
     "output_type": "stream",
     "text": [
      "0\n",
      "1\n",
      "2\n",
      "3\n",
      "4\n",
      "5\n",
      "6\n",
      "7\n",
      "8\n",
      "9\n",
      "[0 0 0 1 1 0 0 0 1 0 0 1]\n",
      "393\n"
     ]
    }
   ],
   "source": [
    "idx = np.alltrue(inputs.shape)\n",
    "for ii in range(inputs.shape[1]):\n",
    "    print(ii)\n",
    "    idx &= (inputs[:,ii] == a[ii])\n",
    "    if idx.sum() == 1:\n",
    "        break\n",
    "\n",
    "a_ans = inputs[idx][0]\n",
    "print(a_ans)\n",
    "c_dec = int(\"\".join(['1' if char else '0' for char in a_ans]), 2)\n",
    "print(c_dec)"
   ]
  },
  {
   "cell_type": "code",
   "execution_count": 170,
   "id": "c71a0337",
   "metadata": {},
   "outputs": [
    {
     "name": "stdout",
     "output_type": "stream",
     "text": [
      "[0 0 1 1 0 0 0 1 0 1 0 1]\n",
      "789\n"
     ]
    }
   ],
   "source": [
    "idx = np.array([True] * len(inputs))\n",
    "for ii in range(inputs.shape[1]):\n",
    "    mc = inputs[idx, ii].mean(axis=0) >= 0.5 # new most common\n",
    "    idx &= (inputs[:,ii] == mc)\n",
    "    if idx.sum() == 1:\n",
    "        break\n",
    "\n",
    "a_ans = inputs[idx][0]\n",
    "print(a_ans)\n",
    "c_dec = int(\"\".join(['1' if char else '0' for char in a_ans]), 2)\n",
    "print(c_dec)"
   ]
  },
  {
   "cell_type": "code",
   "execution_count": 171,
   "id": "b07b5d04",
   "metadata": {},
   "outputs": [
    {
     "name": "stdout",
     "output_type": "stream",
     "text": [
      "ii=0, idx.sum()=498\n",
      "ii=1, idx.sum()=246\n",
      "ii=2, idx.sum()=114\n",
      "ii=3, idx.sum()=56\n",
      "ii=4, idx.sum()=24\n",
      "ii=5, idx.sum()=10\n",
      "ii=6, idx.sum()=4\n",
      "ii=7, idx.sum()=2\n",
      "ii=8, idx.sum()=1\n",
      "[1 1 1 0 0 0 0 0 0 0 1 0]\n",
      "3586\n"
     ]
    }
   ],
   "source": [
    "idx = np.array([True] * len(inputs))\n",
    "for ii in range(inputs.shape[1]):\n",
    "\n",
    "    lc = inputs[idx, ii].mean(axis=0) < 0.5\n",
    "#     print(f\"{mc=}\")\n",
    "    #\n",
    "    idx &= (inputs[:,ii] == lc)\n",
    "    print(f\"{ii=}, {idx.sum()=}\")\n",
    "    if idx.sum() == 1:\n",
    "        break\n",
    "\n",
    "b_ans = inputs[idx][0]\n",
    "print(b_ans)\n",
    "d_dec = int(\"\".join(['1' if char else '0' for char in b_ans]), 2)\n",
    "print(d_dec)"
   ]
  },
  {
   "cell_type": "code",
   "execution_count": 172,
   "id": "6ad1f4ec",
   "metadata": {},
   "outputs": [
    {
     "data": {
      "text/plain": [
       "2829354"
      ]
     },
     "execution_count": 172,
     "metadata": {},
     "output_type": "execute_result"
    }
   ],
   "source": [
    "c_dec * d_dec"
   ]
  },
  {
   "cell_type": "code",
   "execution_count": null,
   "id": "ba131328",
   "metadata": {},
   "outputs": [],
   "source": []
  }
 ],
 "metadata": {
  "kernelspec": {
   "display_name": "Python 3 (ipykernel)",
   "language": "python",
   "name": "python3"
  },
  "language_info": {
   "codemirror_mode": {
    "name": "ipython",
    "version": 3
   },
   "file_extension": ".py",
   "mimetype": "text/x-python",
   "name": "python",
   "nbconvert_exporter": "python",
   "pygments_lexer": "ipython3",
   "version": "3.9.7"
  }
 },
 "nbformat": 4,
 "nbformat_minor": 5
}
