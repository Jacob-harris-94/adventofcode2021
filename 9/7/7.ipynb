{
 "cells": [
  {
   "cell_type": "code",
   "execution_count": 1,
   "id": "714f53aa",
   "metadata": {},
   "outputs": [],
   "source": [
    "import numpy as np\n",
    "from collections import Counter"
   ]
  },
  {
   "cell_type": "code",
   "execution_count": 31,
   "id": "69e39419",
   "metadata": {},
   "outputs": [],
   "source": [
    "# SET THIS TO LOAD EXAMPLE DATA INSTEAD\n",
    "# example = True\n",
    "example = False\n",
    "\n",
    "if example:\n",
    "    fname = 'example.txt'\n",
    "else:\n",
    "    fname = 'input.txt'\n",
    "\n",
    "with open(fname) as f:\n",
    "    lines = f.readlines()\n",
    "\n",
    "line = lines[0]\n",
    "    \n",
    "inputs = [int(char.strip()) for char in line.split(',')]"
   ]
  },
  {
   "cell_type": "code",
   "execution_count": 32,
   "id": "6462c8e9",
   "metadata": {},
   "outputs": [
    {
     "data": {
      "text/plain": [
       "(0, 1892)"
      ]
     },
     "execution_count": 32,
     "metadata": {},
     "output_type": "execute_result"
    }
   ],
   "source": [
    "inputs = np.array(inputs)\n",
    "inputs.min(), inputs.max()"
   ]
  },
  {
   "cell_type": "code",
   "execution_count": 33,
   "id": "7ff634f7",
   "metadata": {},
   "outputs": [
    {
     "data": {
      "text/plain": [
       "array([[0, 0, 0, ..., 0, 0, 0],\n",
       "       [0, 0, 0, ..., 0, 0, 0],\n",
       "       [0, 0, 0, ..., 0, 0, 0],\n",
       "       ...,\n",
       "       [0, 0, 0, ..., 0, 0, 0],\n",
       "       [0, 0, 0, ..., 0, 0, 0],\n",
       "       [0, 0, 0, ..., 0, 0, 0]])"
      ]
     },
     "execution_count": 33,
     "metadata": {},
     "output_type": "execute_result"
    }
   ],
   "source": [
    "diff = inputs.max()-inputs.min()\n",
    "costs = np.full((len(inputs), diff), 0)\n",
    "costs"
   ]
  },
  {
   "cell_type": "code",
   "execution_count": 35,
   "id": "541623b9",
   "metadata": {},
   "outputs": [
    {
     "name": "stdout",
     "output_type": "stream",
     "text": [
      "position: 474\t fuel: 96798233\n",
      "Wall time: 60 ms\n"
     ]
    }
   ],
   "source": [
    "%%time\n",
    "start = inputs.min()\n",
    "for ii in range(diff):\n",
    "    costs[:,ii] = np.abs(inputs.copy() - (start+ii)) * (np.abs(inputs.copy() - (start+ii)) + 1) / 2\n",
    "\n",
    "minidx = np.argmin(costs.sum(axis=0))\n",
    "print(f\"position: {minidx+start}\\t fuel: {costs.sum(axis=0)[minidx]}\")"
   ]
  },
  {
   "cell_type": "code",
   "execution_count": null,
   "id": "29b261b7",
   "metadata": {},
   "outputs": [],
   "source": [
    "start = inputs.min()\n",
    "for ii in range(diff):\n",
    "    costs[:,ii] = np.abs(inputs.copy() - (start+ii))\n",
    "#     print(f\"{(start+ii)} : {costs[:,ii].sum()}\")\n",
    "\n",
    "minidx = np.argmin(costs.sum(axis=0))\n",
    "print(f\"position: {minidx+start}\\t fuel: {costs.sum(axis=0)[minidx]}\")"
   ]
  }
 ],
 "metadata": {
  "kernelspec": {
   "display_name": "Python 3 (ipykernel)",
   "language": "python",
   "name": "python3"
  },
  "language_info": {
   "codemirror_mode": {
    "name": "ipython",
    "version": 3
   },
   "file_extension": ".py",
   "mimetype": "text/x-python",
   "name": "python",
   "nbconvert_exporter": "python",
   "pygments_lexer": "ipython3",
   "version": "3.9.7"
  }
 },
 "nbformat": 4,
 "nbformat_minor": 5
}
