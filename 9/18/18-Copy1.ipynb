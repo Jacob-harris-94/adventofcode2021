{
 "cells": [
  {
   "cell_type": "code",
   "execution_count": 49,
   "id": "66658bb8",
   "metadata": {},
   "outputs": [],
   "source": [
    "# keep track of two lists (or a list of pairs) which have number and depth.\n",
    "# adjacent numbers at the same depth are paired. \n",
    "# two numbers at depth 4 are elligible for explode\n",
    "    # this can be found easily by depth list\n",
    "    # explode can be carried out by referencing indices"
   ]
  },
  {
   "cell_type": "code",
   "execution_count": 3,
   "id": "7841489d",
   "metadata": {},
   "outputs": [],
   "source": [
    "def parse_sfn(sfn):\n",
    "    values = []\n",
    "    depths = []\n",
    "    depth = 0\n",
    "    for char in sfn:\n",
    "        if char == '[':\n",
    "            depth += 1\n",
    "        elif char == ']':\n",
    "            depth -= 1\n",
    "        elif char == ',':\n",
    "            continue\n",
    "        else:\n",
    "            values.append(int(char))\n",
    "            depths.append(depth)\n",
    "    return values, depths"
   ]
  },
  {
   "cell_type": "code",
   "execution_count": 4,
   "id": "74fe822c",
   "metadata": {},
   "outputs": [],
   "source": [
    "def find_explode(depths):\n",
    "    for ii, pair in enumerate(zip(depths, depths[1:])):\n",
    "        if pair == (5, 5):\n",
    "            return ii\n",
    "    return None\n",
    "\n",
    "def explode(values, depths, idx):\n",
    "    # idx is the first of the pair\n",
    "    left, right = values[idx], values[idx + 1]\n",
    "#     print(f\"{left=}, {right=}\")\n",
    "    # add to left and right if they exist\n",
    "    if idx > 0:\n",
    "        values[idx - 1] += left\n",
    "    if idx < len(values) - 2:\n",
    "        values[idx + 2] += right\n",
    "    # replace pair with 0\n",
    "    \n",
    "    values[idx] = 0\n",
    "    del values[idx + 1]\n",
    "    \n",
    "    depths[idx] -= 1\n",
    "    del depths[idx + 1]"
   ]
  },
  {
   "cell_type": "code",
   "execution_count": 5,
   "id": "922e6c27",
   "metadata": {},
   "outputs": [],
   "source": [
    "def find_split(values):\n",
    "    for ii, val in enumerate(values):\n",
    "        if val >= 10:\n",
    "            return ii\n",
    "    return None\n",
    "\n",
    "def split(values, depths, idx):\n",
    "    to_split = values[idx]\n",
    "    \n",
    "    down = round(to_split / 2 - 0.1)\n",
    "    up = round(to_split / 2 + 0.1)\n",
    "    \n",
    "    values[idx] = down\n",
    "    values.insert(idx + 1, up)\n",
    "    \n",
    "    depths[idx] += 1\n",
    "    depths.insert(idx + 1, depths[idx])"
   ]
  },
  {
   "cell_type": "code",
   "execution_count": 15,
   "id": "f2a13d8b",
   "metadata": {},
   "outputs": [],
   "source": [
    "def reduce(values, depths):\n",
    "    stuff_to_do = True\n",
    "    while stuff_to_do:\n",
    "        stuff_to_do = False\n",
    "        exp_idx = find_explode(depths)\n",
    "        split_idx = find_split(values)\n",
    "        if exp_idx is not None:\n",
    "    #         print(\"sploding\")\n",
    "            stuff_to_do = True\n",
    "            explode(values, depths, exp_idx)\n",
    "        elif split_idx is not None:\n",
    "    #         print(\"splitting\")\n",
    "            stuff_to_do = True\n",
    "            split(values, depths, split_idx)\n",
    "#     return values, depths"
   ]
  },
  {
   "cell_type": "code",
   "execution_count": 34,
   "id": "432df591",
   "metadata": {},
   "outputs": [],
   "source": [
    "def find_pair(depths):\n",
    "    for ii, pair in enumerate(zip(depths, depths[1:])):\n",
    "        if pair[0] == pair[1]:\n",
    "            return ii\n",
    "    return None\n",
    "\n",
    "def magnitude(values, depths):\n",
    "    values = values.copy()\n",
    "    depths = depths.copy()\n",
    "    \n",
    "    while(len(values) > 1):\n",
    "        pair_idx = find_pair(depths)\n",
    "        if pair_idx is not None:\n",
    "            left_idx, right_idx = pair_idx, pair_idx + 1\n",
    "            mag = 3 * values[left_idx] + 2 * values[right_idx]\n",
    "            values[left_idx] = mag\n",
    "            del values[right_idx]\n",
    "            depths[left_idx] -= 1\n",
    "            del depths[right_idx]\n",
    "    return values[0]"
   ]
  },
  {
   "cell_type": "code",
   "execution_count": 22,
   "id": "db5470a4",
   "metadata": {},
   "outputs": [
    {
     "name": "stdout",
     "output_type": "stream",
     "text": [
      "[143]\n",
      "[1384]\n",
      "[445]\n",
      "[791]\n",
      "[1137]\n",
      "[3488]\n"
     ]
    },
    {
     "data": {
      "text/plain": [
       "True"
      ]
     },
     "execution_count": 22,
     "metadata": {},
     "output_type": "execute_result"
    }
   ],
   "source": [
    "all([\n",
    "magnitude(*parse_sfn(\"[[1,2],[[3,4],5]]\")) == 143,\n",
    "magnitude(*parse_sfn(\"[[[[0,7],4],[[7,8],[6,0]]],[8,1]]\")) == 1384,\n",
    "magnitude(*parse_sfn(\"[[[[1,1],[2,2]],[3,3]],[4,4]]\")) == 445,\n",
    "magnitude(*parse_sfn(\"[[[[3,0],[5,3]],[4,4]],[5,5]]\")) == 791,\n",
    "magnitude(*parse_sfn(\"[[[[5,0],[7,4]],[5,5]],[6,6]]\")) == 1137,\n",
    "magnitude(*parse_sfn(\"[[[[8,7],[7,7]],[[8,6],[7,7]]],[[[0,7],[6,6]],[8,7]]]\")) == 3488,\n",
    "])\n"
   ]
  },
  {
   "cell_type": "code",
   "execution_count": 17,
   "id": "d6eeb267",
   "metadata": {},
   "outputs": [
    {
     "data": {
      "text/plain": [
       "([1, 2, 3, 4, 5], [2, 2, 3, 3, 2])"
      ]
     },
     "execution_count": 17,
     "metadata": {},
     "output_type": "execute_result"
    }
   ],
   "source": [
    "def add_sfn(sfn1, sfn2):\n",
    "    \n",
    "    if sfn1 is None:\n",
    "        return sfn2\n",
    "    elif sfn2 is None:\n",
    "        return sfn1\n",
    "    \n",
    "    v1, d1 = sfn1\n",
    "    v2, d2 = sfn2\n",
    "    \n",
    "    return v1 + v2, [depth + 1 for depth in d1 + d2]\n",
    "\n",
    "add_sfn(parse_sfn(\"[1,2]\"), parse_sfn(\"[[3,4],5]\"))"
   ]
  },
  {
   "cell_type": "code",
   "execution_count": 30,
   "id": "0de85e79",
   "metadata": {},
   "outputs": [],
   "source": [
    "# fname = 'example.txt'\n",
    "fname = 'input.txt'\n",
    "with open(fname) as f:\n",
    "    lines = f.readlines()\n",
    "data = [line.strip() for line in lines]"
   ]
  },
  {
   "cell_type": "code",
   "execution_count": 35,
   "id": "9e0c242e",
   "metadata": {},
   "outputs": [
    {
     "data": {
      "text/plain": [
       "3411"
      ]
     },
     "execution_count": 35,
     "metadata": {},
     "output_type": "execute_result"
    }
   ],
   "source": [
    "running_sum = None\n",
    "for sfn in data:\n",
    "    vals_depths = parse_sfn(sfn)\n",
    "#     print(f\"adding {vals_depths} to {running_sum}\")\n",
    "    running_sum = add_sfn(running_sum, vals_depths)\n",
    "#     print(f\"sum: {running_sum}\")\n",
    "    reduce(*running_sum)\n",
    "#     print(f\"sum: {running_sum}\")\n",
    "\n",
    "magnitude(*running_sum)"
   ]
  },
  {
   "cell_type": "code",
   "execution_count": 36,
   "id": "03be4612",
   "metadata": {},
   "outputs": [
    {
     "name": "stdout",
     "output_type": "stream",
     "text": [
      "4680\n"
     ]
    }
   ],
   "source": [
    "max_sum = 0\n",
    "for ii in range(len(data)):\n",
    "    for jj in range(len(data)):\n",
    "            add_result = add_sfn(parse_sfn(data[ii]), parse_sfn(data[jj]))\n",
    "            reduce(*add_result)\n",
    "            max_sum = max(magnitude(*add_result), max_sum)\n",
    "        \n",
    "print(max_sum)"
   ]
  },
  {
   "cell_type": "code",
   "execution_count": null,
   "id": "958868ee",
   "metadata": {},
   "outputs": [],
   "source": []
  }
 ],
 "metadata": {
  "kernelspec": {
   "display_name": "Python 3 (ipykernel)",
   "language": "python",
   "name": "python3"
  },
  "language_info": {
   "codemirror_mode": {
    "name": "ipython",
    "version": 3
   },
   "file_extension": ".py",
   "mimetype": "text/x-python",
   "name": "python",
   "nbconvert_exporter": "python",
   "pygments_lexer": "ipython3",
   "version": "3.9.7"
  }
 },
 "nbformat": 4,
 "nbformat_minor": 5
}
