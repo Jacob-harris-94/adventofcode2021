{
 "cells": [
  {
   "cell_type": "code",
   "execution_count": 1,
   "id": "10ce9f6f",
   "metadata": {},
   "outputs": [],
   "source": [
    "import numpy as np\n",
    "from itertools import permutations, product\n",
    "from collections import Counter, defaultdict"
   ]
  },
  {
   "cell_type": "code",
   "execution_count": 2,
   "id": "6003251f",
   "metadata": {},
   "outputs": [],
   "source": [
    "# fname = 'example_short.txt'\n",
    "# fname = 'example.txt'\n",
    "fname = 'input.txt'\n",
    "with open(fname) as f:\n",
    "    lines = f.readlines()\n",
    "\n",
    "lines\n",
    "\n",
    "scanners = []\n",
    "start, end = 0, 0\n",
    "for ii, line in enumerate(lines + [\"\\n\"]):\n",
    "    if \"scanner\" in line:\n",
    "        start = ii + 1\n",
    "    elif line == \"\\n\":\n",
    "        end = ii\n",
    "    if end > start:\n",
    "        scanners.append(lines[start : end])\n",
    "\n",
    "scanners = [[[int(num) for num in beacon.strip().split(',')] for beacon in scanner] for scanner in scanners]\n",
    "scanner_dict = dict()\n",
    "for ii in range(len(scanners)):\n",
    "    scanner_dict[ii] = np.array(scanners[ii])"
   ]
  },
  {
   "cell_type": "code",
   "execution_count": 3,
   "id": "b84991d1",
   "metadata": {},
   "outputs": [],
   "source": [
    "all_basis_vectors = [\n",
    "    np.array([1, 0, 0]),\n",
    "    np.array([0, 1, 0]),\n",
    "    np.array([0, 0, 1]),\n",
    "    np.array([-1, 0, 0]),\n",
    "    np.array([0, -1, 0]),\n",
    "    np.array([0, 0, -1]),\n",
    "]\n",
    "\n",
    "COBs_3D = []\n",
    "COBs_inv_3D = []\n",
    "count = 0\n",
    "for e_i in all_basis_vectors:\n",
    "    for e_j in all_basis_vectors:\n",
    "        if (e_i != e_j).any() and (e_i != -1 * e_j).any():\n",
    "            count += 1\n",
    "            e_k = np.cross(e_i, e_j)\n",
    "            COB = np.vstack([e_i, e_j, e_k]).T\n",
    "            COBs_3D.append(COB)\n",
    "            COBs_inv_3D.append(np.linalg.inv(COB).astype(int))\n",
    "assert count == 24"
   ]
  },
  {
   "cell_type": "code",
   "execution_count": 4,
   "id": "0e064672",
   "metadata": {},
   "outputs": [],
   "source": [
    "def find_relative_difference_with_inv(reference_pts, relative_pts, print_stuff=False):\n",
    "    d_vects = []\n",
    "    for inv_idx, inv in enumerate(COBs_inv_3D):\n",
    "        a1, a2 = (inv @ relative_pts.T).T, np.array(list(reference_pts))\n",
    "        i1, i2 = np.meshgrid(range(len(a1)), range(len(a2)))\n",
    "        result = a2[i2] - a1[i1]\n",
    "        result = result.reshape(-1, result.shape[-1])\n",
    "        d_vects += [(tuple(d_vect), inv_idx) for d_vect in result]\n",
    "    if print_stuff:\n",
    "        print(sorted(Counter(d_vects).items(), key=lambda pair: -1 * pair[1])[0:10])\n",
    "    (location, inv_idx), matches = max(Counter(d_vects).items(), key=lambda pair: pair[1])\n",
    "    return matches, location, inv_idx"
   ]
  },
  {
   "cell_type": "code",
   "execution_count": 5,
   "id": "ad95ad4b",
   "metadata": {},
   "outputs": [],
   "source": [
    "def transform_to_home_basis(points, location, inv_idx):\n",
    "    inv = COBs_inv_3D[inv_idx]\n",
    "    transformed = location + (inv @ points.T).T\n",
    "    return [tuple(tx) for tx in transformed]"
   ]
  },
  {
   "cell_type": "code",
   "execution_count": 9,
   "id": "c508f569",
   "metadata": {},
   "outputs": [
    {
     "name": "stdout",
     "output_type": "stream",
     "text": [
      "part 1: 323\n",
      "part 2: 10685\n",
      "Wall time: 8.04 s\n"
     ]
    }
   ],
   "source": [
    "%%time\n",
    "\n",
    "locations = []\n",
    "home_basis_points = set([tuple(pt) for pt in scanner_dict[0]])\n",
    "finished_scanners = set([0])\n",
    "while len(finished_scanners) < len(scanner_dict):\n",
    "    for scanner in set(scanner_dict).difference(finished_scanners):\n",
    "        matches, location, inv_idx = find_relative_difference_with_inv(home_basis_points, scanner_dict[scanner])\n",
    "        locations.append(location)\n",
    "        if matches >= 12:\n",
    "#             print(f\"adding {scanner}\")\n",
    "            finished_scanners.add(scanner)\n",
    "            new_pts = transform_to_home_basis(scanner_dict[scanner], location, inv_idx)\n",
    "            home_basis_points.update(new_pts)\n",
    "\n",
    "manhattan_max = 0\n",
    "for loc1, loc2 in product(locations, locations):\n",
    "    manhattan = sum([abs(a - b) for a, b in zip(loc1, loc2)])\n",
    "    manhattan_max = max(manhattan_max, manhattan)\n",
    "    \n",
    "print(f\"part 1: {len(home_basis_points)}\")\n",
    "print(f\"part 2: {manhattan_max}\")"
   ]
  },
  {
   "cell_type": "markdown",
   "id": "588b6640",
   "metadata": {},
   "source": [
    "### todo: speed up by keeping track of which points belong to which scanner, and testing against each one of those sets (prioritized?) instead of testing against all transformed points"
   ]
  },
  {
   "cell_type": "code",
   "execution_count": null,
   "id": "a789ab13",
   "metadata": {},
   "outputs": [],
   "source": []
  }
 ],
 "metadata": {
  "kernelspec": {
   "display_name": "Python 3 (ipykernel)",
   "language": "python",
   "name": "python3"
  },
  "language_info": {
   "codemirror_mode": {
    "name": "ipython",
    "version": 3
   },
   "file_extension": ".py",
   "mimetype": "text/x-python",
   "name": "python",
   "nbconvert_exporter": "python",
   "pygments_lexer": "ipython3",
   "version": "3.9.7"
  }
 },
 "nbformat": 4,
 "nbformat_minor": 5
}
