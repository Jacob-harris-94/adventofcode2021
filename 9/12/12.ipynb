{
 "cells": [
  {
   "cell_type": "code",
   "execution_count": 1,
   "id": "714f53aa",
   "metadata": {},
   "outputs": [],
   "source": [
    "import numpy as np\n",
    "from collections import defaultdict\n",
    "from collections import Counter"
   ]
  },
  {
   "cell_type": "code",
   "execution_count": 2,
   "id": "69e39419",
   "metadata": {},
   "outputs": [],
   "source": [
    "# SET THIS TO LOAD EXAMPLE DATA INSTEAD\n",
    "# example = True\n",
    "example = False\n",
    "\n",
    "if example:\n",
    "    fname = 'example.txt'\n",
    "else:\n",
    "    fname = 'input.txt'\n",
    "\n",
    "with open(fname) as f:\n",
    "    lines = f.readlines()\n",
    "\n",
    "connections = [[thing.strip() for thing in line.split('-')] for line in lines]"
   ]
  },
  {
   "cell_type": "code",
   "execution_count": 3,
   "id": "c5d97857",
   "metadata": {},
   "outputs": [
    {
     "data": {
      "text/plain": [
       "{'WP': False,\n",
       " 'ak': True,\n",
       " 'lg': True,\n",
       " 'qx': True,\n",
       " 'iw': True,\n",
       " 'js': True,\n",
       " 'start': True,\n",
       " 're': True,\n",
       " 'JG': False,\n",
       " 'bj': True,\n",
       " 'end': True,\n",
       " 'CG': False}"
      ]
     },
     "execution_count": 3,
     "metadata": {},
     "output_type": "execute_result"
    }
   ],
   "source": [
    "uniques = set([item for sublist in connections for item in sublist])\n",
    "is_small = dict([(name, name[0].islower()) for name in uniques])\n",
    "is_small"
   ]
  },
  {
   "cell_type": "code",
   "execution_count": 4,
   "id": "0449aead",
   "metadata": {},
   "outputs": [
    {
     "data": {
      "text/plain": [
       "defaultdict(list,\n",
       "            {'re': ['js', 'ak', 'bj', 'qx', 'lg', 'WP'],\n",
       "             'js': ['re', 'start', 'bj', 'CG'],\n",
       "             'qx': ['CG', 'ak', 're', 'start'],\n",
       "             'CG': ['qx', 'ak', 'js', 'lg', 'bj'],\n",
       "             'start': ['js', 'bj', 'qx'],\n",
       "             'bj': ['start', 'js', 're', 'CG', 'WP'],\n",
       "             'ak': ['qx', 're', 'CG', 'lg', 'WP', 'end'],\n",
       "             'lg': ['ak', 'CG', 're', 'JG', 'end', 'iw'],\n",
       "             'WP': ['ak', 'end', 're', 'bj'],\n",
       "             'end': ['WP', 'ak', 'lg'],\n",
       "             'JG': ['lg'],\n",
       "             'iw': ['lg']})"
      ]
     },
     "execution_count": 4,
     "metadata": {},
     "output_type": "execute_result"
    }
   ],
   "source": [
    "neighbors = defaultdict(list)\n",
    "for a, b in connections:\n",
    "    neighbors[a].append(b)\n",
    "    neighbors[b].append(a)\n",
    "\n",
    "neighbors"
   ]
  },
  {
   "cell_type": "code",
   "execution_count": null,
   "id": "d0d4560d",
   "metadata": {},
   "outputs": [],
   "source": [
    "\n"
   ]
  },
  {
   "cell_type": "code",
   "execution_count": 5,
   "id": "c17f61fa",
   "metadata": {},
   "outputs": [
    {
     "name": "stdout",
     "output_type": "stream",
     "text": [
      "Wall time: 31 ms\n"
     ]
    },
    {
     "data": {
      "text/plain": [
       "3230"
      ]
     },
     "execution_count": 5,
     "metadata": {},
     "output_type": "execute_result"
    }
   ],
   "source": [
    "%%time\n",
    "\n",
    "def get_paths(current_node, temp_already_visited, depth=0):\n",
    "    already_visited = set(temp_already_visited)\n",
    "    \n",
    "    already_visited.add(current_node)\n",
    "    \n",
    "    if current_node == 'end':\n",
    "        return ['end']\n",
    "    \n",
    "    # visit all children\n",
    "#     print(f\"at {current_node}, depth {depth}, to visit {neighbors[current_node]}\")\n",
    "    paths = []\n",
    "    for neighbor in neighbors[current_node]:\n",
    "        \n",
    "        if (is_small[neighbor] and neighbor not in already_visited) or not is_small[neighbor] and neighbor != \"start\" :\n",
    "#             print(f\"from {current_node} (depth {depth}) visiting {neighbor}\")\n",
    "            temp_new_set = set(already_visited)\n",
    "            paths += get_paths(neighbor, temp_new_set, depth+1)\n",
    "\n",
    "#     for neighbor in neighbors[current_node]:\n",
    "#         if is_small[neighbor]: \n",
    "#             already_visited.add(neighbor)\n",
    "        \n",
    "    return [(current_node+','+path) for path in paths]\n",
    "\n",
    "len(get_paths('start', set(['start'])))"
   ]
  },
  {
   "cell_type": "code",
   "execution_count": 6,
   "id": "c49de916",
   "metadata": {},
   "outputs": [
    {
     "ename": "UnboundLocalError",
     "evalue": "local variable 'visit_same_small' referenced before assignment",
     "output_type": "error",
     "traceback": [
      "\u001b[1;31m---------------------------------------------------------------------------\u001b[0m",
      "\u001b[1;31mUnboundLocalError\u001b[0m                         Traceback (most recent call last)",
      "\u001b[1;32m<timed exec>\u001b[0m in \u001b[0;36m<module>\u001b[1;34m\u001b[0m\n",
      "\u001b[1;32m<timed exec>\u001b[0m in \u001b[0;36mget_paths\u001b[1;34m(current_node, temp_already_visited, one_double_so_far, depth)\u001b[0m\n",
      "\u001b[1;32m<timed exec>\u001b[0m in \u001b[0;36mget_paths\u001b[1;34m(current_node, temp_already_visited, one_double_so_far, depth)\u001b[0m\n",
      "\u001b[1;32m<timed exec>\u001b[0m in \u001b[0;36mget_paths\u001b[1;34m(current_node, temp_already_visited, one_double_so_far, depth)\u001b[0m\n",
      "\u001b[1;31mUnboundLocalError\u001b[0m: local variable 'visit_same_small' referenced before assignment"
     ]
    }
   ],
   "source": [
    "%%time\n",
    "\n",
    "def get_paths(current_node, temp_already_visited, one_double_so_far=False, depth=0):\n",
    "    already_visited = set(temp_already_visited)\n",
    "    \n",
    "    if current_node in already_visited:\n",
    "        one_double_so_far = True\n",
    "        visit_same_small = False\n",
    "        \n",
    "    # only keep track of small\n",
    "    if is_small[current_node]:\n",
    "        already_visited.add(current_node)\n",
    "    \n",
    "    if current_node == 'end':\n",
    "        return ['end']\n",
    "    \n",
    "    # visit all children\n",
    "#     print(f\"at {current_node}, depth {depth}, to visit {neighbors[current_node]}\")\n",
    "\n",
    "    \n",
    "    \n",
    "    paths = []\n",
    "    for neighbor in neighbors[current_node]:\n",
    "        \n",
    "        if (is_small[neighbor] and ((neighbor not in already_visited) or (neighbor in already_visited and visit_same_small)) or not is_small[neighbor]) and neighbor != \"start\" :\n",
    "#             print(f\"from {current_node} (depth {depth}) visiting {neighbor}\")\n",
    "            temp_new_set = set(already_visited)\n",
    "            paths += get_paths(neighbor, temp_new_set, one_double_so_far=True, depth=depth+1)\n",
    "\n",
    "#     for neighbor in neighbors[current_node]:\n",
    "#         if is_small[neighbor]: \n",
    "#             already_visited.add(neighbor)\n",
    "        \n",
    "    return [(current_node+','+path) for path in paths]\n",
    "\n",
    "len(get_paths('start', set(['start'])))"
   ]
  },
  {
   "cell_type": "code",
   "execution_count": 7,
   "id": "a3f43d76",
   "metadata": {},
   "outputs": [
    {
     "name": "stdout",
     "output_type": "stream",
     "text": [
      "Wall time: 2.44 s\n"
     ]
    },
    {
     "data": {
      "text/plain": [
       "83475"
      ]
     },
     "execution_count": 7,
     "metadata": {},
     "output_type": "execute_result"
    }
   ],
   "source": [
    "%%time\n",
    "\n",
    "def get_paths(current_node, temp_visited_count, depth=0):\n",
    "    \n",
    "    visited_count = defaultdict(int, temp_visited_count)\n",
    "    if is_small[current_node]: \n",
    "        visited_count[current_node] += 1 # don't count non smalls\n",
    "    \n",
    "    if current_node == 'end':\n",
    "        return ['end']\n",
    "    \n",
    "    paths = []\n",
    "    \n",
    "    revisit_smalls = Counter(visited_count.values())[2] < 1 # no more than one '2' in visited\n",
    "    already_visited = visited_count.keys()\n",
    "    \n",
    "    for neighbor in neighbors[current_node]:\n",
    "        \n",
    "        if ((is_small[neighbor] and neighbor not in already_visited) or \\\n",
    "             (is_small[neighbor] and neighbor in already_visited and revisit_smalls ) or neighbor == 'end' or not is_small[neighbor]) and neighbor != \"start\":\n",
    "            paths += get_paths(neighbor, visited_count.copy(), depth+1)\n",
    "     \n",
    "    return [(current_node+','+path) for path in paths]\n",
    "\n",
    "len(set(get_paths('start', {'start':0})))"
   ]
  },
  {
   "cell_type": "code",
   "execution_count": 8,
   "id": "349cf444",
   "metadata": {},
   "outputs": [],
   "source": [
    "# for efficiency now"
   ]
  },
  {
   "cell_type": "code",
   "execution_count": 9,
   "id": "0c9e8e10",
   "metadata": {},
   "outputs": [
    {
     "name": "stdout",
     "output_type": "stream",
     "text": [
      "Wall time: 697 ms\n"
     ]
    },
    {
     "data": {
      "text/plain": [
       "83475"
      ]
     },
     "execution_count": 9,
     "metadata": {},
     "output_type": "execute_result"
    }
   ],
   "source": [
    "%%time\n",
    "\n",
    "def get_paths(current_node, already_visited=set(), revisit_small_allowed=True, depth=0):\n",
    "    \n",
    "    \n",
    "    already_visited = already_visited.copy()\n",
    "    \n",
    "    if is_small[current_node]: \n",
    "        already_visited.add(current_node)\n",
    "    \n",
    "    if current_node == 'end':\n",
    "        return ['end']\n",
    "    \n",
    "    paths = []\n",
    "        \n",
    "    for neighbor in neighbors[current_node]:\n",
    "        if neighbor == \"start\":\n",
    "            continue\n",
    "        if neighbor in already_visited:\n",
    "            if revisit_small_allowed:\n",
    "                paths += get_paths(neighbor, already_visited, revisit_small_allowed=False, depth=depth+1)\n",
    "            else:\n",
    "                continue\n",
    "        else: \n",
    "            paths += get_paths(neighbor, already_visited, revisit_small_allowed, depth=depth+1)\n",
    "             \n",
    "    return [(current_node+','+path) for path in paths]\n",
    "\n",
    "len(set(get_paths('start')))"
   ]
  }
 ],
 "metadata": {
  "kernelspec": {
   "display_name": "Python 3 (ipykernel)",
   "language": "python",
   "name": "python3"
  },
  "language_info": {
   "codemirror_mode": {
    "name": "ipython",
    "version": 3
   },
   "file_extension": ".py",
   "mimetype": "text/x-python",
   "name": "python",
   "nbconvert_exporter": "python",
   "pygments_lexer": "ipython3",
   "version": "3.9.7"
  }
 },
 "nbformat": 4,
 "nbformat_minor": 5
}
