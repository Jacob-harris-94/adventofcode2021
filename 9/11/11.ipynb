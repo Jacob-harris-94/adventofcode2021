{
 "cells": [
  {
   "cell_type": "code",
   "execution_count": 1,
   "id": "714f53aa",
   "metadata": {},
   "outputs": [],
   "source": [
    "import numpy as np"
   ]
  },
  {
   "cell_type": "code",
   "execution_count": 2,
   "id": "69e39419",
   "metadata": {},
   "outputs": [],
   "source": [
    "# SET THIS TO LOAD EXAMPLE DATA INSTEAD\n",
    "# example = True\n",
    "example = False\n",
    "\n",
    "if example:\n",
    "    fname = 'example.txt'\n",
    "else:\n",
    "    fname = 'input.txt'\n",
    "\n",
    "with open(fname) as f:\n",
    "    lines = f.readlines()\n",
    "\n",
    "arrays = [[int(char) for char in line.strip()] for line in lines]\n",
    "octopi = np.array(arrays)"
   ]
  },
  {
   "cell_type": "code",
   "execution_count": 3,
   "id": "74a759d8",
   "metadata": {},
   "outputs": [],
   "source": [
    "def get_adjacent_coords(r, c, r_max, c_max):\n",
    "    coords = []\n",
    "    for r, c, in [(r, c-1), (r-1, c), (r-1, c-1), (r-1, c+1), (r, c+1), (r+1, c), (r+1, c+1), (r+1, c-1)]:\n",
    "        if (0 <= r < r_max) and (0 <= c < c_max):\n",
    "            coords.append((r, c))\n",
    "    return np.array(coords)"
   ]
  },
  {
   "cell_type": "code",
   "execution_count": 7,
   "id": "e2f7c923",
   "metadata": {},
   "outputs": [
    {
     "name": "stdout",
     "output_type": "stream",
     "text": [
      "part 1: 1719\n",
      "part 2: 232\n",
      "Wall time: 162 ms\n"
     ]
    }
   ],
   "source": [
    "%%time\n",
    "\n",
    "octopi_working = octopi.copy()\n",
    "\n",
    "steps = 100000\n",
    "total_flashes = 0\n",
    "for step in range(1, steps + 1):\n",
    "    # First, the energy level of each octopus increases by 1.\n",
    "    octopi_working += 1\n",
    "    \n",
    "    already_flashed = np.full(octopi_working.shape, False)\n",
    "  \n",
    "    # while there's some that should flash but haven't already\n",
    "    to_flash = (octopi_working > 9) & ~already_flashed\n",
    "    while to_flash.sum() > 0:\n",
    "        # flash them\n",
    "        to_flash = (octopi_working > 9) & ~already_flashed\n",
    "        for octopus_coords in np.argwhere(to_flash):\n",
    "            to_inc = get_adjacent_coords(*octopus_coords, *octopi.shape)\n",
    "            octopi_working[to_inc.T[0], to_inc.T[1]] += 1 # wtf, why do I have to do this? \n",
    "        already_flashed[to_flash] = True       \n",
    "    \n",
    "    # Finally, any octopus that flashed during this step has its energy level set to 0, as it used all of its energy to flash.\n",
    "    octopi_working[already_flashed] = 0\n",
    "    total_flashes += already_flashed.sum()\n",
    "    \n",
    "    if step == 100:\n",
    "        print(f\"part 1: {total_flashes}\")\n",
    "    \n",
    "    if already_flashed.sum() == np.product(already_flashed.shape):\n",
    "        print(f\"part 2: {step}\")\n",
    "        break"
   ]
  },
  {
   "cell_type": "code",
   "execution_count": null,
   "id": "854785d5",
   "metadata": {},
   "outputs": [],
   "source": []
  }
 ],
 "metadata": {
  "kernelspec": {
   "display_name": "Python 3 (ipykernel)",
   "language": "python",
   "name": "python3"
  },
  "language_info": {
   "codemirror_mode": {
    "name": "ipython",
    "version": 3
   },
   "file_extension": ".py",
   "mimetype": "text/x-python",
   "name": "python",
   "nbconvert_exporter": "python",
   "pygments_lexer": "ipython3",
   "version": "3.9.7"
  }
 },
 "nbformat": 4,
 "nbformat_minor": 5
}
