{
 "cells": [
  {
   "cell_type": "code",
   "execution_count": 1,
   "id": "714f53aa",
   "metadata": {},
   "outputs": [],
   "source": [
    "import numpy as np"
   ]
  },
  {
   "cell_type": "code",
   "execution_count": 123,
   "id": "69e39419",
   "metadata": {},
   "outputs": [],
   "source": [
    "# SET THIS TO LOAD EXAMPLE DATA INSTEAD\n",
    "# example = True\n",
    "example = False\n",
    "\n",
    "if example:\n",
    "    fname = 'example.txt'\n",
    "else:\n",
    "    fname = 'input.txt'\n",
    "\n",
    "with open(fname) as f:\n",
    "    lines = f.readlines()\n",
    "\n",
    "heightmap = [[int(char) for char in line.strip()] for line in lines]\n",
    "hm = np.array(heightmap)"
   ]
  },
  {
   "cell_type": "code",
   "execution_count": 124,
   "id": "58b25173",
   "metadata": {},
   "outputs": [
    {
     "name": "stdout",
     "output_type": "stream",
     "text": [
      "sum of risk levels: 537\n",
      "Wall time: 0 ns\n"
     ]
    }
   ],
   "source": [
    "%%time\n",
    "\n",
    "r, c = hm.shape\n",
    "shifted_right = np.hstack([np.full((r,1), 9), hm[:,0:-1]])\n",
    "shifted_left = np.hstack([hm[:,1:], np.full((r,1), 9)])\n",
    "shifted_up = np.vstack([hm[1:,:], np.full((1,c), 9)])\n",
    "shifted_down = np.vstack([np.full((1,c), 9), hm[0:-1,:]])\n",
    "\n",
    "low_mask = (hm < shifted_right) & (hm < shifted_left) & (hm < shifted_down) & (hm < shifted_up)\n",
    "sum_risk = (hm[low_mask] + 1).sum()\n",
    "print(f\"sum of risk levels: {sum_risk}\")"
   ]
  },
  {
   "cell_type": "code",
   "execution_count": 125,
   "id": "b3d6861c",
   "metadata": {},
   "outputs": [],
   "source": [
    "a = set([0, 1])\n",
    "b = set([1, 2])\n",
    "# c = set(a).update(set(b))\n"
   ]
  },
  {
   "cell_type": "code",
   "execution_count": 126,
   "id": "fbe1cd81",
   "metadata": {},
   "outputs": [],
   "source": [
    "def count_neighbors(r, c, r_max, c_max, already_checked, heightmap):\n",
    "    \"\"\" # depth-first search to find all neighbors of higher, but not 9, height \"\"\"\n",
    "    \n",
    "    already_checked.add((r, c))\n",
    "\n",
    "    if heightmap[r, c] < 9:\n",
    "\n",
    "        # propose new neighbors\n",
    "        potential_neighbors = []\n",
    "        for r_p, c_p in [(r - 1, c), (r, c - 1), (r + 1, c), (r, c + 1)]:\n",
    "            if (0 <= r_p < r_max) and \\\n",
    "            (0 <= c_p < c_max) and \\\n",
    "            (r_p, c_p) not in already_checked:\n",
    "                potential_neighbors.append((r_p, c_p))\n",
    "\n",
    "#         print(f\"current: {(r, c)}\\t potential: {potential_neighbors}\")\n",
    "        # check new neigbors\n",
    "        neighbor_set = set()\n",
    "        for pn in potential_neighbors:\n",
    "            if pn not in already_checked:\n",
    "                neighbors, a_c = count_neighbors(*pn, r_max, c_max, already_checked, heightmap)\n",
    "                already_checked.update(a_c)\n",
    "                neighbor_set.update(neighbors)\n",
    "\n",
    "        # add current point\n",
    "        neighbor_set.add((r, c))\n",
    "        return neighbor_set, already_checked\n",
    "    \n",
    "    else:\n",
    "        return set(), already_checked"
   ]
  },
  {
   "cell_type": "code",
   "execution_count": 131,
   "id": "a837748c",
   "metadata": {},
   "outputs": [],
   "source": [
    "def count_neighbors(r, c, r_max, c_max, already_checked, heightmap):\n",
    "    \"\"\" # depth-first search to find all neighbors of higher, but not 9, height \"\"\"\n",
    "    \n",
    "    already_checked.add((r, c))\n",
    "\n",
    "    if heightmap[r, c] < 9:\n",
    "\n",
    "        # propose new neighbors\n",
    "        potential_neighbors = []\n",
    "        for r_p, c_p in [(r - 1, c), (r, c - 1), (r + 1, c), (r, c + 1)]:\n",
    "            if (0 <= r_p < r_max) \\\n",
    "            and (0 <= c_p < c_max):\n",
    "                potential_neighbors.append((r_p, c_p))\n",
    "\n",
    "        # check new neigbors\n",
    "        neighbor_set = set()\n",
    "        for pn in potential_neighbors:\n",
    "            if pn not in already_checked: # already_checked may be updated between iterations \n",
    "                neighbor_set.update(count_neighbors(*pn, r_max, c_max, already_checked, heightmap))\n",
    "\n",
    "        # add current point\n",
    "        neighbor_set.add((r, c))\n",
    "        return neighbor_set\n",
    "    \n",
    "    else:\n",
    "        return set()"
   ]
  },
  {
   "cell_type": "code",
   "execution_count": 132,
   "id": "fc47a274",
   "metadata": {},
   "outputs": [
    {
     "name": "stdout",
     "output_type": "stream",
     "text": [
      "product of 3 largest: 1142757\n",
      "Wall time: 60 ms\n"
     ]
    }
   ],
   "source": [
    "%%time\n",
    "\n",
    "basin_sizes = []\n",
    "for coord in np.argwhere(low_mask):\n",
    "    basin_sizes.append(len(count_neighbors(*coord, *hm.shape, set(), hm)))\n",
    "prod = np.prod(sorted(basin_sizes)[-3:])\n",
    "\n",
    "print(f\"product of 3 largest: {prod}\")\n"
   ]
  },
  {
   "cell_type": "code",
   "execution_count": 59,
   "id": "7b50f25e",
   "metadata": {},
   "outputs": [],
   "source": [
    "# 1142757"
   ]
  },
  {
   "cell_type": "code",
   "execution_count": null,
   "id": "96956c4a",
   "metadata": {},
   "outputs": [],
   "source": []
  }
 ],
 "metadata": {
  "kernelspec": {
   "display_name": "Python 3 (ipykernel)",
   "language": "python",
   "name": "python3"
  },
  "language_info": {
   "codemirror_mode": {
    "name": "ipython",
    "version": 3
   },
   "file_extension": ".py",
   "mimetype": "text/x-python",
   "name": "python",
   "nbconvert_exporter": "python",
   "pygments_lexer": "ipython3",
   "version": "3.9.7"
  }
 },
 "nbformat": 4,
 "nbformat_minor": 5
}
