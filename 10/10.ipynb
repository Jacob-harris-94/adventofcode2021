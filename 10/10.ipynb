{
 "cells": [
  {
   "cell_type": "code",
   "execution_count": 49,
   "id": "714f53aa",
   "metadata": {},
   "outputs": [],
   "source": [
    "import numpy as np\n",
    "from collections import Counter\n",
    "from functools import reduce"
   ]
  },
  {
   "cell_type": "code",
   "execution_count": 85,
   "id": "69e39419",
   "metadata": {},
   "outputs": [],
   "source": [
    "# SET THIS TO LOAD EXAMPLE DATA INSTEAD\n",
    "# example = True\n",
    "example = False\n",
    "\n",
    "if example:\n",
    "    fname = 'example.txt'\n",
    "else:\n",
    "    fname = 'input.txt'\n",
    "\n",
    "with open(fname) as f:\n",
    "    lines = f.readlines()\n",
    "\n",
    "lines = [line.strip() for line in lines]\n",
    "# lines[0:3]"
   ]
  },
  {
   "cell_type": "code",
   "execution_count": 86,
   "id": "ebc66388",
   "metadata": {},
   "outputs": [],
   "source": [
    "open_chars = set(\"([{<\")\n",
    "close_chars = set(\")]}>\")\n",
    "close_lookup = dict(zip(\"([{<\", \")]}>\"))\n",
    "\n",
    "def get_first_illegal_char(line):\n",
    "    stack = []\n",
    "    for char in line:\n",
    "        if char in open_chars:\n",
    "            stack.append(char)\n",
    "        elif char in close_chars:\n",
    "            expected = close_lookup[stack.pop()]\n",
    "            if char == expected:\n",
    "                pass\n",
    "            else:\n",
    "                illegal = char\n",
    "                return illegal\n",
    "        else:\n",
    "            assert False # should never get here\n",
    "    \n",
    "    return None"
   ]
  },
  {
   "cell_type": "code",
   "execution_count": 87,
   "id": "e86a993c",
   "metadata": {},
   "outputs": [
    {
     "name": "stdout",
     "output_type": "stream",
     "text": [
      "Wall time: 1 ms\n"
     ]
    },
    {
     "data": {
      "text/plain": [
       "413733"
      ]
     },
     "execution_count": 87,
     "metadata": {},
     "output_type": "execute_result"
    }
   ],
   "source": [
    "%%time\n",
    "\n",
    "illegal_chars = []\n",
    "for line in lines:\n",
    "    result = get_first_illegal_char(line)\n",
    "    if result:\n",
    "        illegal_chars.append(result)\n",
    "\n",
    "counter = Counter(illegal_chars)\n",
    "score = counter[')'] * 3 + counter[']'] * 57 + counter['}'] * 1197 + counter['>'] * 25137\n",
    "score"
   ]
  },
  {
   "cell_type": "code",
   "execution_count": 91,
   "id": "3c7a57d1",
   "metadata": {},
   "outputs": [],
   "source": [
    "open_chars = set(\"([{<\")\n",
    "close_chars = set(\")]}>\")\n",
    "close_lookup = dict(zip(\"([{<\", \")]}>\"))\n",
    "\n",
    "def get_remaining_chars(line):\n",
    "    stack = []\n",
    "    for char in line:\n",
    "        if char in open_chars:\n",
    "            stack.append(char)\n",
    "        elif char in close_chars:\n",
    "            expected = close_lookup[stack.pop()]\n",
    "            if char == expected:\n",
    "                pass\n",
    "            else:\n",
    "                return None # this is a corrupted line, not incomplete\n",
    "        else:\n",
    "            assert False # should never get here\n",
    "    \n",
    "    return [close_lookup[char] for char in stack][::-1]"
   ]
  },
  {
   "cell_type": "code",
   "execution_count": 89,
   "id": "0f5a1a9d",
   "metadata": {},
   "outputs": [
    {
     "name": "stdout",
     "output_type": "stream",
     "text": [
      "score: 3354640192\n",
      "Wall time: 2 ms\n"
     ]
    }
   ],
   "source": [
    "%%time\n",
    "\n",
    "autocompletes = []\n",
    "for line in lines:\n",
    "    result = get_remaining_chars(line)\n",
    "    if result:\n",
    "        autocompletes.append(result)\n",
    "\n",
    "def mult_by_5_and_add(a, b):\n",
    "    return a * 5 + b\n",
    "\n",
    "points_lookup = {')': 1, ']': 2, '}': 3, '>': 4}\n",
    "scores = [reduce(mult_by_5_and_add, [points_lookup[char] for char in autocomplete]) for autocomplete in autocompletes]\n",
    "print(f\"score: {sorted(scores)[len(scores)//2]}\")"
   ]
  },
  {
   "cell_type": "code",
   "execution_count": null,
   "id": "026ac824",
   "metadata": {},
   "outputs": [],
   "source": [
    "\n",
    "\n"
   ]
  }
 ],
 "metadata": {
  "kernelspec": {
   "display_name": "Python 3 (ipykernel)",
   "language": "python",
   "name": "python3"
  },
  "language_info": {
   "codemirror_mode": {
    "name": "ipython",
    "version": 3
   },
   "file_extension": ".py",
   "mimetype": "text/x-python",
   "name": "python",
   "nbconvert_exporter": "python",
   "pygments_lexer": "ipython3",
   "version": "3.9.7"
  }
 },
 "nbformat": 4,
 "nbformat_minor": 5
}
