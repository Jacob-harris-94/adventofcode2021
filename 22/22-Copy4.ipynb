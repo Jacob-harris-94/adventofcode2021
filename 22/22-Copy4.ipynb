{
 "cells": [
  {
   "cell_type": "code",
   "execution_count": 1,
   "id": "45832569",
   "metadata": {},
   "outputs": [],
   "source": [
    "from itertools import product, combinations, cycle\n",
    "from functools import reduce\n",
    "from math import prod"
   ]
  },
  {
   "cell_type": "code",
   "execution_count": 4,
   "id": "55598ba1",
   "metadata": {},
   "outputs": [],
   "source": [
    "fname = 'example.txt'\n",
    "# fname = 'input.txt'\n",
    "# fname = 'example2.txt'\n",
    "        \n",
    "with open(fname) as f:\n",
    "    lines = f.readlines()\n",
    "\n",
    "# [(on, [int(num) for num in rang.replace('x=', '').replace('y=', '').replace('z', '').replace('=', '').split('..') for rang in xyz.split(',')]) for on, xyz in [line.strip().split(' ') for line in lines]]\n",
    "\n",
    "onoffs, ranges = [], []\n",
    "# for line in lines[0:20]:\n",
    "for line in lines[:-2]:\n",
    "# for line in lines:\n",
    "    onoff, xyz = line.strip().split(' ')\n",
    "    ranges_letters = xyz.split(',')\n",
    "    range_3d = tuple([tuple(int(val) for val in range_letter.split('=')[1].split('..')) for range_letter in ranges_letters])\n",
    "    onoffs.append(onoff)\n",
    "    ranges.append(range_3d)\n",
    "\n",
    "instructions = list(zip(onoffs, ranges))\n",
    "# instructions"
   ]
  },
  {
   "cell_type": "code",
   "execution_count": 5,
   "id": "whole-melissa",
   "metadata": {},
   "outputs": [
    {
     "data": {
      "text/plain": [
       "[('on', ((-20, 26), (-36, 17), (-47, 7))),\n",
       " ('on', ((-20, 33), (-21, 23), (-26, 28))),\n",
       " ('on', ((-22, 28), (-29, 23), (-38, 16))),\n",
       " ('on', ((-46, 7), (-6, 46), (-50, -1))),\n",
       " ('on', ((-49, 1), (-3, 46), (-24, 28))),\n",
       " ('on', ((2, 47), (-22, 22), (-23, 27))),\n",
       " ('on', ((-27, 23), (-28, 26), (-21, 29))),\n",
       " ('on', ((-39, 5), (-6, 47), (-3, 44))),\n",
       " ('on', ((-30, 21), (-8, 43), (-13, 34))),\n",
       " ('on', ((-22, 26), (-27, 20), (-29, 19))),\n",
       " ('off', ((-48, -32), (26, 41), (-47, -37))),\n",
       " ('on', ((-12, 35), (6, 50), (-50, -2))),\n",
       " ('off', ((-48, -32), (-32, -16), (-15, -5))),\n",
       " ('on', ((-18, 26), (-33, 15), (-7, 46))),\n",
       " ('off', ((-40, -22), (-38, -28), (23, 41))),\n",
       " ('on', ((-16, 35), (-41, 10), (-47, 6))),\n",
       " ('off', ((-32, -23), (11, 30), (-14, 3))),\n",
       " ('on', ((-49, -5), (-3, 45), (-29, 18))),\n",
       " ('off', ((18, 30), (-20, -8), (-3, 13))),\n",
       " ('on', ((-41, 9), (-7, 43), (-33, 15)))]"
      ]
     },
     "execution_count": 5,
     "metadata": {},
     "output_type": "execute_result"
    }
   ],
   "source": [
    "instructions"
   ]
  },
  {
   "cell_type": "code",
   "execution_count": 6,
   "id": "0448a65b",
   "metadata": {},
   "outputs": [
    {
     "data": {
      "text/plain": [
       "(2, 2)"
      ]
     },
     "execution_count": 6,
     "metadata": {},
     "output_type": "execute_result"
    }
   ],
   "source": [
    "def single_range_intersection(r1, r2):\n",
    "    # https://scicomp.stackexchange.com/a/26260\n",
    "    low, high = 0, 1 # assuming in order\n",
    "    if len(r1) != 2 or len(r2) != 2:\n",
    "        return []\n",
    "    if r2[low] > r1[high] or r1[low] > r2[high]:\n",
    "        return [] # no intersection\n",
    "    else:\n",
    "        return (max(r1[low], r2[low]), min(r1[high], r2[high]))\n",
    "    \n",
    "\n",
    "single_range_intersection((0, 2), (2, 4)) # NOTE THIS EDGE CASE"
   ]
  },
  {
   "cell_type": "code",
   "execution_count": 7,
   "id": "5ab296a1",
   "metadata": {},
   "outputs": [
    {
     "data": {
      "text/plain": [
       "[(-62226, -58814), [], []]"
      ]
     },
     "execution_count": 7,
     "metadata": {},
     "output_type": "execute_result"
    }
   ],
   "source": [
    "def range_intersection(range_1, range_2):\n",
    "    return [single_range_intersection(*ranges) for ranges in zip(range_1, range_2)]\n",
    "\n",
    "r1 = [(-82717, -58814), (9792, 34867), (31729, 41188)]\n",
    "r2 = [(-62226, -36572), (-17931, -2307), (64240, 74646)]\n",
    "\n",
    "test_range_intersections = range_intersection(r1, r2)\n",
    "test_range_intersections"
   ]
  },
  {
   "cell_type": "code",
   "execution_count": 8,
   "id": "f8b52b76",
   "metadata": {},
   "outputs": [
    {
     "data": {
      "text/plain": [
       "[(-20, 26), (-21, 17), (-26, 7)]"
      ]
     },
     "execution_count": 8,
     "metadata": {},
     "output_type": "execute_result"
    }
   ],
   "source": [
    "def range_intersection_idxs(idx_1, idx_2):\n",
    "    return [single_range_intersection(*ranges) for ranges in zip(ranges[idx_1], ranges[idx_2])]\n",
    "\n",
    "test_range_intersections = range_intersection_idxs(0, 1)\n",
    "test_range_intersections"
   ]
  },
  {
   "cell_type": "code",
   "execution_count": 9,
   "id": "02aa4863",
   "metadata": {},
   "outputs": [],
   "source": [
    "def intersection_size(intersection_3d):\n",
    "    # TODO: is the '+1' correct\n",
    "    return prod([max(rang)-min(rang)+1 if rang else 0 for rang in intersection_3d])\n"
   ]
  },
  {
   "cell_type": "markdown",
   "id": "needed-japanese",
   "metadata": {},
   "source": [
    "# try evaluating intersections with `off` as null, empty"
   ]
  },
  {
   "cell_type": "code",
   "execution_count": 28,
   "id": "amino-superior",
   "metadata": {},
   "outputs": [
    {
     "name": "stdout",
     "output_type": "stream",
     "text": [
      "651264 590784 3600\n"
     ]
    }
   ],
   "source": [
    "def find_total_intersection_size(onoffs, ranges, debug_print=False):\n",
    "\n",
    "    ons = set([ii for onoff, ii in zip(onoffs, range(len(ranges))) if onoff == 'on'])\n",
    "    offs = set(range(len(ranges))).difference(ons)\n",
    "    \n",
    "    running_total = 0\n",
    "\n",
    "    for onoff, ii in zip(onoffs, range(len(ranges))):\n",
    "\n",
    "        if debug_print: print(f\"testing set {ii} ({onoff})\") \n",
    "\n",
    "        # test intersections with the sets before it only\n",
    "#         used_previous = set(range(ii))\n",
    "        used_previous = []\n",
    "        used_previous.append(set(range(ii)))\n",
    "\n",
    "        # add current set size, if on\n",
    "        if onoff == 'on':\n",
    "            running_total += intersection_size(ranges[ii])\n",
    "        if debug_print: print(f\"\\t{running_total=}\")\n",
    "\n",
    "        for way in range(2, ii+2):\n",
    "            if debug_print: print(f\"\\ttesting {way}-way intersections\")\n",
    "\n",
    "            eligible = set(range(ii)).intersection(used_previous[-1])\n",
    "            if debug_print: print(f\"\\teligible: {eligible}\")\n",
    "\n",
    "            even = (way % 2 == 0)\n",
    "\n",
    "            if even:\n",
    "                eligible = eligible.intersection(ons)\n",
    "                if debug_print: print(f\"\\teligible: {eligible} (after considering only 'on')\")\n",
    "\n",
    "            used_current = set()\n",
    "            \n",
    "            # ugly hack instead of dealing with indexing the list of used_previous\n",
    "            if even:\n",
    "                used_current = used_previous[-1]\n",
    "            # ugly hack instead of dealing with indexing the list of used_previous\n",
    "            \n",
    "            for comb in combinations(eligible, r=(way-1)):\n",
    "\n",
    "                full_comb = tuple([ii] + list(comb)) # including ii, the current one\n",
    "                if debug_print: print(f\"\\t\\t combination {full_comb}\")\n",
    "\n",
    "                way_int = reduce(range_intersection, [ranges[idx] for idx in full_comb])\n",
    "\n",
    "                if not [] in way_int:\n",
    "                    # if a real intersection\n",
    "                    used_current.update(comb)\n",
    "                    size = intersection_size(way_int)\n",
    "\n",
    "                    if even:\n",
    "                        running_total -= size\n",
    "                    else:\n",
    "                        running_total += size\n",
    "\n",
    "                    if debug_print: print(f\"\\t\\t yes, {used_current=}, size: {size}, {running_total=}\")\n",
    "\n",
    "                else:\n",
    "                    if debug_print: print(\"\\t\\t no\")\n",
    "            if debug_print: print(f\"\\tall intersecting with {ii}: {used_current}\")\n",
    "            if not used_current:\n",
    "                # if no w-way intersections, definitely no w+1, ... way intersections\n",
    "                if debug_print: print(f\"\\tNO {way}-WAY INTERSECTIONS, SKIPPING REMAINING...\")\n",
    "                break\n",
    "            used_previous.append(used_current)\n",
    "    \n",
    "    return running_total\n",
    "\n",
    "# correct_ans = 2758514936282235\n",
    "correct_ans = 590784\n",
    "ans = find_total_intersection_size(onoffs, ranges)\n",
    "print(ans, correct_ans, correct_ans-running_total)"
   ]
  },
  {
   "cell_type": "markdown",
   "id": "employed-funds",
   "metadata": {},
   "source": [
    "# test cases"
   ]
  },
  {
   "cell_type": "code",
   "execution_count": 21,
   "id": "finite-pennsylvania",
   "metadata": {},
   "outputs": [
    {
     "data": {
      "text/plain": [
       "225476"
      ]
     },
     "execution_count": 21,
     "metadata": {},
     "output_type": "execute_result"
    }
   ],
   "source": [
    "t1 = [('on', ((-20, 26), (-36, 17), (-47, 7))),\n",
    " ('on', ((-20, 33), (-21, 23), (-26, 28))),\n",
    " ('on', ((-22, 28), (-29, 23), (-38, 16))),]\n",
    "\n",
    "onoffs1, ranges1 = zip(*t1)\n",
    "\n",
    "find_total_intersection_size(onoffs1, ranges1)"
   ]
  },
  {
   "cell_type": "code",
   "execution_count": 22,
   "id": "helpful-limitation",
   "metadata": {},
   "outputs": [],
   "source": [
    "\n",
    "onoffs2 = [\"on\"]\n",
    "ranges2 = [((0, 9), (0, 9), (0, 0)),\n",
    "           ((0, 9), (0, 9), (0, 0)),\n",
    "          ]\n",
    "\n",
    "assert find_total_intersection_size(onoffs2, ranges2) == 100"
   ]
  },
  {
   "cell_type": "code",
   "execution_count": 23,
   "id": "spare-switch",
   "metadata": {},
   "outputs": [
    {
     "name": "stdout",
     "output_type": "stream",
     "text": [
      "testing set 0 (off)\n",
      "\trunning_total=0\n",
      "testing set 1 (off)\n",
      "\trunning_total=0\n",
      "\ttesting 2-way intersections\n",
      "\teligible: {0}\n",
      "\teligible: set() (after considering only 'on')\n",
      "\tall intersecting with 1: set()\n",
      "\tNO 2-WAY INTERSECTIONS, SKIPPING REMAINING...\n"
     ]
    }
   ],
   "source": [
    "onoffs3 = [\"off\", \"off\"]\n",
    "ranges3 = [((0, 9), (0, 9), (0, 0)),\n",
    "           ((0, 99), (0, 99), (0, 0)),\n",
    "          ]\n",
    "assert find_total_intersection_size(onoffs3, ranges3, debug_print=True) == 0, find_total_intersection_size(onoffs3, ranges3)"
   ]
  },
  {
   "cell_type": "code",
   "execution_count": 24,
   "id": "golden-deployment",
   "metadata": {},
   "outputs": [
    {
     "name": "stdout",
     "output_type": "stream",
     "text": [
      "testing set 0 (off)\n",
      "\trunning_total=0\n",
      "testing set 1 (off)\n",
      "\trunning_total=0\n",
      "\ttesting 2-way intersections\n",
      "\teligible: {0}\n",
      "\teligible: set() (after considering only 'on')\n",
      "\tall intersecting with 1: set()\n",
      "\tNO 2-WAY INTERSECTIONS, SKIPPING REMAINING...\n",
      "testing set 2 (off)\n",
      "\trunning_total=0\n",
      "\ttesting 2-way intersections\n",
      "\teligible: {0, 1}\n",
      "\teligible: set() (after considering only 'on')\n",
      "\tall intersecting with 2: set()\n",
      "\tNO 2-WAY INTERSECTIONS, SKIPPING REMAINING...\n"
     ]
    }
   ],
   "source": [
    "onoffs3 = [\"off\", \"off\", \"off\"]\n",
    "ranges3 = [((0, 9), (0, 9), (0, 0)),\n",
    "           ((0, 99), (0, 99), (0, 0)),\n",
    "           ((0, 999), (0, 999), (0, 0)),\n",
    "          ]\n",
    "assert find_total_intersection_size(onoffs3, ranges3, debug_print=True) == 0, find_total_intersection_size(onoffs3, ranges3)"
   ]
  },
  {
   "cell_type": "code",
   "execution_count": 25,
   "id": "framed-instruction",
   "metadata": {},
   "outputs": [
    {
     "name": "stdout",
     "output_type": "stream",
     "text": [
      "testing set 0 (on)\n",
      "\trunning_total=100\n",
      "testing set 1 (off)\n",
      "\trunning_total=100\n",
      "\ttesting 2-way intersections\n",
      "\teligible: {0}\n",
      "\teligible: {0} (after considering only 'on')\n",
      "\t\t combination (1, 0)\n",
      "\t\t yes, used_current={0}, size: 100, running_total=0\n",
      "\tall intersecting with 1: {0}\n"
     ]
    }
   ],
   "source": [
    "\n",
    "onoffs3 = [\"on\", \"off\"]\n",
    "ranges3 = [((0, 9), (0, 9), (0, 0)),\n",
    "           ((0, 99), (0, 99), (0, 0)),\n",
    "          ]\n",
    "assert find_total_intersection_size(onoffs3, ranges3, debug_print=True) == 0, find_total_intersection_size(onoffs3, ranges3)\n"
   ]
  },
  {
   "cell_type": "code",
   "execution_count": 26,
   "id": "earned-birmingham",
   "metadata": {},
   "outputs": [
    {
     "name": "stdout",
     "output_type": "stream",
     "text": [
      "testing set 0 (off)\n",
      "\trunning_total=0\n",
      "testing set 1 (on)\n",
      "\trunning_total=10000\n",
      "\ttesting 2-way intersections\n",
      "\teligible: {0}\n",
      "\teligible: set() (after considering only 'on')\n",
      "\tall intersecting with 1: set()\n",
      "\tNO 2-WAY INTERSECTIONS, SKIPPING REMAINING...\n"
     ]
    }
   ],
   "source": [
    "\n",
    "onoffs3 = [\"off\", \"on\"]\n",
    "ranges3 = [((0, 9), (0, 9), (0, 0)),\n",
    "           ((0, 99), (0, 99), (0, 0)),\n",
    "          ]\n",
    "\n",
    "assert find_total_intersection_size(onoffs3, ranges3, debug_print=True) == 10000, find_total_intersection_size(onoffs3, ranges3)\n",
    "\n"
   ]
  },
  {
   "cell_type": "code",
   "execution_count": 30,
   "id": "excess-production",
   "metadata": {},
   "outputs": [
    {
     "name": "stdout",
     "output_type": "stream",
     "text": [
      "testing set 0 (on)\n",
      "\trunning_total=4\n",
      "testing set 1 (off)\n",
      "\trunning_total=4\n",
      "\ttesting 2-way intersections\n",
      "\teligible: {0}\n",
      "\teligible: {0} (after considering only 'on')\n",
      "\t\t combination (1, 0)\n",
      "\t\t yes, used_current={0}, size: 4, running_total=0\n",
      "\tall intersecting with 1: {0}\n",
      "testing set 2 (on)\n",
      "\trunning_total=100\n",
      "\ttesting 2-way intersections\n",
      "\teligible: {0, 1}\n",
      "\teligible: {0} (after considering only 'on')\n",
      "\t\t combination (2, 0)\n",
      "\t\t yes, used_current={0, 1}, size: 4, running_total=96\n",
      "\tall intersecting with 2: {0, 1}\n",
      "\ttesting 3-way intersections\n",
      "\teligible: {0, 1}\n",
      "\t\t combination (2, 0, 1)\n",
      "\t\t yes, used_current={0, 1}, size: 4, running_total=100\n",
      "\tall intersecting with 2: {0, 1}\n"
     ]
    }
   ],
   "source": [
    "# test that all-off regions don't subtract from later overlapping 'on' regions \n",
    "\n",
    "onoffs3 = [\"on\", \"off\", \"on\"]\n",
    "ranges3 = [((0, 1), (0, 1), (0, 0)),\n",
    "           ((0, 2), (0, 2), (0, 0)),\n",
    "           ((0, 9), (0, 9), (0, 0)),\n",
    "          ]\n",
    "assert find_total_intersection_size(onoffs3, ranges3, debug_print=True) == 100, find_total_intersection_size(onoffs3, ranges3)\n"
   ]
  },
  {
   "cell_type": "code",
   "execution_count": 31,
   "id": "extended-bench",
   "metadata": {},
   "outputs": [
    {
     "name": "stdout",
     "output_type": "stream",
     "text": [
      "testing set 0 (on)\n",
      "\trunning_total=4\n",
      "testing set 1 (off)\n",
      "\trunning_total=4\n",
      "\ttesting 2-way intersections\n",
      "\teligible: {0}\n",
      "\teligible: {0} (after considering only 'on')\n",
      "\t\t combination (1, 0)\n",
      "\t\t yes, used_current={0}, size: 4, running_total=0\n",
      "\tall intersecting with 1: {0}\n",
      "testing set 2 (on)\n",
      "\trunning_total=16\n",
      "\ttesting 2-way intersections\n",
      "\teligible: {0, 1}\n",
      "\teligible: {0} (after considering only 'on')\n",
      "\t\t combination (2, 0)\n",
      "\t\t yes, used_current={0, 1}, size: 4, running_total=12\n",
      "\tall intersecting with 2: {0, 1}\n",
      "\ttesting 3-way intersections\n",
      "\teligible: {0, 1}\n",
      "\t\t combination (2, 0, 1)\n",
      "\t\t yes, used_current={0, 1}, size: 4, running_total=16\n",
      "\tall intersecting with 2: {0, 1}\n",
      "testing set 3 (off)\n",
      "\trunning_total=16\n",
      "\ttesting 2-way intersections\n",
      "\teligible: {0, 1, 2}\n",
      "\teligible: {0, 2} (after considering only 'on')\n",
      "\t\t combination (3, 0)\n",
      "\t\t yes, used_current={0, 1, 2}, size: 4, running_total=12\n",
      "\t\t combination (3, 2)\n",
      "\t\t yes, used_current={0, 1, 2}, size: 16, running_total=-4\n",
      "\tall intersecting with 3: {0, 1, 2}\n",
      "\ttesting 3-way intersections\n",
      "\teligible: {0, 1, 2}\n",
      "\t\t combination (3, 0, 1)\n",
      "\t\t yes, used_current={0, 1}, size: 4, running_total=0\n",
      "\t\t combination (3, 0, 2)\n",
      "\t\t yes, used_current={0, 1, 2}, size: 4, running_total=4\n",
      "\t\t combination (3, 1, 2)\n",
      "\t\t yes, used_current={0, 1, 2}, size: 9, running_total=13\n",
      "\tall intersecting with 3: {0, 1, 2}\n",
      "\ttesting 4-way intersections\n",
      "\teligible: {0, 1, 2}\n",
      "\teligible: {0, 2} (after considering only 'on')\n",
      "\tall intersecting with 3: {0, 1, 2}\n",
      "testing set 4 (on)\n",
      "\trunning_total=113\n",
      "\ttesting 2-way intersections\n",
      "\teligible: {0, 1, 2, 3}\n",
      "\teligible: {0, 2} (after considering only 'on')\n",
      "\t\t combination (4, 0)\n",
      "\t\t yes, used_current={0, 1, 2, 3}, size: 4, running_total=109\n",
      "\t\t combination (4, 2)\n",
      "\t\t yes, used_current={0, 1, 2, 3}, size: 16, running_total=93\n",
      "\tall intersecting with 4: {0, 1, 2, 3}\n",
      "\ttesting 3-way intersections\n",
      "\teligible: {0, 1, 2, 3}\n",
      "\t\t combination (4, 0, 1)\n",
      "\t\t yes, used_current={0, 1}, size: 4, running_total=97\n",
      "\t\t combination (4, 0, 2)\n",
      "\t\t yes, used_current={0, 1, 2}, size: 4, running_total=101\n",
      "\t\t combination (4, 0, 3)\n",
      "\t\t yes, used_current={0, 1, 2, 3}, size: 4, running_total=105\n",
      "\t\t combination (4, 1, 2)\n",
      "\t\t yes, used_current={0, 1, 2, 3}, size: 9, running_total=114\n",
      "\t\t combination (4, 1, 3)\n",
      "\t\t yes, used_current={0, 1, 2, 3}, size: 9, running_total=123\n",
      "\t\t combination (4, 2, 3)\n",
      "\t\t yes, used_current={0, 1, 2, 3}, size: 16, running_total=139\n",
      "\tall intersecting with 4: {0, 1, 2, 3}\n",
      "\ttesting 4-way intersections\n",
      "\teligible: {0, 1, 2, 3}\n",
      "\teligible: {0, 2} (after considering only 'on')\n",
      "\tall intersecting with 4: {0, 1, 2, 3}\n",
      "\ttesting 5-way intersections\n",
      "\teligible: {0, 1, 2, 3}\n",
      "\t\t combination (4, 0, 1, 2, 3)\n",
      "\t\t yes, used_current={0, 1, 2, 3}, size: 4, running_total=143\n",
      "\tall intersecting with 4: {0, 1, 2, 3}\n"
     ]
    },
    {
     "ename": "AssertionError",
     "evalue": "143",
     "output_type": "error",
     "traceback": [
      "\u001b[1;31m---------------------------------------------------------------------------\u001b[0m",
      "\u001b[1;31mAssertionError\u001b[0m                            Traceback (most recent call last)",
      "\u001b[1;32m<ipython-input-31-80b010c076f5>\u001b[0m in \u001b[0;36m<module>\u001b[1;34m\u001b[0m\n\u001b[0;32m      8\u001b[0m            \u001b[1;33m(\u001b[0m\u001b[1;33m(\u001b[0m\u001b[1;36m0\u001b[0m\u001b[1;33m,\u001b[0m \u001b[1;36m9\u001b[0m\u001b[1;33m)\u001b[0m\u001b[1;33m,\u001b[0m \u001b[1;33m(\u001b[0m\u001b[1;36m0\u001b[0m\u001b[1;33m,\u001b[0m \u001b[1;36m9\u001b[0m\u001b[1;33m)\u001b[0m\u001b[1;33m,\u001b[0m \u001b[1;33m(\u001b[0m\u001b[1;36m0\u001b[0m\u001b[1;33m,\u001b[0m \u001b[1;36m0\u001b[0m\u001b[1;33m)\u001b[0m\u001b[1;33m)\u001b[0m\u001b[1;33m,\u001b[0m\u001b[1;33m\u001b[0m\u001b[1;33m\u001b[0m\u001b[0m\n\u001b[0;32m      9\u001b[0m           ]\n\u001b[1;32m---> 10\u001b[1;33m \u001b[1;32massert\u001b[0m \u001b[0mfind_total_intersection_size\u001b[0m\u001b[1;33m(\u001b[0m\u001b[0monoffs3\u001b[0m\u001b[1;33m,\u001b[0m \u001b[0mranges3\u001b[0m\u001b[1;33m,\u001b[0m \u001b[0mdebug_print\u001b[0m\u001b[1;33m=\u001b[0m\u001b[1;32mTrue\u001b[0m\u001b[1;33m)\u001b[0m \u001b[1;33m==\u001b[0m \u001b[1;36m100\u001b[0m\u001b[1;33m,\u001b[0m \u001b[0mfind_total_intersection_size\u001b[0m\u001b[1;33m(\u001b[0m\u001b[0monoffs3\u001b[0m\u001b[1;33m,\u001b[0m \u001b[0mranges3\u001b[0m\u001b[1;33m)\u001b[0m\u001b[1;33m\u001b[0m\u001b[1;33m\u001b[0m\u001b[0m\n\u001b[0m",
      "\u001b[1;31mAssertionError\u001b[0m: 143"
     ]
    }
   ],
   "source": [
    "# test that all-off regions don't subtract from later overlapping 'on' regions \n",
    "\n",
    "onoffs3 = [\"on\", \"off\", \"on\", \"off\", \"on\"]\n",
    "ranges3 = [((0, 1), (0, 1), (0, 0)),\n",
    "           ((0, 2), (0, 2), (0, 0)),\n",
    "           ((0, 3), (0, 3), (0, 0)),\n",
    "           ((0, 4), (0, 4), (0, 0)),\n",
    "           ((0, 9), (0, 9), (0, 0)),\n",
    "          ]\n",
    "assert find_total_intersection_size(onoffs3, ranges3, debug_print=True) == 100, find_total_intersection_size(onoffs3, ranges3)\n"
   ]
  }
 ],
 "metadata": {
  "kernelspec": {
   "display_name": "Python 3",
   "language": "python",
   "name": "python3"
  },
  "language_info": {
   "codemirror_mode": {
    "name": "ipython",
    "version": 3
   },
   "file_extension": ".py",
   "mimetype": "text/x-python",
   "name": "python",
   "nbconvert_exporter": "python",
   "pygments_lexer": "ipython3",
   "version": "3.9.2"
  }
 },
 "nbformat": 4,
 "nbformat_minor": 5
}
