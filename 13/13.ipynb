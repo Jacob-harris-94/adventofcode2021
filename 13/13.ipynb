{
 "cells": [
  {
   "cell_type": "code",
   "execution_count": 6,
   "id": "b16643c8",
   "metadata": {},
   "outputs": [],
   "source": [
    "import numpy as np"
   ]
  },
  {
   "cell_type": "code",
   "execution_count": 7,
   "id": "69e39419",
   "metadata": {},
   "outputs": [],
   "source": [
    "# SET THIS TO LOAD EXAMPLE DATA INSTEAD\n",
    "# example = True\n",
    "example = False\n",
    "\n",
    "if example:\n",
    "    fname = 'example.txt'\n",
    "else:\n",
    "    fname = 'input.txt'\n",
    "\n",
    "with open(fname) as f:\n",
    "    lines = f.readlines()\n",
    "\n",
    "split = lines.index('\\n')\n",
    "points, folds = lines[0:split], lines[split+1:]\n",
    "points = [[int(num) for num in xy.strip().split(',')] for xy in points]\n",
    "temp = []\n",
    "for fold in folds:\n",
    "    axis, pos = fold.strip().split('=')\n",
    "    temp.append((axis[-1], int(pos)))\n",
    "folds = temp"
   ]
  },
  {
   "cell_type": "code",
   "execution_count": 9,
   "id": "68dd6a86",
   "metadata": {},
   "outputs": [
    {
     "name": "stdout",
     "output_type": "stream",
     "text": [
      "####  ##  #  # #  # ###  ####  ##  ### \n",
      "#    #  # #  # # #  #  # #    #  # #  #\n",
      "###  #  # #### ##   #  # ###  #    #  #\n",
      "#    #### #  # # #  ###  #    #    ### \n",
      "#    #  # #  # # #  # #  #    #  # #   \n",
      "#### #  # #  # #  # #  # ####  ##  #   \n",
      "Wall time: 4 ms\n"
     ]
    }
   ],
   "source": [
    "%%time\n",
    "\n",
    "def fold_point(point, axis, pos):\n",
    "    x, y = point\n",
    "    if axis == 'x':\n",
    "        return (pos-abs(pos-x), y)\n",
    "    else:\n",
    "        return (x, pos-abs(pos-y))\n",
    "\n",
    "old_points = points\n",
    "for ax, pos in folds:    \n",
    "    new_points = set()\n",
    "    for point in old_points:\n",
    "        new_points.add(fold_point(point, ax, pos))\n",
    "    old_points = new_points\n",
    "        \n",
    "xmax, ymax = map(max, zip(*old_points))\n",
    "paper = np.full((xmax+1, ymax+1), 0).astype(int)\n",
    "for x, y in old_points:\n",
    "    paper[x, y] = 1\n",
    "print(\"\\n\".join([\"\".join(['#' if val else ' ' for val in row]) for row in paper.T ]))"
   ]
  },
  {
   "cell_type": "code",
   "execution_count": null,
   "id": "1f34ee87",
   "metadata": {},
   "outputs": [],
   "source": []
  }
 ],
 "metadata": {
  "kernelspec": {
   "display_name": "Python 3 (ipykernel)",
   "language": "python",
   "name": "python3"
  },
  "language_info": {
   "codemirror_mode": {
    "name": "ipython",
    "version": 3
   },
   "file_extension": ".py",
   "mimetype": "text/x-python",
   "name": "python",
   "nbconvert_exporter": "python",
   "pygments_lexer": "ipython3",
   "version": "3.9.7"
  }
 },
 "nbformat": 4,
 "nbformat_minor": 5
}
