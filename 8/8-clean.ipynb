{
 "cells": [
  {
   "cell_type": "code",
   "execution_count": 1,
   "id": "714f53aa",
   "metadata": {},
   "outputs": [],
   "source": [
    "import numpy as np\n",
    "from collections import Counter"
   ]
  },
  {
   "cell_type": "code",
   "execution_count": 2,
   "id": "69e39419",
   "metadata": {},
   "outputs": [],
   "source": [
    "# SET THIS TO LOAD EXAMPLE DATA INSTEAD\n",
    "\n",
    "# example = True\n",
    "example = False\n",
    "\n",
    "if example:\n",
    "    fname = 'example.txt'\n",
    "else:\n",
    "    fname = 'input.txt'\n",
    "\n",
    "with open(fname) as f:\n",
    "    lines = f.readlines()\n",
    "\n",
    "data = []\n",
    "for line in lines:\n",
    "    first, second = line.split(' | ')\n",
    "    data.append( ([\"\".join(sorted(bunch.strip())) for bunch in first.split(' ')], [\"\".join(sorted(bunch.strip())) for bunch in second.split(' ')]) )"
   ]
  },
  {
   "cell_type": "code",
   "execution_count": 3,
   "id": "5b07bb1f",
   "metadata": {},
   "outputs": [
    {
     "data": {
      "text/plain": [
       "381"
      ]
     },
     "execution_count": 3,
     "metadata": {},
     "output_type": "execute_result"
    }
   ],
   "source": [
    "sum([(len(signals) == 2 or len(signals) == 3 or len(signals) == 4 or len(signals) == 7) for _, outputs in data for signals in outputs ])"
   ]
  },
  {
   "cell_type": "code",
   "execution_count": 14,
   "id": "bc33a940",
   "metadata": {},
   "outputs": [],
   "source": [
    "# credit https://stackoverflow.com/a/40891978/16928241\n",
    "import numpy as np\n",
    "import itertools as it\n",
    "import math\n",
    "def myPerms(k):\n",
    "    f_k=math.factorial(k)\n",
    "    A=np.empty((f_k,k))\n",
    "    for i,perm in enumerate(it.permutations(range(k))):\n",
    "        A[i,:] = perm\n",
    "    return A.astype(int)\n",
    "\n",
    "all_perms = myPerms(7)\n",
    "# print(all_perms)"
   ]
  },
  {
   "cell_type": "code",
   "execution_count": 12,
   "id": "e8af7611",
   "metadata": {},
   "outputs": [],
   "source": [
    "num_patterns = [\n",
    "    'abcefg', # 0\n",
    "    'cf', # 1\n",
    "    'acdeg', # 2\n",
    "    'acdfg', # 3\n",
    "    'bcdf', # 4\n",
    "    'abdfg', # 5\n",
    "    'abdefg', # 6\n",
    "    'acf', # 7\n",
    "    'abcdefg', # 8\n",
    "    'abcdfg', # 9\n",
    "]\n",
    "\n",
    "num_patterns_2 = [[ord(char)-97 for char in pattern] for pattern in num_patterns]\n",
    "# num_patterns_2 # 7 should go from acf to acg in perms[1]"
   ]
  },
  {
   "cell_type": "code",
   "execution_count": 9,
   "id": "8bc15b2a",
   "metadata": {},
   "outputs": [],
   "source": [
    "# signals x digit array\n",
    "signals_digit = np.full((7, 10), 0)\n",
    "\n",
    "for digit, segments in enumerate(num_patterns_2):\n",
    "    signals_digit[segments, digit] = 1\n",
    "\n",
    "signals_digit = np.array(signals_digit)"
   ]
  },
  {
   "cell_type": "code",
   "execution_count": 10,
   "id": "1ce917cb",
   "metadata": {},
   "outputs": [],
   "source": [
    "all_signals_digits = np.eye(7).astype(int)[:,all_perms].dot(signals_digit).transpose([1, 0, 2])\n",
    "\n",
    "all_perm_maps = [[\"\".join([letter for letter, include in zip('abcdefg', row) if include]) for row in perm.T] for perm in all_signals_digits]\n",
    "#all_perm_maps[0:2] # 7 should go from acf to acg in perms[1]"
   ]
  },
  {
   "cell_type": "code",
   "execution_count": 11,
   "id": "a260a6ed",
   "metadata": {},
   "outputs": [
    {
     "name": "stdout",
     "output_type": "stream",
     "text": [
      "1023686\n"
     ]
    }
   ],
   "source": [
    "# [sum(ta in pattern for ta in test) for pattern in all_patterns]\n",
    "\n",
    "output_sum = 0\n",
    "for inputs, outputs in data:\n",
    "    max_matches = 0\n",
    "    for perm_idx, pattern in enumerate(all_perm_maps):\n",
    "        matches = sum(ta in pattern for ta in inputs)\n",
    "        if matches > max_matches:\n",
    "            max_matches = matches\n",
    "        if matches == len(inputs):\n",
    "            output_val = int(\"\".join([str(pattern.index(output)) for output in outputs]))\n",
    "            output_sum += output_val\n",
    "            break # assume there will only ever be 1 valid mapping\n",
    "\n",
    "print(output_sum)"
   ]
  },
  {
   "cell_type": "code",
   "execution_count": null,
   "id": "941a1a79",
   "metadata": {},
   "outputs": [],
   "source": []
  }
 ],
 "metadata": {
  "kernelspec": {
   "display_name": "Python 3 (ipykernel)",
   "language": "python",
   "name": "python3"
  },
  "language_info": {
   "codemirror_mode": {
    "name": "ipython",
    "version": 3
   },
   "file_extension": ".py",
   "mimetype": "text/x-python",
   "name": "python",
   "nbconvert_exporter": "python",
   "pygments_lexer": "ipython3",
   "version": "3.9.7"
  }
 },
 "nbformat": 4,
 "nbformat_minor": 5
}
