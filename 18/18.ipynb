{
 "cells": [
  {
   "cell_type": "code",
   "execution_count": 4,
   "id": "431037e3",
   "metadata": {},
   "outputs": [],
   "source": [
    "import ast"
   ]
  },
  {
   "cell_type": "code",
   "execution_count": 147,
   "id": "6003251f",
   "metadata": {},
   "outputs": [],
   "source": [
    "# fname = 'example.txt'\n",
    "fname = 'input.txt'\n",
    "with open(fname) as f:\n",
    "    lines = f.readlines()\n",
    "data = [ast.literal_eval(line.strip()) for line in lines]\n",
    "data = [line.strip() for line in lines]"
   ]
  },
  {
   "cell_type": "code",
   "execution_count": 148,
   "id": "7ed02b26",
   "metadata": {},
   "outputs": [],
   "source": [
    "# # even smaller test\n",
    "# data = ast.literal_eval(\"[[[[[9,8],1],2],3],4]\")\n",
    "# data = \"[[[[[9,8],1],2],3],4]\""
   ]
  },
  {
   "cell_type": "code",
   "execution_count": 149,
   "id": "4481823b",
   "metadata": {},
   "outputs": [
    {
     "data": {
      "text/plain": [
       "['[[[6,[8,3]],[2,0]],[[[9,5],[9,1]],3]]',\n",
       " '[[[9,[2,2]],[5,4]],[[[2,2],[9,6]],[7,7]]]',\n",
       " '[[[0,[3,2]],1],[[0,[2,8]],[2,[0,4]]]]',\n",
       " '[[4,4],[[[7,0],5],[3,1]]]',\n",
       " '[[5,4],1]',\n",
       " '[[[[7,6],4],9],[[9,1],9]]',\n",
       " '[[[1,[7,8]],[[7,7],[1,6]]],[1,[6,[7,1]]]]',\n",
       " '[[[[6,8],[5,6]],[[1,1],8]],[[[2,0],[3,1]],[2,[2,6]]]]',\n",
       " '[[[6,3],[3,[7,1]]],8]',\n",
       " '[[[9,4],[3,[0,6]]],[[2,[3,6]],[[9,8],[1,6]]]]',\n",
       " '[9,[0,[[0,7],2]]]',\n",
       " '[[[[8,4],7],[[9,2],[0,9]]],[[7,9],[8,[0,9]]]]',\n",
       " '[[1,1],[[5,[3,8]],[3,[4,7]]]]',\n",
       " '[[[9,[2,9]],[2,[2,9]]],[[[3,5],5],[[3,3],2]]]',\n",
       " '[[[[5,4],9],0],[[[5,7],2],[[5,2],9]]]',\n",
       " '[[2,[[1,0],[6,2]]],0]',\n",
       " '[[[3,7],[7,6]],[[[2,8],5],[3,[9,7]]]]',\n",
       " '[[2,[2,[8,8]]],[[[9,9],[1,1]],[[8,6],[0,3]]]]',\n",
       " '[[8,1],[3,5]]',\n",
       " '[[7,[[7,6],[2,0]]],4]',\n",
       " '[[5,4],[[1,3],[5,[2,8]]]]',\n",
       " '[7,9]',\n",
       " '[[[[6,9],0],[1,[5,0]]],[[[6,4],3],7]]',\n",
       " '[[[[3,7],3],[2,6]],[[0,4],[9,9]]]',\n",
       " '[[[[1,5],[5,0]],[9,4]],[[[8,3],3],[8,[3,6]]]]',\n",
       " '[[[[3,7],5],[[8,5],[1,5]]],[[0,6],[3,4]]]',\n",
       " '[[[[4,0],2],[7,[8,4]]],[0,[5,[7,8]]]]',\n",
       " '[[[[0,8],[0,4]],[9,3]],[[[5,4],[4,8]],[[1,6],[5,4]]]]',\n",
       " '[[0,[0,3]],[[3,[1,5]],[[9,6],[0,6]]]]',\n",
       " '[[9,[8,4]],[7,1]]',\n",
       " '[[[[1,9],[7,7]],9],[[6,[4,5]],[8,[3,2]]]]',\n",
       " '[5,[[2,[9,5]],[3,[4,0]]]]',\n",
       " '[[[6,2],[[1,8],5]],6]',\n",
       " '[[8,[6,[6,4]]],[0,[[9,8],7]]]',\n",
       " '[[[[6,3],[8,0]],[8,[2,7]]],8]',\n",
       " '[[[6,[3,6]],[[4,0],[4,7]]],[0,[[4,0],[4,5]]]]',\n",
       " '[[[3,[8,1]],1],[2,3]]',\n",
       " '[[[6,[7,0]],[[3,5],[3,4]]],7]',\n",
       " '[[[[8,0],3],8],[[[1,6],3],[[0,5],2]]]',\n",
       " '[[[3,7],[[9,8],8]],[[[8,4],7],[3,[1,7]]]]',\n",
       " '[[[0,5],[[5,5],[7,8]]],[9,[5,[2,2]]]]',\n",
       " '[[2,9],[[[7,4],4],[[8,0],[6,9]]]]',\n",
       " '[[[[7,8],[8,8]],0],9]',\n",
       " '[[[4,[0,6]],[[5,9],[0,1]]],[3,[6,7]]]',\n",
       " '[[[7,[6,9]],[5,[6,4]]],[[[3,9],6],[[0,1],1]]]',\n",
       " '[3,[[[6,9],7],[5,8]]]',\n",
       " '[[[3,9],[[3,5],2]],[[[2,5],[4,6]],[8,0]]]',\n",
       " '[[[9,7],3],[[[2,7],[0,9]],[3,[0,3]]]]',\n",
       " '[[3,[4,0]],[[6,6],[4,5]]]',\n",
       " '[[0,0],[[5,9],1]]',\n",
       " '[[[6,8],[2,6]],[[[1,1],3],7]]',\n",
       " '[[[4,4],[[1,0],[2,4]]],[2,6]]',\n",
       " '[[[[6,0],6],[8,[9,9]]],[[4,2],[[1,8],[5,3]]]]',\n",
       " '[[[[1,6],[4,3]],[5,5]],[[7,[9,9]],4]]',\n",
       " '[[[[6,9],7],[9,3]],[[[9,6],5],0]]',\n",
       " '[[3,[[7,2],[8,1]]],[[7,[3,0]],1]]',\n",
       " '[0,[0,[1,3]]]',\n",
       " '[[[0,5],[[6,1],[4,6]]],[[[0,4],8],[[4,5],9]]]',\n",
       " '[[[[7,5],[7,0]],[6,[7,2]]],[7,[3,[4,1]]]]',\n",
       " '[[3,3],[0,[6,2]]]',\n",
       " '[[[3,8],[[7,3],6]],[[[0,8],3],[[8,9],[2,9]]]]',\n",
       " '[[4,[[5,6],[4,0]]],[[7,[7,5]],[5,0]]]',\n",
       " '[[[[2,5],[5,4]],9],[[[6,0],[0,0]],[[5,1],8]]]',\n",
       " '[[2,[[1,7],7]],[[[4,5],[7,9]],0]]',\n",
       " '[[[0,9],[[5,4],3]],3]',\n",
       " '[[9,[[1,9],[1,6]]],[[9,[0,3]],[[8,8],[0,7]]]]',\n",
       " '[[[[7,2],4],[7,8]],[[[4,1],[3,1]],[2,5]]]',\n",
       " '[[[[1,8],3],[2,5]],[[0,[5,8]],[[1,3],[5,2]]]]',\n",
       " '[[3,9],[[9,6],[5,[7,1]]]]',\n",
       " '[1,[[3,[6,5]],[5,[2,7]]]]',\n",
       " '[[[5,8],6],[8,[[9,4],[0,4]]]]',\n",
       " '[0,[[5,[6,6]],[[7,4],[4,6]]]]',\n",
       " '[[[[6,8],2],[[1,6],[8,2]]],6]',\n",
       " '[7,2]',\n",
       " '[[3,1],7]',\n",
       " '[[[2,[9,5]],0],[[[7,3],4],8]]',\n",
       " '[[[[0,0],[4,2]],5],[[8,6],2]]',\n",
       " '[[1,[7,8]],[2,[[6,6],[5,7]]]]',\n",
       " '[[[3,[6,0]],3],[[7,[4,4]],8]]',\n",
       " '[[[9,[8,7]],[[4,2],4]],[[6,1],[[3,3],[2,2]]]]',\n",
       " '[[[8,1],[[7,4],[5,9]]],9]',\n",
       " '[[[2,[8,6]],[[9,8],2]],[[9,5],[1,[9,8]]]]',\n",
       " '[[[[6,1],[3,1]],[[4,5],1]],[[[6,4],[6,2]],2]]',\n",
       " '[[[[4,0],[0,1]],[[1,4],6]],7]',\n",
       " '[[[[8,9],[0,2]],4],[[[9,8],8],[0,[0,6]]]]',\n",
       " '[0,[[[0,9],1],7]]',\n",
       " '[[1,[[3,7],3]],[[[2,4],3],0]]',\n",
       " '[[[[7,6],3],8],[[5,5],9]]',\n",
       " '[[2,[1,3]],[[[6,7],3],[[3,8],7]]]',\n",
       " '[[[[0,6],6],6],[[5,[0,9]],[8,[2,4]]]]',\n",
       " '[4,[[[3,0],[2,5]],[[7,4],1]]]',\n",
       " '[[[[7,9],3],[0,[8,2]]],[[8,[3,4]],[[2,3],[1,6]]]]',\n",
       " '[[[3,[6,3]],5],[[3,4],2]]',\n",
       " '[[[[1,9],[0,3]],[0,8]],[[[4,2],[4,3]],[[8,9],5]]]',\n",
       " '[[[[2,8],[4,9]],[[3,5],6]],[[6,[1,5]],[0,[9,7]]]]',\n",
       " '[[6,3],[[[7,7],[1,7]],[[6,5],[0,8]]]]',\n",
       " '[[1,[1,[5,8]]],7]',\n",
       " '[[0,6],[9,[[3,4],0]]]',\n",
       " '[[[[0,2],7],9],9]',\n",
       " '[9,6]']"
      ]
     },
     "execution_count": 149,
     "metadata": {},
     "output_type": "execute_result"
    }
   ],
   "source": [
    "data"
   ]
  },
  {
   "cell_type": "code",
   "execution_count": 31,
   "id": "84ae6446",
   "metadata": {},
   "outputs": [
    {
     "name": "stdout",
     "output_type": "stream",
     "text": [
      "0\tleft: <class 'list'>\t right: <class 'int'>\n",
      "1\tleft: <class 'list'>\t right: <class 'int'>\n",
      "2\tleft: <class 'list'>\t right: <class 'int'>\n",
      "3\tleft: <class 'list'>\t right: <class 'int'>\n",
      "4\tleft: <class 'int'>\t right: <class 'int'>\n",
      "Explode me!\n"
     ]
    }
   ],
   "source": [
    "def explore(sf_num, depth=0):\n",
    "    left, right = sf_num\n",
    "    print(f\"{depth}\\tleft: {type(left)}\\t right: {type(right)}\")\n",
    "    if depth >= 4:\n",
    "        print(\"Explode me!\")\n",
    "    if type(left) == list:\n",
    "        explore(left, depth=depth+1)\n",
    "    if type(right) == list:\n",
    "        explore(right, depth=depth+1)\n",
    "\n",
    "# for num in data:\n",
    "#     explore(num)\n",
    "\n",
    "explore(data)"
   ]
  },
  {
   "cell_type": "code",
   "execution_count": 51,
   "id": "be71bc80",
   "metadata": {},
   "outputs": [
    {
     "ename": "SyntaxError",
     "evalue": "invalid syntax (Temp/ipykernel_7392/1669669707.py, line 25)",
     "output_type": "error",
     "traceback": [
      "\u001b[1;36m  File \u001b[1;32m\"C:\\Users\\jacob\\AppData\\Local\\Temp/ipykernel_7392/1669669707.py\"\u001b[1;36m, line \u001b[1;32m25\u001b[0m\n\u001b[1;33m    lr explode(right, depth=depth+1)\u001b[0m\n\u001b[1;37m       ^\u001b[0m\n\u001b[1;31mSyntaxError\u001b[0m\u001b[1;31m:\u001b[0m invalid syntax\n"
     ]
    }
   ],
   "source": [
    "def explode(sf_num, depth=0):\n",
    "    left, right = sf_num\n",
    "    print(f\"{depth}\\tleft: {type(left)}\\t right: {type(right)}\")\n",
    "    if depth >= 4:\n",
    "        print(\"Explode me!\")\n",
    "        return (left, right)\n",
    "#         sf_num[0] += 1\n",
    "    if type(left) == list:\n",
    "        lr = explode(left, depth=depth+1)\n",
    "        if lr:\n",
    "            # try to add to right side, because child is on the left\n",
    "            if type(right) == int:\n",
    "                child_l, child_r = lr\n",
    "                if child_r:\n",
    "                    sf_num[1] += child_r\n",
    "                else:\n",
    "                    # already added somewhere\n",
    "                    return ...\n",
    "            else:\n",
    "                # not available on the right\n",
    "                return ...\n",
    "        else: \n",
    "            return lr\n",
    "    if type(right) == list:\n",
    "        lr explode(right, depth=depth+1)\n",
    "        if lr:\n",
    "            # try to add to left side, because child is on the right\n",
    "            pass\n",
    "        else: \n",
    "            return lr\n",
    "\n",
    "# for num in data:\n",
    "#     explore(num)\n",
    "\n",
    "explode(data)\n",
    "data"
   ]
  },
  {
   "cell_type": "markdown",
   "id": "9154fb23",
   "metadata": {},
   "source": [
    "# alternate approach"
   ]
  },
  {
   "cell_type": "code",
   "execution_count": 49,
   "id": "66658bb8",
   "metadata": {},
   "outputs": [],
   "source": [
    "# keep track of two lists (or a list of pairs) which have number and depth.\n",
    "# adjacent numbers at the same depth are paired. \n",
    "# two numbers at depth 4 are elligible for explode\n",
    "    # this can be found easily by depth list\n",
    "    # explode can be carried out by referencing indices"
   ]
  },
  {
   "cell_type": "code",
   "execution_count": 130,
   "id": "7841489d",
   "metadata": {},
   "outputs": [],
   "source": [
    "def parse_sfn(sfn):\n",
    "    values = []\n",
    "    depths = []\n",
    "    depth = 0\n",
    "    for char in sfn:\n",
    "        if char == '[':\n",
    "            depth += 1\n",
    "        elif char == ']':\n",
    "            depth -= 1\n",
    "        elif char == ',':\n",
    "            continue\n",
    "        else:\n",
    "            values.append(int(char))\n",
    "            depths.append(depth)\n",
    "    return values, depths"
   ]
  },
  {
   "cell_type": "code",
   "execution_count": 110,
   "id": "74fe822c",
   "metadata": {},
   "outputs": [],
   "source": [
    "def find_explode(depths):\n",
    "    for ii, pair in enumerate(zip(depths, depths[1:])):\n",
    "        if pair == (5, 5):\n",
    "            return ii\n",
    "    return None\n",
    "\n",
    "def explode(values, depths, idx):\n",
    "    # idx is the first of the pair\n",
    "    left, right = values[idx], values[idx + 1]\n",
    "#     print(f\"{left=}, {right=}\")\n",
    "    # add to left and right if they exist\n",
    "    if idx > 0:\n",
    "        values[idx - 1] += left\n",
    "    if idx < len(values) - 2:\n",
    "        values[idx + 2] += right\n",
    "    # replace pair with 0\n",
    "    \n",
    "    values[idx] = 0\n",
    "    del values[idx + 1]\n",
    "    \n",
    "    depths[idx] -= 1\n",
    "    del depths[idx + 1]"
   ]
  },
  {
   "cell_type": "code",
   "execution_count": 103,
   "id": "922e6c27",
   "metadata": {},
   "outputs": [],
   "source": [
    "def find_split(values):\n",
    "    for ii, val in enumerate(values):\n",
    "        if val >= 10:\n",
    "            return ii\n",
    "    return None\n",
    "\n",
    "def split(values, depths, idx):\n",
    "    to_split = values[idx]\n",
    "    \n",
    "    down = round(to_split / 2 - 0.1)\n",
    "    up = round(to_split / 2 + 0.1)\n",
    "    \n",
    "    values[idx] = down\n",
    "    values.insert(idx + 1, up)\n",
    "    \n",
    "    depths[idx] += 1\n",
    "    depths.insert(idx + 1, depths[idx])"
   ]
  },
  {
   "cell_type": "code",
   "execution_count": 116,
   "id": "f2a13d8b",
   "metadata": {},
   "outputs": [],
   "source": [
    "def reduce(values, depths):\n",
    "    stuff_to_do = True\n",
    "    while stuff_to_do:\n",
    "        stuff_to_do = False\n",
    "        exp_idx = find_explode(depths)\n",
    "        split_idx = find_split(values)\n",
    "        if exp_idx is not None:\n",
    "    #         print(\"sploding\")\n",
    "            stuff_to_do = True\n",
    "            explode(values, depths, exp_idx)\n",
    "        elif split_idx is not None:\n",
    "    #         print(\"splitting\")\n",
    "            stuff_to_do = True\n",
    "            split(values, depths, split_idx)\n",
    "    return values, depths"
   ]
  },
  {
   "cell_type": "code",
   "execution_count": 114,
   "id": "432df591",
   "metadata": {},
   "outputs": [],
   "source": [
    "def find_pair(depths):\n",
    "    for ii, pair in enumerate(zip(depths, depths[1:])):\n",
    "        if pair[0] == pair[1]:\n",
    "            return ii\n",
    "    return None\n",
    "\n",
    "def magnitude(values, depths):\n",
    "    values = values.copy()\n",
    "    depths = depths.copy()\n",
    "    \n",
    "    while(len(values) > 1):\n",
    "        pair_idx = find_pair(depths)\n",
    "        if pair_idx is not None:\n",
    "            left_idx, right_idx = pair_idx, pair_idx + 1\n",
    "            mag = 3 * values[left_idx] + 2 * values[right_idx]\n",
    "            values[left_idx] = mag\n",
    "            del values[right_idx]\n",
    "            depths[left_idx] -= 1\n",
    "            del depths[right_idx]\n",
    "    print(values)\n",
    "    return values[0]\n",
    "        \n",
    "        "
   ]
  },
  {
   "cell_type": "code",
   "execution_count": 138,
   "id": "d6eeb267",
   "metadata": {},
   "outputs": [
    {
     "data": {
      "text/plain": [
       "([1, 2, 3, 4, 5], [2, 2, 3, 3, 2])"
      ]
     },
     "execution_count": 138,
     "metadata": {},
     "output_type": "execute_result"
    }
   ],
   "source": [
    "def add_sfn(sfn1, sfn2):\n",
    "    \n",
    "    if sfn1 is None:\n",
    "        return sfn2\n",
    "    elif sfn2 is None:\n",
    "        return sfn1\n",
    "    \n",
    "    v1, d1 = sfn1\n",
    "    v2, d2 = sfn2\n",
    "    \n",
    "    return v1 + v2, [depth + 1 for depth in d1 + d2]\n",
    "\n",
    "add_sfn(parse_sfn(\"[1,2]\"), parse_sfn(\"[[3,4],5]\"))"
   ]
  },
  {
   "cell_type": "code",
   "execution_count": 151,
   "id": "9e0c242e",
   "metadata": {},
   "outputs": [
    {
     "name": "stdout",
     "output_type": "stream",
     "text": [
      "[2551]\n"
     ]
    },
    {
     "data": {
      "text/plain": [
       "2551"
      ]
     },
     "execution_count": 151,
     "metadata": {},
     "output_type": "execute_result"
    }
   ],
   "source": [
    "running_sum = None\n",
    "for sfn in data:\n",
    "    vals_depths = parse_sfn(sfn)\n",
    "    running_sum = add_sfn(vals_depths, running_sum)\n",
    "    reduce(*running_sum)\n",
    "\n",
    "magnitude(*running_sum)"
   ]
  },
  {
   "cell_type": "code",
   "execution_count": null,
   "id": "a1506aeb",
   "metadata": {},
   "outputs": [],
   "source": []
  }
 ],
 "metadata": {
  "kernelspec": {
   "display_name": "Python 3 (ipykernel)",
   "language": "python",
   "name": "python3"
  },
  "language_info": {
   "codemirror_mode": {
    "name": "ipython",
    "version": 3
   },
   "file_extension": ".py",
   "mimetype": "text/x-python",
   "name": "python",
   "nbconvert_exporter": "python",
   "pygments_lexer": "ipython3",
   "version": "3.9.7"
  }
 },
 "nbformat": 4,
 "nbformat_minor": 5
}
