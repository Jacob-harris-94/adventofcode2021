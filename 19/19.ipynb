{
 "cells": [
  {
   "cell_type": "code",
   "execution_count": 260,
   "id": "10ce9f6f",
   "metadata": {},
   "outputs": [],
   "source": [
    "import numpy as np\n",
    "from itertools import permutations, product\n",
    "from collections import Counter, defaultdict"
   ]
  },
  {
   "cell_type": "code",
   "execution_count": 254,
   "id": "6003251f",
   "metadata": {},
   "outputs": [],
   "source": [
    "# fname = 'example_short.txt'\n",
    "fname = 'example.txt'\n",
    "# fname = 'input.txt'\n",
    "with open(fname) as f:\n",
    "    lines = f.readlines()\n",
    "\n",
    "lines\n",
    "\n",
    "scanners = []\n",
    "start, end = 0, 0\n",
    "for ii, line in enumerate(lines + [\"\\n\"]):\n",
    "    if \"scanner\" in line:\n",
    "        start = ii + 1\n",
    "    elif line == \"\\n\":\n",
    "        end = ii\n",
    "    if end > start:\n",
    "        scanners.append(lines[start : end])\n",
    "\n",
    "        \n",
    "scanners = [[[int(num) for num in beacon.strip().split(',')] for beacon in scanner] for scanner in scanners]\n",
    "# scanners\n",
    "scanner_dict = dict()\n",
    "for ii in range(len(scanners)):\n",
    "    scanner_dict[ii] = np.array(scanners[ii])\n",
    "# scanner_dict"
   ]
  },
  {
   "cell_type": "code",
   "execution_count": 255,
   "id": "de9fe712",
   "metadata": {},
   "outputs": [
    {
     "data": {
      "text/plain": [
       "(5, [25, 25, 26, 25, 26])"
      ]
     },
     "execution_count": 255,
     "metadata": {},
     "output_type": "execute_result"
    }
   ],
   "source": [
    "len(scanner_dict), [len(scanner_dict[ii]) for ii in range(len(scanner_dict))]"
   ]
  },
  {
   "cell_type": "markdown",
   "id": "63afd2a0",
   "metadata": {},
   "source": [
    "# Generating all valid right-hand-rule COB matrices\n",
    "1. generate all axis direction vectors a, b\n",
    "2. for every non-same a, b pair, find c = a cross b\n",
    "3. assemble matrix [a, b, c]"
   ]
  },
  {
   "cell_type": "code",
   "execution_count": 322,
   "id": "b84991d1",
   "metadata": {},
   "outputs": [],
   "source": [
    "all_basis_vectors = [\n",
    "    np.array([1, 0, 0]),\n",
    "    np.array([0, 1, 0]),\n",
    "    np.array([0, 0, 1]),\n",
    "    np.array([-1, 0, 0]),\n",
    "    np.array([0, -1, 0]),\n",
    "    np.array([0, 0, -1]),\n",
    "]\n",
    "\n",
    "COBs_3D = []\n",
    "COBs_inv_3D = []\n",
    "count = 0\n",
    "for e_i in all_basis_vectors:\n",
    "    for e_j in all_basis_vectors:\n",
    "        if (e_i != e_j).any() and (e_i != -1 * e_j).any():\n",
    "            count += 1\n",
    "            e_k = np.cross(e_i, e_j)\n",
    "            COB = np.vstack([e_i, e_j, e_k]).T\n",
    "            COBs_3D.append(COB)\n",
    "            COBs_inv_3D.append(np.linalg.inv(COB).astype(int))\n",
    "assert count == 24\n",
    "# COBs_inv_3D"
   ]
  },
  {
   "cell_type": "code",
   "execution_count": 188,
   "id": "0c0d4c1c",
   "metadata": {},
   "outputs": [],
   "source": [
    "all_basis_vectors = [\n",
    "    np.array([1, 0, 0]),\n",
    "    np.array([0, 1, 0]),\n",
    "    np.array([-1, 0, 0]),\n",
    "    np.array([0, -1, 0]),\n",
    "]\n",
    "\n",
    "COBs_2D = []\n",
    "COBs_inv_2D = []\n",
    "count = 0\n",
    "for e_i in all_basis_vectors:\n",
    "    for e_j in all_basis_vectors:\n",
    "        if (e_i != e_j).any() and (e_i != -1 * e_j).any():\n",
    "            if (np.cross(e_i, e_j) >= 0).all():\n",
    "                # check that cross product is positive\n",
    "                count += 1\n",
    "                COB = np.vstack([e_i[:-1], e_j[:-1]]).T\n",
    "                COBs_2D.append(COB)\n",
    "                COBs_inv_2D.append(np.linalg.inv(COB).astype(int))\n",
    "assert count == 4"
   ]
  },
  {
   "cell_type": "code",
   "execution_count": 190,
   "id": "0d446ca3",
   "metadata": {
    "scrolled": false
   },
   "outputs": [
    {
     "data": {
      "text/plain": [
       "([array([[1, 0],\n",
       "         [0, 1]]),\n",
       "  array([[ 0, -1],\n",
       "         [ 1,  0]]),\n",
       "  array([[-1,  0],\n",
       "         [ 0, -1]]),\n",
       "  array([[ 0,  1],\n",
       "         [-1,  0]])],\n",
       " [array([[1, 0],\n",
       "         [0, 1]]),\n",
       "  array([[ 0,  1],\n",
       "         [-1,  0]]),\n",
       "  array([[-1,  0],\n",
       "         [ 0, -1]]),\n",
       "  array([[ 0, -1],\n",
       "         [ 1,  0]])])"
      ]
     },
     "execution_count": 190,
     "metadata": {},
     "output_type": "execute_result"
    }
   ],
   "source": [
    "COBs_2D, COBs_inv_2D"
   ]
  },
  {
   "cell_type": "code",
   "execution_count": 191,
   "id": "db7395d5",
   "metadata": {},
   "outputs": [
    {
     "data": {
      "text/plain": [
       "array([[ 0, -1],\n",
       "       [ 1,  0]])"
      ]
     },
     "execution_count": 191,
     "metadata": {},
     "output_type": "execute_result"
    }
   ],
   "source": [
    "COBs_2D[1]"
   ]
  },
  {
   "cell_type": "markdown",
   "id": "c2bfbe44",
   "metadata": {},
   "source": [
    "# Test a simpler 2d case\n",
    "## Setup\n",
    "* $S_0$ shall be the refence coordinate system\n",
    "* S_1 shall be at a $k*90$ degree orientation to $S_0$, defined by a change of basis matrix\n",
    "* points will be generated wrt $S_0$ and translated to $S_1$\n",
    "* all 4 possible inverse change-of-bases matrices will be attempted to get original points (or is it S_1 location?)"
   ]
  },
  {
   "cell_type": "code",
   "execution_count": 192,
   "id": "d0cd4d57",
   "metadata": {},
   "outputs": [
    {
     "data": {
      "text/plain": [
       "(array([[ 0, -1],\n",
       "        [ 1,  0]]),\n",
       " array([5, 5]))"
      ]
     },
     "execution_count": 192,
     "metadata": {},
     "output_type": "execute_result"
    }
   ],
   "source": [
    "S1_COB = np.array([[0, -1], [1, 0]]) # rotate x and y 90 ccw, COBs_2D[1]\n",
    "S1_pos = np.array([5, 5])\n",
    "S1_COB, S1_pos"
   ]
  },
  {
   "cell_type": "code",
   "execution_count": 193,
   "id": "517887a5",
   "metadata": {},
   "outputs": [
    {
     "data": {
      "text/plain": [
       "array([[ 4, -4],\n",
       "       [ 1, -3],\n",
       "       [ 2, -2],\n",
       "       [ 1, -5],\n",
       "       [ 2, -1]])"
      ]
     },
     "execution_count": 193,
     "metadata": {},
     "output_type": "execute_result"
    }
   ],
   "source": [
    "points = [\n",
    "    np.array([1, 1]),\n",
    "    np.array([2, 4]),\n",
    "    np.array([3, 3]),\n",
    "    np.array([0, 4]),\n",
    "    np.array([4, 3]),\n",
    "]\n",
    "\n",
    "points_rel_S1 = [S1_COB @ (point - S1_pos) for point in points]\n",
    "points_rel_S1_arr = np.array(points_rel_S1)\n",
    "#points, points_rel_S1, \n",
    "points_rel_S1_arr"
   ]
  },
  {
   "cell_type": "code",
   "execution_count": 194,
   "id": "6c5b14bd",
   "metadata": {},
   "outputs": [
    {
     "data": {
      "text/plain": [
       "array([[1, 0],\n",
       "       [0, 1]])"
      ]
     },
     "execution_count": 194,
     "metadata": {},
     "output_type": "execute_result"
    }
   ],
   "source": [
    "S1_COB_inv = np.linalg.inv(S1_COB).astype(int)\n",
    "S1_COB @ S1_COB_inv"
   ]
  },
  {
   "cell_type": "code",
   "execution_count": 200,
   "id": "bfd7deb3",
   "metadata": {},
   "outputs": [
    {
     "name": "stdout",
     "output_type": "stream",
     "text": [
      "5\n",
      "[(3, -5), (-1, -7), (-1, -5), (1, -9), (-2, -4)]\n",
      "1\n",
      "[(-5, -5), (-5, -5), (-5, -5), (-5, -5), (-5, -5)]\n",
      "5\n",
      "[(-5, 3), (-3, -1), (-5, -1), (-1, 1), (-6, -2)]\n",
      "5\n",
      "[(3, 3), (1, -3), (-1, -1), (5, -3), (-3, -1)]\n"
     ]
    }
   ],
   "source": [
    "for inv in COBs_inv_2D:\n",
    "    points_xfmd = (inv @ points_rel_S1_arr.T).T\n",
    "#     print(inv)\n",
    "    diffs = [px - pt for px, pt in zip(points_xfmd, points)]\n",
    "    \n",
    "    # count number of unique pairs (fewer means more matches)\n",
    "    diffs = [tuple(diff) for diff in diffs]\n",
    "    print(len(set(diffs)))\n",
    "    \n",
    "    print(diffs)"
   ]
  },
  {
   "cell_type": "markdown",
   "id": "c02bec24",
   "metadata": {},
   "source": [
    "# test with points not in order..."
   ]
  },
  {
   "cell_type": "code",
   "execution_count": 150,
   "id": "4a03c8ff",
   "metadata": {
    "scrolled": true
   },
   "outputs": [
    {
     "data": {
      "text/plain": [
       "array([[ 2, -2],\n",
       "       [ 1, -5],\n",
       "       [ 4, -4],\n",
       "       [ 2, -1],\n",
       "       [ 1, -3]])"
      ]
     },
     "execution_count": 150,
     "metadata": {},
     "output_type": "execute_result"
    }
   ],
   "source": [
    "points_rel_S1_arr_scrambled = points_rel_S1_arr[[2,3,0,4,1], :]\n",
    "points_rel_S1_arr_scrambled"
   ]
  },
  {
   "cell_type": "code",
   "execution_count": 214,
   "id": "83cbd562",
   "metadata": {},
   "outputs": [
    {
     "name": "stdout",
     "output_type": "stream",
     "text": [
      "[[-2 -2]\n",
      " [-5 -1]\n",
      " [-4 -4]\n",
      " [-1 -2]\n",
      " [-3 -1]]\n",
      "[[-5 -1]\n",
      " [-4 -4]\n",
      " [-3 -1]\n",
      " [-2 -2]\n",
      " [-1 -2]]\n",
      "[array([-5, -5]), array([-5, -5]), array([-5, -5]), array([-5, -5]), array([-5, -5])]\n"
     ]
    }
   ],
   "source": [
    "inv = invs[-1] # the correct one\n",
    "points_xfmd = (inv @ points_rel_S1_arr_scrambled.T).T\n",
    "print(points_xfmd)\n",
    "points_xfmd = [tuple(point) for point in points_xfmd]\n",
    "points_xfmd = sorted(points_xfmd)\n",
    "points_xfmd = np.array(points_xfmd)\n",
    "print(points_xfmd)\n",
    "\n",
    "points_temp = [tuple(point) for point in points]\n",
    "points_temp = sorted(points_temp)\n",
    "points_temp = np.array(points_temp)\n",
    "print([px - pt for px, pt in zip(points_xfmd, points_temp)])"
   ]
  },
  {
   "cell_type": "markdown",
   "id": "e7384ebd",
   "metadata": {},
   "source": [
    "## subtract each point from every other point ?\n"
   ]
  },
  {
   "cell_type": "code",
   "execution_count": 227,
   "id": "27e7b012",
   "metadata": {},
   "outputs": [
    {
     "data": {
      "text/plain": [
       "((-5, -5), 5)"
      ]
     },
     "execution_count": 227,
     "metadata": {},
     "output_type": "execute_result"
    }
   ],
   "source": [
    "stuff = []\n",
    "for px, pt in product(points_xfmd, points_temp):\n",
    "    diff = tuple(px - pt)\n",
    "    stuff.append(diff)\n",
    "#     print(px, pt, diff)\n",
    "\n",
    "max(Counter(stuff).items(), key = lambda pair: pair[1])"
   ]
  },
  {
   "cell_type": "code",
   "execution_count": 228,
   "id": "0786f8fd",
   "metadata": {
    "scrolled": true
   },
   "outputs": [
    {
     "name": "stdout",
     "output_type": "stream",
     "text": [
      "((1, -7), 2)\n",
      "((-5, -5), 5)\n",
      "((-4, 0), 2)\n",
      "((4, 0), 2)\n"
     ]
    }
   ],
   "source": [
    "for inv in COBs_inv_2D:\n",
    "    points_xfmd = (inv @ points_rel_S1_arr.T).T\n",
    "    stuff = []\n",
    "    for px, pt in product(points_xfmd, points_temp):\n",
    "        diff = tuple(px - pt)\n",
    "        stuff.append(diff)\n",
    "    #     print(px, pt, diff)\n",
    "\n",
    "    print(max(Counter(stuff).items(), key = lambda pair: pair[1]))"
   ]
  },
  {
   "cell_type": "markdown",
   "id": "fe26cea8",
   "metadata": {},
   "source": [
    "## ^ this example is successful at least ... try the small demo example?"
   ]
  },
  {
   "cell_type": "code",
   "execution_count": null,
   "id": "617a33c0",
   "metadata": {},
   "outputs": [],
   "source": []
  },
  {
   "cell_type": "code",
   "execution_count": 288,
   "id": "7f23621b",
   "metadata": {},
   "outputs": [
    {
     "data": {
      "text/plain": [
       "((12, array([   68., -1246.,   -43.])), (12, array([  68., 1246.,  -43.])))"
      ]
     },
     "execution_count": 288,
     "metadata": {},
     "output_type": "execute_result"
    }
   ],
   "source": [
    "def find_relative_difference(reference_pts, relative_pts, print_stuff=False):\n",
    "    d_vects = []\n",
    "    for inv in COBs_inv_3D:\n",
    "        for p_rel, p_ref in product((inv @ relative_pts.T).T, reference_pts):\n",
    "            d_vect = tuple(p_rel - p_ref)\n",
    "            d_vects.append(d_vect)\n",
    "    if print_stuff:\n",
    "        print(sorted(Counter(d_vects).items(), key=lambda pair: -1 * pair[1])[0:10])\n",
    "    location, matches = max(Counter(d_vects).items(), key=lambda pair: pair[1])\n",
    "    location = np.array(location) * -1\n",
    "    return matches, location\n",
    "\n",
    "find_relative_difference(scanner_dict[0], scanner_dict[1]), find_relative_difference(scanner_dict[1], scanner_dict[0])"
   ]
  },
  {
   "cell_type": "code",
   "execution_count": 314,
   "id": "0940eeaf",
   "metadata": {},
   "outputs": [
    {
     "name": "stdout",
     "output_type": "stream",
     "text": [
      "[(((68, -1246, -43), 12), 12), (((1147, -167, -438), 16), 2), (((-282, -1010, -1479), 0), 1), (((-158, -1065, -169), 0), 1), (((-1524, 169, 156), 0), 1), (((-296, -1097, -1371), 0), 1), (((-1223, -1245, -1036), 0), 1), (((-1171, -779, -231), 0), 1), (((-1031, -733, -197), 0), 1), (((-1347, -1238, -1153), 0), 1)]\n",
      "[(((68, 1246, -43), 12), 12), (((167, 1147, 438), 6), 2), (((282, 1010, 1479), 0), 1), (((201, 1011, 1316), 0), 1), (((111, 1505, 540), 0), 1), (((-740, 1246, 1759), 0), 1), (((-309, 726, 923), 0), 1), (((-880, 1207, 1748), 0), 1), (((-744, 19, 55), 0), 1), (((163, 227, 1628), 0), 1)]\n"
     ]
    },
    {
     "data": {
      "text/plain": [
       "((12, (68, -1246, -43), 12), (12, (68, 1246, -43), 12))"
      ]
     },
     "execution_count": 314,
     "metadata": {},
     "output_type": "execute_result"
    }
   ],
   "source": [
    "def find_relative_difference_with_inv(reference_pts, relative_pts, print_stuff=False):\n",
    "    d_vects = []\n",
    "    for inv_idx, inv in enumerate(COBs_inv_3D):\n",
    "        for p_rel, p_ref in product((inv @ relative_pts.T).T, reference_pts):\n",
    "            d_vect = tuple(p_ref - p_rel)\n",
    "            d_vects.append((d_vect, inv_idx))\n",
    "    if print_stuff:\n",
    "        print(sorted(Counter(d_vects).items(), key=lambda pair: -1 * pair[1])[0:10])\n",
    "    (location, inv_idx), matches = max(Counter(d_vects).items(), key=lambda pair: pair[1])\n",
    "#     location = np.array(location) * -1\n",
    "    return matches, location, inv_idx\n",
    "\n",
    "find_relative_difference_with_inv(scanner_dict[0], scanner_dict[1], print_stuff=True), find_relative_difference_with_inv(scanner_dict[1], scanner_dict[0], print_stuff=True)"
   ]
  },
  {
   "cell_type": "code",
   "execution_count": 315,
   "id": "7126a82a",
   "metadata": {},
   "outputs": [
    {
     "name": "stdout",
     "output_type": "stream",
     "text": [
      "[(((-1104, -88, 113), 20), 12), (((41, 170, -16), 0), 1), (((-979, -976, 201), 0), 1), (((-245, 189, -1039), 0), 1), (((-1400, 43, -1354), 0), 1), (((-1429, 5, -1382), 0), 1), (((-1346, -901, -1004), 0), 1), (((146, -1054, -118), 0), 1), (((241, -907, -1016), 0), 1), (((-278, -29, -1084), 0), 1)]\n",
      "[(((88, 113, -1104), 7), 12), (((-41, -170, 16), 0), 1), (((-122, -169, -147), 0), 1), (((-212, 325, -923), 0), 1), (((-1063, 66, 296), 0), 1), (((-632, -454, -540), 0), 1), (((-1203, 27, 285), 0), 1), (((-1067, -1161, -1408), 0), 1), (((-160, -953, 165), 0), 1), (((-1187, 11, -1014), 0), 1)]\n"
     ]
    },
    {
     "data": {
      "text/plain": [
       "((12, (-1104, -88, 113), 20), (12, (88, 113, -1104), 7))"
      ]
     },
     "execution_count": 315,
     "metadata": {},
     "output_type": "execute_result"
    }
   ],
   "source": [
    "find_relative_difference_with_inv(scanner_dict[4], scanner_dict[1], print_stuff=True), find_relative_difference_with_inv(scanner_dict[1], scanner_dict[4], print_stuff=True)"
   ]
  },
  {
   "cell_type": "code",
   "execution_count": 316,
   "id": "25836fd6",
   "metadata": {
    "scrolled": true
   },
   "outputs": [
    {
     "name": "stdout",
     "output_type": "stream",
     "text": [
      "0 1 12 (68, -1246, -43) 12\n",
      "1 0 12 (68, 1246, -43) 12\n",
      "1 3 12 (160, -1134, -23) 0\n",
      "1 4 12 (88, 113, -1104) 7\n",
      "2 4 12 (1125, -168, 72) 4\n",
      "3 1 12 (-160, 1134, 23) 0\n",
      "4 1 12 (-1104, -88, 113) 20\n",
      "4 2 12 (168, -1125, 72) 4\n",
      "defaultdict(<class 'list'>, {0: [1], 1: [0, 3, 4], 2: [4], 3: [1], 4: [1, 2]})\n",
      "{(0, 1): (68, -1246, -43), (1, 0): (68, 1246, -43), (1, 3): (160, -1134, -23), (1, 4): (88, 113, -1104), (2, 4): (1125, -168, 72), (3, 1): (-160, 1134, 23), (4, 1): (-1104, -88, 113), (4, 2): (168, -1125, 72)}\n",
      "{(0, 1): 12, (1, 0): 12, (1, 3): 0, (1, 4): 7, (2, 4): 4, (3, 1): 0, (4, 1): 20, (4, 2): 4}\n"
     ]
    }
   ],
   "source": [
    "connections = defaultdict(list)\n",
    "offsets = dict()\n",
    "inv_idxs = dict()\n",
    "for ii in range(len(scanner_dict)):\n",
    "    for jj in range(len(scanner_dict)):\n",
    "        if ii == jj:\n",
    "            continue\n",
    "#         matches, location = find_relative_difference(scanner_dict[ii], scanner_dict[jj])\n",
    "        matches, location, inv_idx = find_relative_difference_with_inv(scanner_dict[ii], scanner_dict[jj])\n",
    "        if matches >= 12:\n",
    "#             print(ii, jj, matches, location)\n",
    "            print(ii, jj, matches, location, inv_idx)\n",
    "            # the 'ii' one is the reference\n",
    "            connections[ii].append(jj)\n",
    "            offsets[(ii, jj)] = location\n",
    "            inv_idxs[(ii, jj)] = inv_idx\n",
    "\n",
    "print(connections)\n",
    "print(offsets)\n",
    "print(inv_idxs)"
   ]
  },
  {
   "cell_type": "code",
   "execution_count": 323,
   "id": "9e9025ae",
   "metadata": {},
   "outputs": [
    {
     "name": "stdout",
     "output_type": "stream",
     "text": [
      "from 0 visit 1\n",
      "[   68 -1246   -43]\n",
      "from 1 visit 3\n",
      "[  228 -2380   -66]\n",
      "from 1 visit 4\n",
      "[  156 -1133 -1147]\n",
      "from 4 visit 2\n",
      "[  324 -2258 -1075]\n"
     ]
    }
   ],
   "source": [
    "def traverse_connections(conn, offsets, inv_idxs, node=0, current_offset=np.array([0, 0, 0]), already_visited=set()):\n",
    "    already_visited.add(node)\n",
    "    to_visit = set(conn[node]).difference(already_visited)\n",
    "    if len(to_visit) == 0:\n",
    "        return []\n",
    "    for child_node in to_visit:\n",
    "        print(f\"from {node} visit {child_node}\")\n",
    "        offset = current_offset + offsets[(node, child_node)] #( COBs_inv_3D[inv_idxs[(node, child_node)]] @ offsets[(node, child_node)] )\n",
    "        print(offset)\n",
    "        list_of_offsets = traverse_connections(conn, offsets, inv_idxs, child_node, offset, already_visited)\n",
    "        \n",
    "traverse_connections(connections, offsets, inv_idxs)"
   ]
  },
  {
   "cell_type": "code",
   "execution_count": 313,
   "id": "878eb029",
   "metadata": {},
   "outputs": [
    {
     "data": {
      "text/plain": [
       "array([[-1,  0,  0],\n",
       "       [ 0,  1,  0],\n",
       "       [ 0,  0, -1]])"
      ]
     },
     "execution_count": 313,
     "metadata": {},
     "output_type": "execute_result"
    }
   ],
   "source": [
    "COBs_inv_3D[inv_idxs[(0, 1)]]"
   ]
  },
  {
   "cell_type": "markdown",
   "id": "6bb3fd63",
   "metadata": {},
   "source": [
    "# Algorithm for the challenge\n",
    "## steps\n",
    "0. compute all 24 possible inverse COB matrices\n",
    "1. for each sensor $S_i$\n",
    "2. transform each point with all iCOB matrices\n",
    "    * perhaps sort the points, then slide one array over the other, differencing the overlap?\n",
    "3. subtract all transformed points from $S_0$ points\n",
    "    * **This doesn't work, as the point order may be different. Can the points be sorted?**\n",
    "4. if enough are the same, this gives the location of $S_0$ relative to $S_i$\n",
    "\n",
    "...\n",
    "\n",
    "repeat for other sensors.\n",
    "\n",
    "**how to handle offsetting, since not all points are in common?**"
   ]
  },
  {
   "cell_type": "code",
   "execution_count": null,
   "id": "79f07d30",
   "metadata": {},
   "outputs": [],
   "source": [
    "# assume given matrices, scanner info\n",
    "sp = find_scanner_pairs()\n",
    "find_abs_positions(sp)"
   ]
  }
 ],
 "metadata": {
  "kernelspec": {
   "display_name": "Python 3 (ipykernel)",
   "language": "python",
   "name": "python3"
  },
  "language_info": {
   "codemirror_mode": {
    "name": "ipython",
    "version": 3
   },
   "file_extension": ".py",
   "mimetype": "text/x-python",
   "name": "python",
   "nbconvert_exporter": "python",
   "pygments_lexer": "ipython3",
   "version": "3.9.7"
  }
 },
 "nbformat": 4,
 "nbformat_minor": 5
}
