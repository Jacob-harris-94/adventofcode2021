{
 "cells": [
  {
   "cell_type": "code",
   "execution_count": 1,
   "id": "b16643c8",
   "metadata": {},
   "outputs": [],
   "source": [
    "from collections import Counter, defaultdict"
   ]
  },
  {
   "cell_type": "code",
   "execution_count": 2,
   "id": "69e39419",
   "metadata": {},
   "outputs": [],
   "source": [
    "# SET THIS TO LOAD EXAMPLE DATA INSTEAD\n",
    "# example = True\n",
    "example = False\n",
    "\n",
    "if example:\n",
    "    fname = 'example.txt'\n",
    "else:\n",
    "    fname = 'input.txt'\n",
    "\n",
    "with open(fname) as f:\n",
    "    lines = f.readlines()\n",
    "\n",
    "split = lines.index('\\n')\n",
    "start, rules = lines[0:split], lines[split+1:]\n",
    "start = \"\".join(start).strip()\n",
    "rules = [tuple(rule.split(' -> ')) for rule in rules]\n",
    "pairs, els = zip(*rules)\n",
    "pairs = [tuple(pair) for pair in pairs]\n",
    "els = [el.strip() for el in els]\n",
    "\n",
    "rules = dict(zip(pairs, els))"
   ]
  },
  {
   "cell_type": "code",
   "execution_count": 3,
   "id": "b3773502",
   "metadata": {},
   "outputs": [],
   "source": [
    "previous = start\n",
    "\n",
    "pairs = defaultdict(int)\n",
    "for pair in zip(previous, previous[1:]):\n",
    "    pairs[pair] += 1"
   ]
  },
  {
   "cell_type": "code",
   "execution_count": 4,
   "id": "e9215329",
   "metadata": {},
   "outputs": [
    {
     "name": "stdout",
     "output_type": "stream",
     "text": [
      "part 1: 2874\n",
      "part 2: 5208377027195\n",
      "Wall time: 4 ms\n"
     ]
    }
   ],
   "source": [
    "%%time\n",
    "# if you have a pair (a, b) and a rule (a, b) -> c, then for every (a, b), add one to counts of (a, c) and (c, b)\n",
    "\n",
    "def find_ans(counts_dict):\n",
    "    els = set([sub for sublist in counts.keys() for sub in sublist])\n",
    "    sums = []\n",
    "    for el in els:\n",
    "        relevant = [sublist for sublist in counts.keys() if el in sublist]\n",
    "        rel_sum = int((sum([counts[rel] for rel in relevant]) + 1) // 2) + counts[(el, el)]//2\n",
    "        sums.append(rel_sum)\n",
    "    return max(sums) - min(sums)\n",
    "\n",
    "steps = 40\n",
    "\n",
    "pairs = defaultdict(int)\n",
    "for pair in zip(start, start[1:]):\n",
    "    pairs[pair] += 1\n",
    "previous = pairs\n",
    "for step in range(steps):\n",
    "    counts = defaultdict(int)\n",
    "    for a, b in previous:\n",
    "        c = rules[(a, b)]\n",
    "        num = previous[(a, b)]\n",
    "        counts[(a, c)] += num\n",
    "        counts[(c, b)] += num\n",
    "    previous = counts\n",
    "    if step == 10-1:\n",
    "        print(f\"part 1: {find_ans(counts)}\")\n",
    "\n",
    "print(f\"part 2: {find_ans(counts)}\")"
   ]
  },
  {
   "cell_type": "code",
   "execution_count": 5,
   "id": "bd5501e8",
   "metadata": {},
   "outputs": [],
   "source": [
    "# the slow way\n",
    "\n",
    "# steps = 10\n",
    "# previous = start\n",
    "# for _ in range(steps):\n",
    "#     output = []\n",
    "#     for a, b in zip(previous, previous[1:]):\n",
    "#         if (a, b) in rules:\n",
    "#             output += [a, rules[(a, b)]]\n",
    "#         else:\n",
    "#             output += [a]\n",
    "#     output += [previous[-1]]\n",
    "#     previous = output\n",
    "\n",
    "# counts = Counter(output).values()\n",
    "# max(counts) - min(counts)"
   ]
  }
 ],
 "metadata": {
  "kernelspec": {
   "display_name": "Python 3 (ipykernel)",
   "language": "python",
   "name": "python3"
  },
  "language_info": {
   "codemirror_mode": {
    "name": "ipython",
    "version": 3
   },
   "file_extension": ".py",
   "mimetype": "text/x-python",
   "name": "python",
   "nbconvert_exporter": "python",
   "pygments_lexer": "ipython3",
   "version": "3.9.7"
  }
 },
 "nbformat": 4,
 "nbformat_minor": 5
}
