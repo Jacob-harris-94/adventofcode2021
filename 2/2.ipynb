{
 "cells": [
  {
   "cell_type": "code",
   "execution_count": 1,
   "id": "47c70d40",
   "metadata": {},
   "outputs": [
    {
     "name": "stdout",
     "output_type": "stream",
     "text": [
      "hello world\n"
     ]
    }
   ],
   "source": [
    "print(\"hello world\")"
   ]
  },
  {
   "cell_type": "code",
   "execution_count": 12,
   "id": "69e39419",
   "metadata": {},
   "outputs": [],
   "source": [
    "# SET THIS TO LOAD EXAMPLE DATA INSTEAD\n",
    "# example = True\n",
    "example = False\n",
    "\n",
    "if example:\n",
    "    fname = 'example.txt'\n",
    "else:\n",
    "    fname = 'input.txt'\n",
    "\n",
    "with open(fname) as f:\n",
    "    lines = f.readlines()\n",
    "\n",
    "# \n",
    "def load_line(line): \n",
    "    d, num = line.split(' ')\n",
    "    return d, int(num)\n",
    "    \n",
    "inputs = [load_line(line) for line in lines]"
   ]
  },
  {
   "cell_type": "code",
   "execution_count": 13,
   "id": "d4286417",
   "metadata": {},
   "outputs": [],
   "source": [
    "dep = 0\n",
    "fwd = 0\n",
    "aim = 0\n",
    "for d, num in inputs:\n",
    "    if d == 'forward': \n",
    "        fwd += num\n",
    "        dep += aim * num\n",
    "    elif d == 'up': \n",
    "        aim -= num\n",
    "    elif d == 'down': \n",
    "        aim += num\n",
    "    else:\n",
    "        print(\"BAD\")"
   ]
  },
  {
   "cell_type": "code",
   "execution_count": 14,
   "id": "3b645604",
   "metadata": {},
   "outputs": [
    {
     "data": {
      "text/plain": [
       "1739283308"
      ]
     },
     "execution_count": 14,
     "metadata": {},
     "output_type": "execute_result"
    }
   ],
   "source": [
    "dep * fwd"
   ]
  }
 ],
 "metadata": {
  "kernelspec": {
   "display_name": "Python 3 (ipykernel)",
   "language": "python",
   "name": "python3"
  },
  "language_info": {
   "codemirror_mode": {
    "name": "ipython",
    "version": 3
   },
   "file_extension": ".py",
   "mimetype": "text/x-python",
   "name": "python",
   "nbconvert_exporter": "python",
   "pygments_lexer": "ipython3",
   "version": "3.9.7"
  }
 },
 "nbformat": 4,
 "nbformat_minor": 5
}
