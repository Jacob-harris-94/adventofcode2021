{
 "cells": [
  {
   "cell_type": "code",
   "execution_count": 1,
   "id": "47c70d40",
   "metadata": {},
   "outputs": [
    {
     "name": "stdout",
     "output_type": "stream",
     "text": [
      "hello world\n"
     ]
    }
   ],
   "source": [
    "print(\"hello world\")"
   ]
  },
  {
   "cell_type": "code",
   "execution_count": 10,
   "id": "69e39419",
   "metadata": {},
   "outputs": [],
   "source": [
    "# SET THIS TO LOAD EXAMPLE DATA INSTEAD\n",
    "example = True\n",
    "# example = False\n",
    "\n",
    "if example:\n",
    "    fname = 'example.txt'\n",
    "else:\n",
    "    fname = 'input.txt'\n",
    "\n",
    "with open(fname) as f:\n",
    "    lines = f.readlines()\n",
    "\n",
    "# \n",
    "def load_line(line): \n",
    "    return int(line)\n",
    "    \n",
    "inputs = [load_line(line) for line in lines]"
   ]
  },
  {
   "cell_type": "code",
   "execution_count": null,
   "id": "d4286417",
   "metadata": {},
   "outputs": [],
   "source": []
  },
  {
   "cell_type": "code",
   "execution_count": 11,
   "id": "91029bd7",
   "metadata": {},
   "outputs": [],
   "source": [
    "nums = inputs"
   ]
  },
  {
   "cell_type": "code",
   "execution_count": 12,
   "id": "3b645604",
   "metadata": {},
   "outputs": [
    {
     "data": {
      "text/plain": [
       "7"
      ]
     },
     "execution_count": 12,
     "metadata": {},
     "output_type": "execute_result"
    }
   ],
   "source": [
    "sum(b > a for a, b in zip(nums, nums[1:]))"
   ]
  },
  {
   "cell_type": "code",
   "execution_count": 13,
   "id": "38d60ae6",
   "metadata": {},
   "outputs": [],
   "source": [
    "numsums = [a+b+c for a, b, c in zip(nums, nums[1:], nums[2:])]"
   ]
  },
  {
   "cell_type": "code",
   "execution_count": 14,
   "id": "ca733dee",
   "metadata": {},
   "outputs": [
    {
     "data": {
      "text/plain": [
       "5"
      ]
     },
     "execution_count": 14,
     "metadata": {},
     "output_type": "execute_result"
    }
   ],
   "source": [
    "sum(b > a for a, b in zip(numsums, numsums[1:]))"
   ]
  },
  {
   "cell_type": "code",
   "execution_count": null,
   "id": "cb5f5480",
   "metadata": {},
   "outputs": [],
   "source": []
  }
 ],
 "metadata": {
  "kernelspec": {
   "display_name": "Python 3 (ipykernel)",
   "language": "python",
   "name": "python3"
  },
  "language_info": {
   "codemirror_mode": {
    "name": "ipython",
    "version": 3
   },
   "file_extension": ".py",
   "mimetype": "text/x-python",
   "name": "python",
   "nbconvert_exporter": "python",
   "pygments_lexer": "ipython3",
   "version": "3.9.7"
  }
 },
 "nbformat": 4,
 "nbformat_minor": 5
}
