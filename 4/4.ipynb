{
 "cells": [
  {
   "cell_type": "code",
   "execution_count": 1,
   "id": "714f53aa",
   "metadata": {},
   "outputs": [],
   "source": [
    "import numpy as np"
   ]
  },
  {
   "cell_type": "code",
   "execution_count": 13,
   "id": "69e39419",
   "metadata": {},
   "outputs": [],
   "source": [
    "# SET THIS TO LOAD EXAMPLE DATA INSTEAD\n",
    "# example = True\n",
    "example = False\n",
    "\n",
    "if example:\n",
    "    fname = 'example.txt'\n",
    "else:\n",
    "    fname = 'input.txt'\n",
    "\n",
    "with open(fname) as f:\n",
    "    lines = f.readlines()\n",
    "\n",
    "# SET THIS TO LOAD DATA LINES\n",
    "def load_line(line): \n",
    "    return [int(char) for char in line.strip()]\n",
    "\n",
    "moves = [int(num) for num in lines[0].strip().split(',')]\n",
    "\n",
    "\n",
    "# inputs = [load_line(line) for line in lines]\n",
    "\n",
    "assert (len(lines)-1)/6 == (len(lines)-1)//6\n",
    "num_boards = (len(lines)-1)//6\n",
    "\n",
    "boards = []\n",
    "for ii in range(num_boards):\n",
    "    boards.append( [[int(num) for num in row.strip().split(' ') if num] for row in lines[2+6*ii : 7+6*ii]] )\n",
    "\n",
    "boards = np.array(boards)"
   ]
  },
  {
   "cell_type": "code",
   "execution_count": 14,
   "id": "a21aafd1",
   "metadata": {},
   "outputs": [
    {
     "name": "stdout",
     "output_type": "stream",
     "text": [
      "winner\n"
     ]
    },
    {
     "data": {
      "text/plain": [
       "6592"
      ]
     },
     "execution_count": 14,
     "metadata": {},
     "output_type": "execute_result"
    }
   ],
   "source": [
    "marks = np.full(boards.shape, False)\n",
    "\n",
    "for move in moves: # TODO: temp testing\n",
    "#     print(move)\n",
    "    marks[boards == move] = True\n",
    "    if (marks.sum(axis=1) == 5).any() | (marks.sum(axis=2) == 5).any() :\n",
    "        print(\"winner\")\n",
    "        # get index of winning board\n",
    "        if (marks.sum(axis=1) == 5).any():  \n",
    "            board_idx = np.where(marks.sum(axis=1) == 5)[0][0]\n",
    "        elif (marks.sum(axis=2) == 5).any():  \n",
    "            board_idx = np.where(marks.sum(axis=2) == 5)[0][0]\n",
    "        else: \n",
    "            print(\"BAD\")\n",
    "        # sum of unmarked\n",
    "        unmarked_sum = (boards[board_idx] * ~marks[board_idx]).sum()\n",
    "        # score\n",
    "        score = move * unmarked_sum\n",
    "        break\n",
    "    \n",
    "#marks, score\n",
    "score"
   ]
  },
  {
   "cell_type": "code",
   "execution_count": 16,
   "id": "ec4dee64",
   "metadata": {},
   "outputs": [],
   "source": [
    "# marks.sum(axis=1) # cols\n",
    "# marks.sum(axis=2) # rows"
   ]
  },
  {
   "cell_type": "code",
   "execution_count": 12,
   "id": "7120fd2f",
   "metadata": {},
   "outputs": [],
   "source": [
    "# (marks.sum(axis=1) == 5).any() | (marks.sum(axis=2)).any()"
   ]
  },
  {
   "cell_type": "code",
   "execution_count": 11,
   "id": "c8ccfd4b",
   "metadata": {},
   "outputs": [],
   "source": [
    "# (marks.sum(axis=1) == 5), (marks.sum(axis=2) == 5)"
   ]
  },
  {
   "cell_type": "code",
   "execution_count": 8,
   "id": "d3ada3ba",
   "metadata": {
    "scrolled": true
   },
   "outputs": [],
   "source": [
    "# np.where(marks.sum(axis=2) == 5)\n",
    "\n",
    "# board = np.where(marks.sum(axis=2) == 5)[0][0]\n",
    "# (boards[2] * ~marks[2]).sum()"
   ]
  },
  {
   "cell_type": "code",
   "execution_count": 9,
   "id": "d3eac6bd",
   "metadata": {},
   "outputs": [
    {
     "data": {
      "text/plain": [
       "100"
      ]
     },
     "execution_count": 9,
     "metadata": {},
     "output_type": "execute_result"
    }
   ],
   "source": [
    "len(boards)"
   ]
  },
  {
   "cell_type": "code",
   "execution_count": 17,
   "id": "f64aafc2",
   "metadata": {},
   "outputs": [
    {
     "data": {
      "text/plain": [
       "31755"
      ]
     },
     "execution_count": 17,
     "metadata": {},
     "output_type": "execute_result"
    }
   ],
   "source": [
    "marks = np.full(boards.shape, False)\n",
    "winning_boards = []\n",
    "\n",
    "for move in moves:\n",
    "    \n",
    "    # mark all\n",
    "    marks[boards == move] = True\n",
    "        \n",
    "    # get index of latest winning board\n",
    "    for board_idx in range(len(boards)):\n",
    "        if (marks[board_idx].sum(axis=0) == 5).any() | (marks[board_idx].sum(axis=1) == 5).any() :\n",
    "            if board_idx not in winning_boards: \n",
    "                winning_boards.append(board_idx)\n",
    "\n",
    "                # sum of unmarked\n",
    "                unmarked_sum = (boards[board_idx] * ~marks[board_idx]).sum()\n",
    "                # score\n",
    "                score = move * unmarked_sum\n",
    "\n",
    "    \n",
    "#marks, score\n",
    "score"
   ]
  },
  {
   "cell_type": "code",
   "execution_count": null,
   "id": "c2ec45ee",
   "metadata": {},
   "outputs": [],
   "source": []
  }
 ],
 "metadata": {
  "kernelspec": {
   "display_name": "Python 3 (ipykernel)",
   "language": "python",
   "name": "python3"
  },
  "language_info": {
   "codemirror_mode": {
    "name": "ipython",
    "version": 3
   },
   "file_extension": ".py",
   "mimetype": "text/x-python",
   "name": "python",
   "nbconvert_exporter": "python",
   "pygments_lexer": "ipython3",
   "version": "3.9.7"
  }
 },
 "nbformat": 4,
 "nbformat_minor": 5
}
